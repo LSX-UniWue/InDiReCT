{
 "cells": [
  {
   "cell_type": "markdown",
   "metadata": {},
   "source": [
    "# Prompt Analysis"
   ]
  },
  {
   "cell_type": "code",
   "execution_count": 1,
   "metadata": {},
   "outputs": [],
   "source": [
    "# %load_ext autoreload\n",
    "# %autoreload 2"
   ]
  },
  {
   "cell_type": "code",
   "execution_count": 2,
   "metadata": {},
   "outputs": [],
   "source": [
    "import sys\n",
    "sys.path.append('../')\n",
    "\n",
    "from utils import get_latex_table, compute_accuracies\n",
    "from IPython.display import display\n",
    "\n",
    "import torch\n",
    "import numpy as np\n",
    "from glob import glob\n",
    "import pandas as pd"
   ]
  },
  {
   "cell_type": "code",
   "execution_count": 3,
   "metadata": {},
   "outputs": [],
   "source": [
    "np.random.seed(42)"
   ]
  },
  {
   "cell_type": "code",
   "execution_count": 4,
   "metadata": {},
   "outputs": [],
   "source": [
    "# Hyperparameters\n",
    "num_repetitions = 5"
   ]
  },
  {
   "cell_type": "markdown",
   "metadata": {},
   "source": [
    "# Load Embeddings"
   ]
  },
  {
   "cell_type": "code",
   "execution_count": 5,
   "metadata": {},
   "outputs": [],
   "source": [
    "# load image features and labels\n",
    "image_features = torch.load(\"../data/cars196/image_features.pt\")\n",
    "df = pd.read_csv(\"../data/cars196/Cars196.csv\")"
   ]
  },
  {
   "cell_type": "markdown",
   "metadata": {},
   "source": [
    "We only use the test images from the dataset."
   ]
  },
  {
   "cell_type": "code",
   "execution_count": 6,
   "metadata": {},
   "outputs": [],
   "source": [
    "cutoff = 8054\n",
    "image_features = {i: item for i, item in image_features.items() if i > cutoff}\n",
    "df = df[cutoff:]"
   ]
  },
  {
   "cell_type": "code",
   "execution_count": 7,
   "metadata": {},
   "outputs": [],
   "source": [
    "image_features = [image_features[i] for i in sorted(image_features.keys())]\n",
    "image_features = torch.tensor(np.stack(image_features, axis=0))"
   ]
  },
  {
   "cell_type": "code",
   "execution_count": 8,
   "metadata": {},
   "outputs": [
    {
     "data": {
      "text/plain": [
       "torch.Size([8131, 512])"
      ]
     },
     "execution_count": 8,
     "metadata": {},
     "output_type": "execute_result"
    }
   ],
   "source": [
    "image_features.shape"
   ]
  },
  {
   "cell_type": "code",
   "execution_count": 9,
   "metadata": {},
   "outputs": [
    {
     "data": {
      "text/html": [
       "<div>\n",
       "<style scoped>\n",
       "    .dataframe tbody tr th:only-of-type {\n",
       "        vertical-align: middle;\n",
       "    }\n",
       "\n",
       "    .dataframe tbody tr th {\n",
       "        vertical-align: top;\n",
       "    }\n",
       "\n",
       "    .dataframe thead th {\n",
       "        text-align: right;\n",
       "    }\n",
       "</style>\n",
       "<table border=\"1\" class=\"dataframe\">\n",
       "  <thead>\n",
       "    <tr style=\"text-align: right;\">\n",
       "      <th></th>\n",
       "      <th>img_name</th>\n",
       "      <th>class_name</th>\n",
       "      <th>class_index</th>\n",
       "      <th>manufacturer</th>\n",
       "      <th>model</th>\n",
       "      <th>type</th>\n",
       "      <th>year</th>\n",
       "      <th>color</th>\n",
       "    </tr>\n",
       "  </thead>\n",
       "  <tbody>\n",
       "    <tr>\n",
       "      <th>8054</th>\n",
       "      <td>8055</td>\n",
       "      <td>FIAT 500 Abarth 2012</td>\n",
       "      <td>98</td>\n",
       "      <td>FIAT</td>\n",
       "      <td>500 Abarth</td>\n",
       "      <td>Hatchback</td>\n",
       "      <td>2012</td>\n",
       "      <td>black</td>\n",
       "    </tr>\n",
       "    <tr>\n",
       "      <th>8055</th>\n",
       "      <td>8056</td>\n",
       "      <td>FIAT 500 Abarth 2012</td>\n",
       "      <td>98</td>\n",
       "      <td>FIAT</td>\n",
       "      <td>500 Abarth</td>\n",
       "      <td>Hatchback</td>\n",
       "      <td>2012</td>\n",
       "      <td>black</td>\n",
       "    </tr>\n",
       "    <tr>\n",
       "      <th>8056</th>\n",
       "      <td>8057</td>\n",
       "      <td>FIAT 500 Abarth 2012</td>\n",
       "      <td>98</td>\n",
       "      <td>FIAT</td>\n",
       "      <td>500 Abarth</td>\n",
       "      <td>Hatchback</td>\n",
       "      <td>2012</td>\n",
       "      <td>black</td>\n",
       "    </tr>\n",
       "    <tr>\n",
       "      <th>8057</th>\n",
       "      <td>8058</td>\n",
       "      <td>FIAT 500 Abarth 2012</td>\n",
       "      <td>98</td>\n",
       "      <td>FIAT</td>\n",
       "      <td>500 Abarth</td>\n",
       "      <td>Hatchback</td>\n",
       "      <td>2012</td>\n",
       "      <td>black</td>\n",
       "    </tr>\n",
       "    <tr>\n",
       "      <th>8058</th>\n",
       "      <td>8059</td>\n",
       "      <td>FIAT 500 Abarth 2012</td>\n",
       "      <td>98</td>\n",
       "      <td>FIAT</td>\n",
       "      <td>500 Abarth</td>\n",
       "      <td>Hatchback</td>\n",
       "      <td>2012</td>\n",
       "      <td>black</td>\n",
       "    </tr>\n",
       "    <tr>\n",
       "      <th>...</th>\n",
       "      <td>...</td>\n",
       "      <td>...</td>\n",
       "      <td>...</td>\n",
       "      <td>...</td>\n",
       "      <td>...</td>\n",
       "      <td>...</td>\n",
       "      <td>...</td>\n",
       "      <td>...</td>\n",
       "    </tr>\n",
       "    <tr>\n",
       "      <th>16180</th>\n",
       "      <td>16181</td>\n",
       "      <td>smart fortwo Convertible 2012</td>\n",
       "      <td>195</td>\n",
       "      <td>smart</td>\n",
       "      <td>fortwo</td>\n",
       "      <td>Convertible</td>\n",
       "      <td>2012</td>\n",
       "      <td>black</td>\n",
       "    </tr>\n",
       "    <tr>\n",
       "      <th>16181</th>\n",
       "      <td>16182</td>\n",
       "      <td>smart fortwo Convertible 2012</td>\n",
       "      <td>195</td>\n",
       "      <td>smart</td>\n",
       "      <td>fortwo</td>\n",
       "      <td>Convertible</td>\n",
       "      <td>2012</td>\n",
       "      <td>other</td>\n",
       "    </tr>\n",
       "    <tr>\n",
       "      <th>16182</th>\n",
       "      <td>16183</td>\n",
       "      <td>smart fortwo Convertible 2012</td>\n",
       "      <td>195</td>\n",
       "      <td>smart</td>\n",
       "      <td>fortwo</td>\n",
       "      <td>Convertible</td>\n",
       "      <td>2012</td>\n",
       "      <td>red</td>\n",
       "    </tr>\n",
       "    <tr>\n",
       "      <th>16183</th>\n",
       "      <td>16184</td>\n",
       "      <td>smart fortwo Convertible 2012</td>\n",
       "      <td>195</td>\n",
       "      <td>smart</td>\n",
       "      <td>fortwo</td>\n",
       "      <td>Convertible</td>\n",
       "      <td>2012</td>\n",
       "      <td>white</td>\n",
       "    </tr>\n",
       "    <tr>\n",
       "      <th>16184</th>\n",
       "      <td>16185</td>\n",
       "      <td>smart fortwo Convertible 2012</td>\n",
       "      <td>195</td>\n",
       "      <td>smart</td>\n",
       "      <td>fortwo</td>\n",
       "      <td>Convertible</td>\n",
       "      <td>2012</td>\n",
       "      <td>silver</td>\n",
       "    </tr>\n",
       "  </tbody>\n",
       "</table>\n",
       "<p>8131 rows × 8 columns</p>\n",
       "</div>"
      ],
      "text/plain": [
       "       img_name                     class_name  class_index manufacturer  \\\n",
       "8054       8055           FIAT 500 Abarth 2012           98         FIAT   \n",
       "8055       8056           FIAT 500 Abarth 2012           98         FIAT   \n",
       "8056       8057           FIAT 500 Abarth 2012           98         FIAT   \n",
       "8057       8058           FIAT 500 Abarth 2012           98         FIAT   \n",
       "8058       8059           FIAT 500 Abarth 2012           98         FIAT   \n",
       "...         ...                            ...          ...          ...   \n",
       "16180     16181  smart fortwo Convertible 2012          195        smart   \n",
       "16181     16182  smart fortwo Convertible 2012          195        smart   \n",
       "16182     16183  smart fortwo Convertible 2012          195        smart   \n",
       "16183     16184  smart fortwo Convertible 2012          195        smart   \n",
       "16184     16185  smart fortwo Convertible 2012          195        smart   \n",
       "\n",
       "            model         type  year   color  \n",
       "8054   500 Abarth    Hatchback  2012   black  \n",
       "8055   500 Abarth    Hatchback  2012   black  \n",
       "8056   500 Abarth    Hatchback  2012   black  \n",
       "8057   500 Abarth    Hatchback  2012   black  \n",
       "8058   500 Abarth    Hatchback  2012   black  \n",
       "...           ...          ...   ...     ...  \n",
       "16180      fortwo  Convertible  2012   black  \n",
       "16181      fortwo  Convertible  2012   other  \n",
       "16182      fortwo  Convertible  2012     red  \n",
       "16183      fortwo  Convertible  2012   white  \n",
       "16184      fortwo  Convertible  2012  silver  \n",
       "\n",
       "[8131 rows x 8 columns]"
      ]
     },
     "execution_count": 9,
     "metadata": {},
     "output_type": "execute_result"
    }
   ],
   "source": [
    "df"
   ]
  },
  {
   "cell_type": "markdown",
   "metadata": {},
   "source": [
    "# Car Model"
   ]
  },
  {
   "cell_type": "code",
   "execution_count": 12,
   "metadata": {},
   "outputs": [],
   "source": [
    "# # Scrapes all car model names from the kbb page\n",
    "# car_models = pd.read_html(\"https://www.kbb.com/car-make-model-list/new/view-all/make/\")\n",
    "# all_models = car_models[0][\"Make\"] + \" \" + car_models[0][\".css-z687n{margin:10px 24px 10px 0px;}Model\"]\n",
    "# all_models = all_models.dropna().tolist()\n",
    "# all_models = list(set(all_models))"
   ]
  },
  {
   "cell_type": "code",
   "execution_count": 13,
   "metadata": {},
   "outputs": [],
   "source": [
    "# torch.save(all_models, \"../data/cars196/all_models_scraped_kbb_2022-08-17.pt\")"
   ]
  },
  {
   "cell_type": "code",
   "execution_count": 15,
   "metadata": {},
   "outputs": [],
   "source": [
    "all_models = torch.load(\"../data/cars196/all_models_scraped_kbb_2022-08-17.pt\")"
   ]
  },
  {
   "cell_type": "code",
   "execution_count": 16,
   "metadata": {},
   "outputs": [
    {
     "data": {
      "text/plain": [
       "553"
      ]
     },
     "execution_count": 16,
     "metadata": {},
     "output_type": "execute_result"
    }
   ],
   "source": [
    "len(all_models)"
   ]
  },
  {
   "cell_type": "code",
   "execution_count": 17,
   "metadata": {},
   "outputs": [],
   "source": [
    "# number_samples = [10, 20, 30, 40, 50, 60, 70, 80, 90, 100]\n",
    "number_samples = [110, 120, 130, 140, 150]"
   ]
  },
  {
   "cell_type": "code",
   "execution_count": 18,
   "metadata": {},
   "outputs": [
    {
     "name": "stdout",
     "output_type": "stream",
     "text": [
      "110 Samples; Run 1\n",
      "Creating text features\n",
      "Getting optimized CLIP performance\n"
     ]
    },
    {
     "name": "stderr",
     "output_type": "stream",
     "text": [
      "Loss (1745): 0.010866930708289146: : 1745it [00:12, 135.90it/s]\n"
     ]
    },
    {
     "name": "stdout",
     "output_type": "stream",
     "text": [
      "Finished optimization. Best loss (0.008945324458181858) achieved after 1645 iterations.\n",
      "110 Samples; Run 2\n",
      "Creating text features\n",
      "Getting optimized CLIP performance\n"
     ]
    },
    {
     "name": "stderr",
     "output_type": "stream",
     "text": [
      "Loss (1520): 0.011797674000263214: : 1520it [00:12, 118.48it/s]\n"
     ]
    },
    {
     "name": "stdout",
     "output_type": "stream",
     "text": [
      "Finished optimization. Best loss (0.010914814658463001) achieved after 1420 iterations.\n",
      "110 Samples; Run 3\n",
      "Creating text features\n",
      "Getting optimized CLIP performance\n"
     ]
    },
    {
     "name": "stderr",
     "output_type": "stream",
     "text": [
      "Loss (1358): 0.012299204245209694: : 1358it [00:17, 78.39it/s]\n"
     ]
    },
    {
     "name": "stdout",
     "output_type": "stream",
     "text": [
      "Finished optimization. Best loss (0.010449138469994068) achieved after 1258 iterations.\n",
      "110 Samples; Run 4\n",
      "Creating text features\n",
      "Getting optimized CLIP performance\n"
     ]
    },
    {
     "name": "stderr",
     "output_type": "stream",
     "text": [
      "Loss (1302): 0.01239329669624567: : 1302it [00:10, 125.30it/s] \n"
     ]
    },
    {
     "name": "stdout",
     "output_type": "stream",
     "text": [
      "Finished optimization. Best loss (0.011103208176791668) achieved after 1202 iterations.\n",
      "110 Samples; Run 5\n",
      "Creating text features\n",
      "Getting optimized CLIP performance\n"
     ]
    },
    {
     "name": "stderr",
     "output_type": "stream",
     "text": [
      "Loss (1197): 0.012469707056879997: : 1197it [00:08, 134.71it/s]\n"
     ]
    },
    {
     "name": "stdout",
     "output_type": "stream",
     "text": [
      "Finished optimization. Best loss (0.012230615131556988) achieved after 1097 iterations.\n",
      "120 Samples; Run 1\n",
      "Creating text features\n",
      "Getting optimized CLIP performance\n"
     ]
    },
    {
     "name": "stderr",
     "output_type": "stream",
     "text": [
      "Loss (1248): 0.014585975557565689: : 1248it [00:09, 130.98it/s]\n"
     ]
    },
    {
     "name": "stdout",
     "output_type": "stream",
     "text": [
      "Finished optimization. Best loss (0.01337459310889244) achieved after 1148 iterations.\n",
      "120 Samples; Run 2\n",
      "Creating text features\n",
      "Getting optimized CLIP performance\n"
     ]
    },
    {
     "name": "stderr",
     "output_type": "stream",
     "text": [
      "Loss (2052): 0.01163273025304079: : 2052it [00:20, 100.62it/s] \n"
     ]
    },
    {
     "name": "stdout",
     "output_type": "stream",
     "text": [
      "Finished optimization. Best loss (0.0103429164737463) achieved after 1952 iterations.\n",
      "120 Samples; Run 3\n",
      "Creating text features\n",
      "Getting optimized CLIP performance\n"
     ]
    },
    {
     "name": "stderr",
     "output_type": "stream",
     "text": [
      "Loss (2595): 0.01134711317718029: : 2595it [00:26, 96.18it/s]  \n"
     ]
    },
    {
     "name": "stdout",
     "output_type": "stream",
     "text": [
      "Finished optimization. Best loss (0.010093646124005318) achieved after 2495 iterations.\n",
      "120 Samples; Run 4\n",
      "Creating text features\n",
      "Getting optimized CLIP performance\n"
     ]
    },
    {
     "name": "stderr",
     "output_type": "stream",
     "text": [
      "Loss (1518): 0.0110417939722538: : 1518it [00:13, 109.61it/s]  \n"
     ]
    },
    {
     "name": "stdout",
     "output_type": "stream",
     "text": [
      "Finished optimization. Best loss (0.010892817750573158) achieved after 1418 iterations.\n",
      "120 Samples; Run 5\n",
      "Creating text features\n",
      "Getting optimized CLIP performance\n"
     ]
    },
    {
     "name": "stderr",
     "output_type": "stream",
     "text": [
      "Loss (1687): 0.012092257849872112: : 1687it [00:14, 113.24it/s]\n"
     ]
    },
    {
     "name": "stdout",
     "output_type": "stream",
     "text": [
      "Finished optimization. Best loss (0.011334397830069065) achieved after 1587 iterations.\n",
      "130 Samples; Run 1\n",
      "Creating text features\n",
      "Getting optimized CLIP performance\n"
     ]
    },
    {
     "name": "stderr",
     "output_type": "stream",
     "text": [
      "Loss (2370): 0.012716713361442089: : 2370it [00:27, 86.12it/s] \n"
     ]
    },
    {
     "name": "stdout",
     "output_type": "stream",
     "text": [
      "Finished optimization. Best loss (0.011775221675634384) achieved after 2270 iterations.\n",
      "130 Samples; Run 2\n",
      "Creating text features\n",
      "Getting optimized CLIP performance\n"
     ]
    },
    {
     "name": "stderr",
     "output_type": "stream",
     "text": [
      "Loss (1843): 0.014571169391274452: : 1843it [00:24, 74.77it/s]\n"
     ]
    },
    {
     "name": "stdout",
     "output_type": "stream",
     "text": [
      "Finished optimization. Best loss (0.014345630072057247) achieved after 1743 iterations.\n",
      "130 Samples; Run 3\n",
      "Creating text features\n",
      "Getting optimized CLIP performance\n"
     ]
    },
    {
     "name": "stderr",
     "output_type": "stream",
     "text": [
      "Loss (1848): 0.015455317683517933: : 1848it [00:22, 81.97it/s] \n"
     ]
    },
    {
     "name": "stdout",
     "output_type": "stream",
     "text": [
      "Finished optimization. Best loss (0.013896002434194088) achieved after 1748 iterations.\n",
      "130 Samples; Run 4\n",
      "Creating text features\n",
      "Getting optimized CLIP performance\n"
     ]
    },
    {
     "name": "stderr",
     "output_type": "stream",
     "text": [
      "Loss (1690): 0.016017742455005646: : 1690it [00:13, 128.53it/s]\n"
     ]
    },
    {
     "name": "stdout",
     "output_type": "stream",
     "text": [
      "Finished optimization. Best loss (0.015314096584916115) achieved after 1590 iterations.\n",
      "130 Samples; Run 5\n",
      "Creating text features\n",
      "Getting optimized CLIP performance\n"
     ]
    },
    {
     "name": "stderr",
     "output_type": "stream",
     "text": [
      "Loss (1413): 0.015868328511714935: : 1413it [00:10, 139.34it/s]\n"
     ]
    },
    {
     "name": "stdout",
     "output_type": "stream",
     "text": [
      "Finished optimization. Best loss (0.015044826082885265) achieved after 1313 iterations.\n",
      "140 Samples; Run 1\n",
      "Creating text features\n",
      "Getting optimized CLIP performance\n"
     ]
    },
    {
     "name": "stderr",
     "output_type": "stream",
     "text": [
      "Loss (2685): 0.017380202189087868: : 2685it [00:22, 119.35it/s]\n"
     ]
    },
    {
     "name": "stdout",
     "output_type": "stream",
     "text": [
      "Finished optimization. Best loss (0.016968613490462303) achieved after 2585 iterations.\n",
      "140 Samples; Run 2\n",
      "Creating text features\n",
      "Getting optimized CLIP performance\n"
     ]
    },
    {
     "name": "stderr",
     "output_type": "stream",
     "text": [
      "Loss (2853): 0.01715206541121006: : 2853it [00:24, 116.77it/s] \n"
     ]
    },
    {
     "name": "stdout",
     "output_type": "stream",
     "text": [
      "Finished optimization. Best loss (0.01681957021355629) achieved after 2753 iterations.\n",
      "140 Samples; Run 3\n",
      "Creating text features\n",
      "Getting optimized CLIP performance\n"
     ]
    },
    {
     "name": "stderr",
     "output_type": "stream",
     "text": [
      "Loss (1681): 0.019832907244563103: : 1681it [00:18, 89.99it/s]\n"
     ]
    },
    {
     "name": "stdout",
     "output_type": "stream",
     "text": [
      "Finished optimization. Best loss (0.019431505352258682) achieved after 1581 iterations.\n",
      "140 Samples; Run 4\n",
      "Creating text features\n",
      "Getting optimized CLIP performance\n"
     ]
    },
    {
     "name": "stderr",
     "output_type": "stream",
     "text": [
      "Loss (2795): 0.01850137673318386: : 2795it [00:28, 96.79it/s]  \n"
     ]
    },
    {
     "name": "stdout",
     "output_type": "stream",
     "text": [
      "Finished optimization. Best loss (0.0184063371270895) achieved after 2695 iterations.\n",
      "140 Samples; Run 5\n",
      "Creating text features\n",
      "Getting optimized CLIP performance\n"
     ]
    },
    {
     "name": "stderr",
     "output_type": "stream",
     "text": [
      "Loss (2421): 0.018231680616736412: : 2421it [00:23, 102.95it/s]\n"
     ]
    },
    {
     "name": "stdout",
     "output_type": "stream",
     "text": [
      "Finished optimization. Best loss (0.017495816573500633) achieved after 2321 iterations.\n",
      "150 Samples; Run 1\n",
      "Creating text features\n",
      "Getting optimized CLIP performance\n"
     ]
    },
    {
     "name": "stderr",
     "output_type": "stream",
     "text": [
      "Loss (2643): 0.022859107702970505: : 2643it [00:24, 107.72it/s]\n"
     ]
    },
    {
     "name": "stdout",
     "output_type": "stream",
     "text": [
      "Finished optimization. Best loss (0.02268695831298828) achieved after 2543 iterations.\n",
      "150 Samples; Run 2\n",
      "Creating text features\n",
      "Getting optimized CLIP performance\n"
     ]
    },
    {
     "name": "stderr",
     "output_type": "stream",
     "text": [
      "Loss (2811): 0.02330043725669384: : 2811it [00:20, 135.53it/s] \n"
     ]
    },
    {
     "name": "stdout",
     "output_type": "stream",
     "text": [
      "Finished optimization. Best loss (0.022672148421406746) achieved after 2711 iterations.\n",
      "150 Samples; Run 3\n",
      "Creating text features\n",
      "Getting optimized CLIP performance\n"
     ]
    },
    {
     "name": "stderr",
     "output_type": "stream",
     "text": [
      "Loss (3161): 0.023913681507110596: : 3161it [00:26, 118.83it/s]\n"
     ]
    },
    {
     "name": "stdout",
     "output_type": "stream",
     "text": [
      "Finished optimization. Best loss (0.02364715002477169) achieved after 3061 iterations.\n",
      "150 Samples; Run 4\n",
      "Creating text features\n",
      "Getting optimized CLIP performance\n"
     ]
    },
    {
     "name": "stderr",
     "output_type": "stream",
     "text": [
      "Loss (2865): 0.02200642041862011: : 2865it [00:28, 101.26it/s] \n"
     ]
    },
    {
     "name": "stdout",
     "output_type": "stream",
     "text": [
      "Finished optimization. Best loss (0.021673500537872314) achieved after 2765 iterations.\n",
      "150 Samples; Run 5\n",
      "Creating text features\n",
      "Getting optimized CLIP performance\n"
     ]
    },
    {
     "name": "stderr",
     "output_type": "stream",
     "text": [
      "Loss (2864): 0.024194661527872086: : 2864it [00:42, 67.23it/s]\n"
     ]
    },
    {
     "name": "stdout",
     "output_type": "stream",
     "text": [
      "Finished optimization. Best loss (0.02401668392121792) achieved after 2764 iterations.\n"
     ]
    }
   ],
   "source": [
    "labels = df[\"class_name\"].tolist()\n",
    "\n",
    "for num_samples in number_samples:\n",
    "    model_samples = []\n",
    "    results_dfs = []\n",
    "    for i in range(num_repetitions):\n",
    "        model_sample = np.random.choice(all_models, num_samples, replace=False)\n",
    "        model_samples.append(model_sample)\n",
    "        texts = [f\"a photo of a {m}\" for m in model_sample]\n",
    "\n",
    "        print(f\"{num_samples} Samples; Run {i+1}\")\n",
    "        results = compute_accuracies(image_features, labels, texts, num_components=128, include_models=[\"ours\"])\n",
    "        results_dfs.append(results)\n",
    "\n",
    "    results_mean = sum(results_dfs) / len(results_dfs)\n",
    "    results_std = np.sqrt(sum([(df - results_mean)**2 for df in results_dfs]) / len(results_dfs))\n",
    "\n",
    "    torch.save({\n",
    "        \"num_samples\": num_samples,\n",
    "        \"model_samples\": model_samples,\n",
    "        \"means\": results_mean,\n",
    "        \"stds\": results_std\n",
    "    }, f\"prompt_analysis_results/{num_samples}_samples.pt\")"
   ]
  },
  {
   "cell_type": "markdown",
   "metadata": {},
   "source": [
    "# Visualization"
   ]
  },
  {
   "cell_type": "code",
   "execution_count": 19,
   "metadata": {},
   "outputs": [],
   "source": [
    "from glob import glob\n",
    "from matplotlib import pyplot as plt\n",
    "import numpy as np\n",
    "import matplotlib\n",
    "\n",
    "plt.style.use(['science'])"
   ]
  },
  {
   "cell_type": "code",
   "execution_count": 20,
   "metadata": {},
   "outputs": [
    {
     "data": {
      "text/plain": [
       "[3.5, 2.625]"
      ]
     },
     "execution_count": 20,
     "metadata": {},
     "output_type": "execute_result"
    }
   ],
   "source": [
    "plt.rcParams[\"figure.figsize\"]"
   ]
  },
  {
   "cell_type": "code",
   "execution_count": 25,
   "metadata": {},
   "outputs": [
    {
     "data": {
      "text/plain": [
       "<Figure size 252x189 with 0 Axes>"
      ]
     },
     "metadata": {},
     "output_type": "display_data"
    },
    {
     "data": {
      "image/png": "[encoded data removed]",
      "text/plain": [
       "<Figure size 252x86.4 with 1 Axes>"
      ]
     },
     "metadata": {
      "needs_background": "light"
     },
     "output_type": "display_data"
    }
   ],
   "source": [
    "model_to_name = {\n",
    "    \"\\model\": \"CLIP-DML\",\n",
    "    \"Rand. transform\": \"Rand. trans.\"\n",
    "}\n",
    "\n",
    "files = glob(f\"prompt_analysis_results/*_samples.pt\")\n",
    "data = [torch.load(f) for f in files]\n",
    "data = sorted(data, key=lambda x: x[\"num_samples\"])\n",
    "\n",
    "metric = \"mean_average_precision_at_r\"\n",
    "model = \"\\model\"\n",
    "\n",
    "plt.clf()\n",
    "plt.figure(figsize=(3.5, 1.2))\n",
    "\n",
    "\n",
    "x = np.array([d[\"num_samples\"] for d in data])\n",
    "means = np.array([d[\"means\"][model][metric] for d in data])\n",
    "stds = np.array([d[\"stds\"][model][metric] for d in data])\n",
    "\n",
    "plt.errorbar(x, means, yerr=stds, label=model_to_name.get(model, model))\n",
    "\n",
    "plt.xticks(x, rotation=45)\n",
    "# plt.legend(loc=\"upper right\")\n",
    "plt.xlabel(\"Number of prompts\")\n",
    "plt.ylabel(\"MAP@R\")\n",
    "\n",
    "plt.savefig(f\"prompt_analysis_results/cars196.pdf\", bbox_inches=\"tight\")\n",
    "plt.show()"
   ]
  },
  {
   "cell_type": "code",
   "execution_count": null,
   "metadata": {},
   "outputs": [],
   "source": []
  }
 ],
 "metadata": {
  "interpreter": {
   "hash": "cdc694a4c29a8e83627f4fb3f10aa377f3d41a22792e193fc551a811e775afaf"
  },
  "kernelspec": {
   "display_name": "Python 3.9.9 64-bit ('venv': venv)",
   "language": "python",
   "name": "python3"
  },
  "language_info": {
   "codemirror_mode": {
    "name": "ipython",
    "version": 3
   },
   "file_extension": ".py",
   "mimetype": "text/x-python",
   "name": "python",
   "nbconvert_exporter": "python",
   "pygments_lexer": "ipython3",
   "version": "3.9.13"
  },
  "orig_nbformat": 4
 },
 "nbformat": 4,
 "nbformat_minor": 2
}

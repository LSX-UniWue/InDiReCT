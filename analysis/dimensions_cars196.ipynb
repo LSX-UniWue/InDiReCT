{
 "cells": [
  {
   "cell_type": "markdown",
   "metadata": {},
   "source": [
    "# Cars196"
   ]
  },
  {
   "cell_type": "code",
   "execution_count": null,
   "metadata": {},
   "outputs": [],
   "source": [
    "# %load_ext autoreload\n",
    "# %autoreload 2"
   ]
  },
  {
   "cell_type": "code",
   "execution_count": null,
   "metadata": {},
   "outputs": [],
   "source": [
    "import sys\n",
    "sys.path.append('../')\n",
    "\n",
    "from utils import repeat_n_times, compute_text_features\n",
    "import torch\n",
    "import numpy as np\n",
    "from glob import glob\n",
    "import pandas as pd\n",
    "import os"
   ]
  },
  {
   "cell_type": "code",
   "execution_count": null,
   "metadata": {},
   "outputs": [],
   "source": [
    "# Hyperparameters\n",
    "num_repetitions = 5"
   ]
  },
  {
   "cell_type": "code",
   "execution_count": null,
   "metadata": {},
   "outputs": [],
   "source": [
    "methods = [\"ae\"]"
   ]
  },
  {
   "cell_type": "markdown",
   "metadata": {},
   "source": [
    "# Loading embeddings"
   ]
  },
  {
   "cell_type": "code",
   "execution_count": null,
   "metadata": {},
   "outputs": [],
   "source": [
    "# load image features and labels\n",
    "image_features = torch.load(\"../data/cars196/image_features.pt\")\n",
    "df = pd.read_csv(\"../data/cars196/Cars196.csv\")"
   ]
  },
  {
   "cell_type": "markdown",
   "metadata": {},
   "source": [
    "We only use the test images from the dataset."
   ]
  },
  {
   "cell_type": "code",
   "execution_count": null,
   "metadata": {},
   "outputs": [],
   "source": [
    "cutoff = 8054\n",
    "image_features = {i: item for i, item in image_features.items() if i > cutoff}\n",
    "df = df[cutoff:]"
   ]
  },
  {
   "cell_type": "code",
   "execution_count": null,
   "metadata": {},
   "outputs": [],
   "source": [
    "image_features = [image_features[i] for i in sorted(image_features.keys())]\n",
    "image_features = torch.tensor(np.stack(image_features, axis=0))"
   ]
  },
  {
   "cell_type": "code",
   "execution_count": null,
   "metadata": {},
   "outputs": [],
   "source": [
    "image_features.shape"
   ]
  },
  {
   "cell_type": "markdown",
   "metadata": {},
   "source": [
    "# Experiments"
   ]
  },
  {
   "cell_type": "code",
   "execution_count": null,
   "metadata": {},
   "outputs": [],
   "source": [
    "num_components_list = [2, 4, 8, 16, 32, 64, 128, 256, 512]"
   ]
  },
  {
   "cell_type": "markdown",
   "metadata": {},
   "source": [
    "## Car Model"
   ]
  },
  {
   "cell_type": "code",
   "execution_count": null,
   "metadata": {},
   "outputs": [],
   "source": [
    "# Scrapes all car model names from the kbb page\n",
    "# car_models = pd.read_html(\"https://www.kbb.com/car-make-model-list/new/view-all/make/\")\n",
    "# all_models = car_models[0][\"Make\"] + \" \" + car_models[0][\".css-1mzj64w-ContentWrapper{margin:10px 24px 10px 0px;}Model\"]\n",
    "# all_models = all_models.dropna().tolist()\n",
    "# all_models = list(set(all_models))"
   ]
  },
  {
   "cell_type": "code",
   "execution_count": null,
   "metadata": {},
   "outputs": [],
   "source": [
    "all_models = torch.load(\"../data/cars196/all_models_scraped_kbb_2022-08-17.pt\")"
   ]
  },
  {
   "cell_type": "code",
   "execution_count": null,
   "metadata": {},
   "outputs": [],
   "source": [
    "labels = df[\"class_name\"].tolist()\n",
    "texts = [f\"a photo of a {m}\" for m in all_models]\n",
    "\n",
    "text_features = compute_text_features(texts)\n",
    "\n",
    "for num_components in num_components_list:\n",
    "    print(f\"Embedding size: {num_components}\")\n",
    "    \n",
    "    path = f\"dimensions_results/model_{num_components}.pt\"\n",
    "\n",
    "    means, stds = repeat_n_times(num_repetitions, labels, image_features, text_features=text_features, num_components=num_components, include_models=methods)\n",
    "\n",
    "    # if we already have results, just concatenate the new columns    \n",
    "    if os.path.exists(path):\n",
    "        data = torch.load(path)\n",
    "        means_old = data[\"means\"]\n",
    "        stds_old = data[\"stds\"]\n",
    "        means = pd.concat([means_old, means], axis=\"columns\")\n",
    "        stds = pd.concat([stds_old, stds], axis=\"columns\")\n",
    "\n",
    "    torch.save({\"num_components\": num_components, \"means\": means, \"stds\": stds}, path)"
   ]
  },
  {
   "cell_type": "markdown",
   "metadata": {},
   "source": [
    "## Car Manufacturer"
   ]
  },
  {
   "cell_type": "code",
   "execution_count": null,
   "metadata": {},
   "outputs": [],
   "source": [
    "# # Scrapes all car model names from the kbb page\n",
    "# car_models = pd.read_html(\"https://www.kbb.com/car-make-model-list/new/view-all/make/\")\n",
    "# manufacturers = car_models[0][\"Make\"]\n",
    "# manufacturers = manufacturers.dropna().tolist()\n",
    "# manufacturers = list(set(manufacturers))"
   ]
  },
  {
   "cell_type": "code",
   "execution_count": null,
   "metadata": {},
   "outputs": [],
   "source": [
    "manufacturers = torch.load(\"../data/cars196/manufacturers_scraped_kbb_2022-08-17.pt\")"
   ]
  },
  {
   "cell_type": "code",
   "execution_count": null,
   "metadata": {},
   "outputs": [],
   "source": [
    "labels = df[\"manufacturer\"].tolist()\n",
    "texts = [f\"a photo of a car produced by {m}\" for m in manufacturers]\n",
    "\n",
    "text_features = compute_text_features(texts)\n",
    "\n",
    "for num_components in num_components_list:\n",
    "    print(f\"Embedding size: {num_components}\")\n",
    "    \n",
    "    path = f\"dimensions_results/manufacturer_{num_components}.pt\"\n",
    "\n",
    "    means, stds = repeat_n_times(num_repetitions, labels, image_features, text_features=text_features, num_components=num_components, include_models=methods)\n",
    "\n",
    "    # if we already have results, just concatenate the new columns    \n",
    "    if os.path.exists(path):\n",
    "        data = torch.load(path)\n",
    "        means_old = data[\"means\"]\n",
    "        stds_old = data[\"stds\"]\n",
    "        means = pd.concat([means_old, means], axis=\"columns\")\n",
    "        stds = pd.concat([stds_old, stds], axis=\"columns\")\n",
    "\n",
    "    torch.save({\"num_components\": num_components, \"means\": means, \"stds\": stds}, path)"
   ]
  },
  {
   "cell_type": "markdown",
   "metadata": {},
   "source": [
    "## Car Type"
   ]
  },
  {
   "cell_type": "code",
   "execution_count": null,
   "metadata": {},
   "outputs": [],
   "source": [
    "labels = df[\"type\"].tolist()\n",
    "texts = [f\"a photo of a {m}\" for m in labels]\n",
    "\n",
    "text_features = compute_text_features(texts)\n",
    "\n",
    "for num_components in num_components_list:\n",
    "    print(f\"Embedding size: {num_components}\")\n",
    "    \n",
    "    path = f\"dimensions_results/type_{num_components}.pt\"\n",
    "\n",
    "    means, stds = repeat_n_times(num_repetitions, labels, image_features, text_features=text_features, num_components=num_components, include_models=methods)\n",
    "\n",
    "    # if we already have results, just concatenate the new columns    \n",
    "    if os.path.exists(path):\n",
    "        data = torch.load(path)\n",
    "        means_old = data[\"means\"]\n",
    "        stds_old = data[\"stds\"]\n",
    "        means = pd.concat([means_old, means], axis=\"columns\")\n",
    "        stds = pd.concat([stds_old, stds], axis=\"columns\")\n",
    "\n",
    "    torch.save({\"num_components\": num_components, \"means\": means, \"stds\": stds}, path)"
   ]
  },
  {
   "cell_type": "markdown",
   "metadata": {},
   "source": [
    "# Cleaning up\n",
    "If we have run the same model multiple times, only use the first occurrence in the files."
   ]
  },
  {
   "cell_type": "code",
   "execution_count": null,
   "metadata": {},
   "outputs": [],
   "source": [
    "for i, identifier in enumerate([\"model\", \"manufacturer\", \"type\"]):\n",
    "    files = glob(f\"dimensions_results/{identifier}_*.pt\")\n",
    "    \n",
    "    for f in files:\n",
    "        data = torch.load(f)\n",
    "        \n",
    "        data[\"means\"] = data[\"means\"].loc[:, ~data[\"means\"].columns.duplicated()]\n",
    "        data[\"stds\"] = data[\"stds\"].loc[:, ~data[\"stds\"].columns.duplicated()]\n",
    "\n",
    "        torch.save(data, f)"
   ]
  },
  {
   "cell_type": "markdown",
   "metadata": {},
   "source": [
    "# Visualization"
   ]
  },
  {
   "cell_type": "code",
   "execution_count": null,
   "metadata": {},
   "outputs": [],
   "source": [
    "import sys\n",
    "sys.path.append(\"..\")\n",
    "from utils import model_to_name\n",
    "\n",
    "import torch\n",
    "from glob import glob\n",
    "from matplotlib import pyplot as plt\n",
    "import numpy as np\n",
    "import matplotlib\n",
    "\n",
    "plt.style.use(['science'])"
   ]
  },
  {
   "cell_type": "code",
   "execution_count": null,
   "metadata": {},
   "outputs": [],
   "source": [
    "def catch(func, handler):\n",
    "    try:\n",
    "        return func()\n",
    "    except Exception as e:\n",
    "        return handler(e)"
   ]
  },
  {
   "cell_type": "code",
   "execution_count": null,
   "metadata": {},
   "outputs": [],
   "source": [
    "plt.figure(figsize=(11, 1.7))\n",
    "\n",
    "for i, (name, identifier) in enumerate([(\"Car Model\", \"model\"), (\"Manufacturer\", \"manufacturer\"), (\"Car Type\", \"type\")]):\n",
    "    ax = plt.subplot(1, 3, i+1)\n",
    "\n",
    "    files = glob(f\"dimensions_results/{identifier}_*.pt\")\n",
    "    data = [torch.load(f) for f in files]\n",
    "    data = sorted(data, key=lambda x: x[\"num_components\"])\n",
    "\n",
    "    metric = \"mean_average_precision_at_r\"\n",
    "\n",
    "    # for model in data[0][\"means\"].columns:\n",
    "    for model in [\"Random\", \"CLIP\", \"\\model\", \"Rand. transform\", \"PCA\", \"Linear Autoencoder\", \"AE\", \"Oracle\"]:\n",
    "        x = np.array([d[\"num_components\"] for d in data if model in d[\"means\"].columns])\n",
    "        means = np.array([a for d in data if (a:=catch(lambda: d[\"means\"][model][metric], lambda e: None)) is not None])\n",
    "        stds = np.array([a for d in data if (a:=catch(lambda: d[\"stds\"][model][metric], lambda e: None)) is not None])\n",
    "\n",
    "        ax.errorbar(x, means, yerr=stds, label=model_to_name.get(model, model))\n",
    "\n",
    "    ax.set_title(name)\n",
    "    ax.set_xticks(x, [str(i) if i >= 64 else \"\" for i in x])\n",
    "    # removes all minor ticks, which would else blow up the axis and does not look good\n",
    "    ax.xaxis.set_minor_locator(matplotlib.ticker.NullLocator())\n",
    "    ax.set_xlabel(\"Embedding Size\")\n",
    "    if i == 0:\n",
    "        ax.set_ylabel(\"MAP@R\")\n",
    "    \n",
    "    if i == 1:\n",
    "        plt.legend(loc=\"lower center\", ncol=8, bbox_to_anchor=(0.5, -0.5))\n",
    "\n",
    "plt.savefig(f\"dimensions_results/cars196.pdf\", bbox_inches=\"tight\")\n",
    "plt.show()"
   ]
  }
 ],
 "metadata": {
  "interpreter": {
   "hash": "cdc694a4c29a8e83627f4fb3f10aa377f3d41a22792e193fc551a811e775afaf"
  },
  "kernelspec": {
   "display_name": "Python 3.9.9 64-bit ('venv': venv)",
   "language": "python",
   "name": "python3"
  },
  "language_info": {
   "codemirror_mode": {
    "name": "ipython",
    "version": 3
   },
   "file_extension": ".py",
   "mimetype": "text/x-python",
   "name": "python",
   "nbconvert_exporter": "python",
   "pygments_lexer": "ipython3",
   "version": "3.9.13"
  },
  "orig_nbformat": 4
 },
 "nbformat": 4,
 "nbformat_minor": 2
}

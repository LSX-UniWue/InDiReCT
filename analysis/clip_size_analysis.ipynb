{
 "cells": [
  {
   "cell_type": "markdown",
   "metadata": {},
   "source": [
    "# Synthetic car images"
   ]
  },
  {
   "cell_type": "code",
   "execution_count": 2,
   "metadata": {},
   "outputs": [],
   "source": [
    "# %load_ext autoreload\n",
    "# %autoreload 2"
   ]
  },
  {
   "cell_type": "code",
   "execution_count": 3,
   "metadata": {},
   "outputs": [],
   "source": [
    "import sys\n",
    "sys.path.append('../')\n",
    "\n",
    "from utils import repeat_n_times, hsv_to_name, create_image_embeddings\n",
    "import utils\n",
    "import clip\n",
    "\n",
    "import torch\n",
    "import numpy as np\n",
    "from glob import glob\n",
    "import pandas as pd\n",
    "import webcolors\n",
    "import os"
   ]
  },
  {
   "cell_type": "code",
   "execution_count": 4,
   "metadata": {},
   "outputs": [],
   "source": [
    "# Hyperparameters\n",
    "num_repetitions = 5\n",
    "num_images = 1000"
   ]
  },
  {
   "cell_type": "code",
   "execution_count": 5,
   "metadata": {},
   "outputs": [],
   "source": [
    "device = torch.device(\"cuda\") if torch.cuda.is_available() else torch.device(\"cpu\")"
   ]
  },
  {
   "cell_type": "markdown",
   "metadata": {},
   "source": [
    "# Creating embeddings for all model sizes"
   ]
  },
  {
   "cell_type": "code",
   "execution_count": 6,
   "metadata": {},
   "outputs": [],
   "source": [
    "image_paths = glob(\"../data/synthetic/cars/*.png\")\n",
    "image_paths = sorted(image_paths, key=lambda x: int(x.split(\"/\")[-1].split(\".\")[0]))\n",
    "image_paths = image_paths[:num_images]\n",
    "\n",
    "image_ids = [int(p.split(\"/\")[-1].replace(\".png\", \"\")) for p in image_paths]"
   ]
  },
  {
   "cell_type": "code",
   "execution_count": 7,
   "metadata": {},
   "outputs": [],
   "source": [
    "# Uncomment each one of the following three lines separately and run the notebook to compute all results\n",
    "vit_name = \"ViT-B/32\"\n",
    "# vit_name = \"ViT-B/16\"\n",
    "# vit_name = \"ViT-L/14\"\n",
    "\n",
    "name_to_identifier = {\n",
    "    \"ViT-B/32\": \"vit-b-32\",\n",
    "    \"ViT-B/16\": \"vit-b-16\",\n",
    "    \"ViT-L/14\": \"vit-l-14\",\n",
    "}\n",
    "\n",
    "include_models = [\"pca\"]"
   ]
  },
  {
   "cell_type": "code",
   "execution_count": 8,
   "metadata": {},
   "outputs": [],
   "source": [
    "utils.model, utils.preprocess = clip.load(vit_name, device=device)"
   ]
  },
  {
   "cell_type": "code",
   "execution_count": 9,
   "metadata": {},
   "outputs": [],
   "source": [
    "# create_image_embeddings(image_paths, image_ids, f\"clip_size_results/{name_to_identifier[vit_name]}_image_embeddings.pt\")"
   ]
  },
  {
   "cell_type": "markdown",
   "metadata": {},
   "source": [
    "# Loading Embeddings"
   ]
  },
  {
   "cell_type": "code",
   "execution_count": 10,
   "metadata": {},
   "outputs": [],
   "source": [
    "# load image features and labels\n",
    "image_features = torch.load(f\"clip_size_results/{name_to_identifier[vit_name]}_image_embeddings.pt\")\n",
    "df = pd.read_csv(\"../data/synthetic/cars.csv\")\n",
    "df = df[df[\"frame\"] <= num_images]"
   ]
  },
  {
   "cell_type": "code",
   "execution_count": 11,
   "metadata": {},
   "outputs": [],
   "source": [
    "image_features = [image_features[i] for i in range(1, num_images + 1)]\n",
    "image_features = torch.tensor(np.stack(image_features, axis=0))"
   ]
  },
  {
   "cell_type": "code",
   "execution_count": 12,
   "metadata": {},
   "outputs": [],
   "source": [
    "df.sort_values(by=\"frame\", inplace=True)"
   ]
  },
  {
   "cell_type": "markdown",
   "metadata": {},
   "source": [
    "# Experiments"
   ]
  },
  {
   "cell_type": "markdown",
   "metadata": {},
   "source": [
    "## Car Model"
   ]
  },
  {
   "cell_type": "code",
   "execution_count": 12,
   "metadata": {},
   "outputs": [],
   "source": [
    "# # Scrapes all car model names from the kbb page\n",
    "# car_models = pd.read_html(\"https://www.kbb.com/car-make-model-list/new/view-all/make/\")\n",
    "# all_models = car_models[0][\"Make\"] + \" \" + car_models[0][\".css-1mzj64w-ContentWrapper{margin:10px 24px 10px 0px;}Model\"]\n",
    "# all_models = all_models.dropna().tolist()\n",
    "# all_models = list(set(all_models))"
   ]
  },
  {
   "cell_type": "code",
   "execution_count": 13,
   "metadata": {},
   "outputs": [],
   "source": [
    "all_models = torch.load(\"../data/cars196/all_models_scraped_kbb_2022-08-17.pt\")"
   ]
  },
  {
   "cell_type": "code",
   "execution_count": 14,
   "metadata": {},
   "outputs": [
    {
     "name": "stdout",
     "output_type": "stream",
     "text": [
      "Creating text features\n",
      "Run 1\n",
      "Getting PCA performance\n",
      "Run 2\n",
      "Getting PCA performance\n",
      "Run 3\n",
      "Getting PCA performance\n",
      "Run 4\n",
      "Getting PCA performance\n",
      "Run 5\n",
      "Getting PCA performance\n"
     ]
    }
   ],
   "source": [
    "labels = df[\"model\"].tolist()\n",
    "texts = [f\"a photo of a {m}\" for m in all_models]\n",
    "\n",
    "path = f\"clip_size_results/model_{name_to_identifier[vit_name]}.pt\"\n",
    "\n",
    "means, stds = repeat_n_times(num_repetitions, labels, image_features, texts=texts, include_models=include_models)\n",
    "\n",
    "# if we already have results, just concatenate the new columns    \n",
    "if os.path.exists(path):\n",
    "    data = torch.load(path)\n",
    "    means_old = data[\"means\"]\n",
    "    stds_old = data[\"stds\"]\n",
    "    means = pd.concat([means_old, means], axis=\"columns\")\n",
    "    stds = pd.concat([stds_old, stds], axis=\"columns\")\n",
    "\n",
    "torch.save({\"model\": vit_name, \"means\": means, \"stds\": stds}, path)"
   ]
  },
  {
   "cell_type": "markdown",
   "metadata": {},
   "source": [
    "## Car Color"
   ]
  },
  {
   "cell_type": "code",
   "execution_count": 15,
   "metadata": {},
   "outputs": [],
   "source": [
    "df[\"color_name\"] = df.apply(hsv_to_name, axis=1, hue_column=\"color_hue\", sat_column=\"color_sat\", val_column=\"color_val\")"
   ]
  },
  {
   "cell_type": "code",
   "execution_count": 16,
   "metadata": {},
   "outputs": [
    {
     "name": "stdout",
     "output_type": "stream",
     "text": [
      "Creating text features\n",
      "Run 1\n",
      "Getting PCA performance\n",
      "PCA failed, but proceed with None for all metrics\n",
      "Run 2\n",
      "Getting PCA performance\n",
      "PCA failed, but proceed with None for all metrics\n",
      "Run 3\n",
      "Getting PCA performance\n",
      "PCA failed, but proceed with None for all metrics\n",
      "Run 4\n",
      "Getting PCA performance\n",
      "PCA failed, but proceed with None for all metrics\n",
      "Run 5\n",
      "Getting PCA performance\n",
      "PCA failed, but proceed with None for all metrics\n"
     ]
    }
   ],
   "source": [
    "labels = df[\"color_name\"].tolist()\n",
    "texts = [f\"a {c} car\" for c in webcolors.CSS21_HEX_TO_NAMES.values()]\n",
    "\n",
    "path = f\"clip_size_results/car_color_{name_to_identifier[vit_name]}.pt\"\n",
    "\n",
    "means, stds = repeat_n_times(num_repetitions, labels, image_features, texts=texts, include_models=include_models)\n",
    "\n",
    "# if we already have results, just concatenate the new columns    \n",
    "if os.path.exists(path):\n",
    "    data = torch.load(path)\n",
    "    means_old = data[\"means\"]\n",
    "    stds_old = data[\"stds\"]\n",
    "    means = pd.concat([means_old, means], axis=\"columns\")\n",
    "    stds = pd.concat([stds_old, stds], axis=\"columns\")\n",
    "\n",
    "torch.save({\"model\": vit_name, \"means\": means, \"stds\": stds}, path)"
   ]
  },
  {
   "cell_type": "markdown",
   "metadata": {},
   "source": [
    "## Background Color"
   ]
  },
  {
   "cell_type": "code",
   "execution_count": 12,
   "metadata": {},
   "outputs": [],
   "source": [
    "df[\"bg_color_name\"] = df.apply(hsv_to_name, axis=1, hue_column=\"bg_color_hue\", sat_column=\"bg_color_sat\", val_column=\"bg_color_val\")"
   ]
  },
  {
   "cell_type": "code",
   "execution_count": 13,
   "metadata": {},
   "outputs": [
    {
     "name": "stdout",
     "output_type": "stream",
     "text": [
      "Creating text features\n",
      "Run 1\n",
      "Getting PCA performance\n",
      "PCA failed, but proceed with None for all metrics\n",
      "Run 2\n",
      "Getting PCA performance\n",
      "PCA failed, but proceed with None for all metrics\n",
      "Run 3\n",
      "Getting PCA performance\n",
      "PCA failed, but proceed with None for all metrics\n",
      "Run 4\n",
      "Getting PCA performance\n",
      "PCA failed, but proceed with None for all metrics\n",
      "Run 5\n",
      "Getting PCA performance\n",
      "PCA failed, but proceed with None for all metrics\n"
     ]
    }
   ],
   "source": [
    "labels = df[\"bg_color_name\"].tolist()\n",
    "texts = [f\"a car in front of a {c} background\" for c in webcolors.CSS21_HEX_TO_NAMES.values()]\n",
    "\n",
    "path = f\"clip_size_results/bg_color_{name_to_identifier[vit_name]}.pt\"\n",
    "\n",
    "means, stds = repeat_n_times(num_repetitions, labels, image_features, texts=texts, include_models=include_models)\n",
    "\n",
    "# if we already have results, just concatenate the new columns    \n",
    "if os.path.exists(path):\n",
    "    data = torch.load(path)\n",
    "    means_old = data[\"means\"]\n",
    "    stds_old = data[\"stds\"]\n",
    "    means = pd.concat([means_old, means], axis=\"columns\")\n",
    "    stds = pd.concat([stds_old, stds], axis=\"columns\")\n",
    "\n",
    "torch.save({\"model\": vit_name, \"means\": means, \"stds\": stds}, path)"
   ]
  },
  {
   "cell_type": "markdown",
   "metadata": {},
   "source": [
    "# Cleaning up\n",
    "If we have run the same model multiple times, only use the first occurrence in the files."
   ]
  },
  {
   "cell_type": "code",
   "execution_count": 13,
   "metadata": {},
   "outputs": [],
   "source": [
    "for i, identifier in enumerate([\"model\", \"car_color\", \"bg_color\"]):\n",
    "    files = glob(f\"clip_size_results/{identifier}_*.pt\")\n",
    "    \n",
    "    for f in files:\n",
    "        data = torch.load(f)\n",
    "        \n",
    "        data[\"means\"] = data[\"means\"].loc[:, ~data[\"means\"].columns.duplicated()]\n",
    "        data[\"stds\"] = data[\"stds\"].loc[:, ~data[\"stds\"].columns.duplicated()]\n",
    "\n",
    "        torch.save(data, f)"
   ]
  },
  {
   "cell_type": "markdown",
   "metadata": {},
   "source": [
    "# Visualization"
   ]
  },
  {
   "cell_type": "code",
   "execution_count": 14,
   "metadata": {},
   "outputs": [],
   "source": [
    "import sys\n",
    "sys.path.append('..')\n",
    "from utils import model_to_name\n",
    "\n",
    "from glob import glob\n",
    "from matplotlib import pyplot as plt\n",
    "import numpy as np\n",
    "from matplotlib.gridspec import GridSpec\n",
    "import matplotlib\n",
    "from brokenaxes import brokenaxes\n",
    "\n",
    "plt.style.use(['science'])"
   ]
  },
  {
   "cell_type": "code",
   "execution_count": 16,
   "metadata": {},
   "outputs": [],
   "source": [
    "def catch(func, handler):\n",
    "    try:\n",
    "        return func()\n",
    "    except Exception as e:\n",
    "        return handler(e)"
   ]
  },
  {
   "cell_type": "code",
   "execution_count": 18,
   "metadata": {},
   "outputs": [
    {
     "data": {
      "image/png": "[encoded data removed]",
      "text/plain": [
       "<Figure size 792x122.4 with 8 Axes>"
      ]
     },
     "metadata": {
      "needs_background": "light"
     },
     "output_type": "display_data"
    }
   ],
   "source": [
    "plt.figure(figsize=(11, 1.7))\n",
    "specs = GridSpec(1, 3)\n",
    "\n",
    "idents = [(\"Car Model\", \"model\"), (\"Car Color\", \"car_color\"), (\"Background Color\", \"bg_color\")]\n",
    "splits = [((0.0, 1.05),), ((0.0, 0.2), (0.5, 1.05)), ((0.0, 0.15), (0.65, 1.05))]\n",
    "\n",
    "for i, ((name, identifier), split) in enumerate(zip(idents, splits)):\n",
    "    bax = brokenaxes(ylims=split, subplot_spec=specs[i])\n",
    "\n",
    "    vit_models = [\"ViT-B/32\", \"ViT-B/16\", \"ViT-L/14\"]\n",
    "    data = [torch.load(f\"clip_size_results/{identifier}_{name_to_identifier[vit_name]}.pt\") for vit_name in vit_models]\n",
    "\n",
    "    metric = \"mean_average_precision_at_r\"\n",
    "\n",
    "    for model in [\"Random\", \"CLIP\", \"\\model\", \"Rand. transform\", \"PCA\", \"Linear Autoencoder\", \"AE\", \"Oracle\"]:\n",
    "        means = np.array([a for d in data if (a:=catch(lambda: d[\"means\"][model][metric], lambda e: None)) is not None])\n",
    "        stds = np.array([a for d in data if (a:=catch(lambda: d[\"stds\"][model][metric], lambda e: None)) is not None])\n",
    "        x = np.arange(len(means))\n",
    "        \n",
    "        bax.errorbar(x, means, yerr=stds, label=model_to_name.get(model, model))\n",
    "\n",
    "    bax.set_title(name)\n",
    "    bax.set_xticks(x, vit_models)\n",
    "\n",
    "    if i == 0:\n",
    "        bax.set_ylabel(\"MAP@R\")\n",
    "\n",
    "    if i == 1:\n",
    "        bax.legend(loc=\"lower center\", ncol=8, bbox_to_anchor=(0.5, -0.45))\n",
    "\n",
    "\n",
    "plt.savefig(f\"clip_size_results/synthetic_cars.pdf\", bbox_inches=\"tight\")\n",
    "plt.show()"
   ]
  },
  {
   "cell_type": "code",
   "execution_count": null,
   "metadata": {},
   "outputs": [],
   "source": []
  }
 ],
 "metadata": {
  "interpreter": {
   "hash": "cdc694a4c29a8e83627f4fb3f10aa377f3d41a22792e193fc551a811e775afaf"
  },
  "kernelspec": {
   "display_name": "Python 3.9.9 64-bit ('venv': venv)",
   "language": "python",
   "name": "python3"
  },
  "language_info": {
   "codemirror_mode": {
    "name": "ipython",
    "version": 3
   },
   "file_extension": ".py",
   "mimetype": "text/x-python",
   "name": "python",
   "nbconvert_exporter": "python",
   "pygments_lexer": "ipython3",
   "version": "3.9.15"
  },
  "orig_nbformat": 4
 },
 "nbformat": 4,
 "nbformat_minor": 2
}

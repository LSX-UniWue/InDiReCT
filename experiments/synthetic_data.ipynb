{
 "cells": [
  {
   "cell_type": "markdown",
   "metadata": {},
   "source": [
    "# Synthetic car images"
   ]
  },
  {
   "cell_type": "code",
   "execution_count": 1,
   "metadata": {},
   "outputs": [],
   "source": [
    "# %load_ext autoreload\n",
    "# %autoreload 2"
   ]
  },
  {
   "cell_type": "code",
   "execution_count": 2,
   "metadata": {},
   "outputs": [],
   "source": [
    "import sys\n",
    "sys.path.append('../')\n",
    "\n",
    "from utils import repeat_n_times, get_latex_table, hsv_to_name\n",
    "from IPython.display import display\n",
    "\n",
    "import torch\n",
    "import numpy as np\n",
    "from glob import glob\n",
    "import pandas as pd\n",
    "import colorsys\n",
    "import webcolors\n"
   ]
  },
  {
   "cell_type": "code",
   "execution_count": 3,
   "metadata": {},
   "outputs": [],
   "source": [
    "# Hyperparameters\n",
    "num_repetitions = 5\n",
    "include_models = [\"ae\"]"
   ]
  },
  {
   "cell_type": "markdown",
   "metadata": {},
   "source": [
    "# Creating embeddings"
   ]
  },
  {
   "cell_type": "code",
   "execution_count": 4,
   "metadata": {},
   "outputs": [],
   "source": [
    "# image_paths = glob(\"../data/synthetic/cars/*.png\")\n",
    "# image_ids = [int(p.split(\"/\")[-1].replace(\".png\", \"\")) for p in image_paths]\n",
    "\n",
    "# create_image_embeddings(image_paths, image_ids, \"../data/synthetic/image_features.pt\")"
   ]
  },
  {
   "cell_type": "code",
   "execution_count": 5,
   "metadata": {},
   "outputs": [],
   "source": [
    "# load image features and labels\n",
    "image_features = torch.load(\"../data/synthetic/image_features.pt\")\n",
    "df = pd.read_csv(\"../data/synthetic/cars.csv\")"
   ]
  },
  {
   "cell_type": "markdown",
   "metadata": {},
   "source": [
    "We only want to use some images for testing, since it may else consume too much memory."
   ]
  },
  {
   "cell_type": "code",
   "execution_count": 6,
   "metadata": {},
   "outputs": [],
   "source": [
    "num_images = 1000\n",
    "image_features = {i: item for i, item in image_features.items() if i <= num_images}\n",
    "df = df[df[\"frame\"] <= num_images]"
   ]
  },
  {
   "cell_type": "code",
   "execution_count": 7,
   "metadata": {},
   "outputs": [],
   "source": [
    "image_features = [image_features[i] for i in range(1, num_images + 1)]\n",
    "image_features = torch.tensor(np.stack(image_features, axis=0))"
   ]
  },
  {
   "cell_type": "code",
   "execution_count": 8,
   "metadata": {},
   "outputs": [],
   "source": [
    "df.sort_values(by=\"frame\", inplace=True)"
   ]
  },
  {
   "cell_type": "markdown",
   "metadata": {},
   "source": [
    "# Experiments"
   ]
  },
  {
   "cell_type": "markdown",
   "metadata": {},
   "source": [
    "## Car Model"
   ]
  },
  {
   "cell_type": "code",
   "execution_count": 9,
   "metadata": {},
   "outputs": [],
   "source": [
    "# # Scrapes all car model names from the kbb page\n",
    "# car_models = pd.read_html(\"https://www.kbb.com/car-make-model-list/new/view-all/make/\")\n",
    "# all_models = car_models[0][\"Make\"] + \" \" + car_models[0][\".css-1mzj64w-ContentWrapper{margin:10px 24px 10px 0px;}Model\"]\n",
    "# all_models = all_models.dropna().tolist()\n",
    "# all_models = list(set(all_models))"
   ]
  },
  {
   "cell_type": "code",
   "execution_count": 10,
   "metadata": {},
   "outputs": [],
   "source": [
    "all_models = torch.load(\"../data/cars196/all_models_scraped_kbb_2022-08-17.pt\")"
   ]
  },
  {
   "cell_type": "code",
   "execution_count": 11,
   "metadata": {},
   "outputs": [
    {
     "name": "stdout",
     "output_type": "stream",
     "text": [
      "Creating text features\n",
      "Run 1\n",
      "Getting Autoencoder performance\n"
     ]
    },
    {
     "name": "stderr",
     "output_type": "stream",
     "text": [
      "Loss (6937): 8.633151054382324: : 6937it [10:20, 11.19it/s] \n"
     ]
    },
    {
     "name": "stdout",
     "output_type": "stream",
     "text": [
      "Finished optimization. Best loss (8.495588302612305) achieved after 6837 iterations.\n",
      "Run 2\n",
      "Getting Autoencoder performance\n"
     ]
    },
    {
     "name": "stderr",
     "output_type": "stream",
     "text": [
      "Loss (3692): 15.098151206970215: : 3692it [04:05, 15.02it/s]\n"
     ]
    },
    {
     "name": "stdout",
     "output_type": "stream",
     "text": [
      "Finished optimization. Best loss (11.002554893493652) achieved after 3592 iterations.\n",
      "Run 3\n",
      "Getting Autoencoder performance\n"
     ]
    },
    {
     "name": "stderr",
     "output_type": "stream",
     "text": [
      "Loss (5096): 1756009.625: : 5096it [05:53, 14.42it/s]       \n"
     ]
    },
    {
     "name": "stdout",
     "output_type": "stream",
     "text": [
      "Finished optimization. Best loss (8.750614166259766) achieved after 4996 iterations.\n",
      "Run 4\n",
      "Getting Autoencoder performance\n"
     ]
    },
    {
     "name": "stderr",
     "output_type": "stream",
     "text": [
      "Loss (5393): 2636094.0: : 5393it [05:32, 16.21it/s]         \n"
     ]
    },
    {
     "name": "stdout",
     "output_type": "stream",
     "text": [
      "Finished optimization. Best loss (8.469369888305664) achieved after 5293 iterations.\n",
      "Run 5\n",
      "Getting Autoencoder performance\n"
     ]
    },
    {
     "name": "stderr",
     "output_type": "stream",
     "text": [
      "Loss (8038): 6.151677131652832: : 8038it [11:03, 12.11it/s] \n"
     ]
    },
    {
     "name": "stdout",
     "output_type": "stream",
     "text": [
      "Finished optimization. Best loss (5.14424991607666) achieved after 7938 iterations.\n"
     ]
    }
   ],
   "source": [
    "labels = df[\"model\"].tolist()\n",
    "texts = [f\"a photo of a {m}\" for m in all_models]\n",
    "\n",
    "means, stds = repeat_n_times(num_repetitions, labels, image_features, texts=texts, include_models=include_models)"
   ]
  },
  {
   "cell_type": "code",
   "execution_count": 12,
   "metadata": {},
   "outputs": [
    {
     "data": {
      "text/html": [
       "<div>\n",
       "<style scoped>\n",
       "    .dataframe tbody tr th:only-of-type {\n",
       "        vertical-align: middle;\n",
       "    }\n",
       "\n",
       "    .dataframe tbody tr th {\n",
       "        vertical-align: top;\n",
       "    }\n",
       "\n",
       "    .dataframe thead th {\n",
       "        text-align: right;\n",
       "    }\n",
       "</style>\n",
       "<table border=\"1\" class=\"dataframe\">\n",
       "  <thead>\n",
       "    <tr style=\"text-align: right;\">\n",
       "      <th></th>\n",
       "      <th>AE</th>\n",
       "    </tr>\n",
       "  </thead>\n",
       "  <tbody>\n",
       "    <tr>\n",
       "      <th>AMI</th>\n",
       "      <td>0.538841</td>\n",
       "    </tr>\n",
       "    <tr>\n",
       "      <th>NMI</th>\n",
       "      <td>0.542116</td>\n",
       "    </tr>\n",
       "    <tr>\n",
       "      <th>mean_average_precision</th>\n",
       "      <td>0.550679</td>\n",
       "    </tr>\n",
       "    <tr>\n",
       "      <th>mean_average_precision_at_r</th>\n",
       "      <td>0.394928</td>\n",
       "    </tr>\n",
       "    <tr>\n",
       "      <th>mean_reciprocal_rank</th>\n",
       "      <td>0.928347</td>\n",
       "    </tr>\n",
       "    <tr>\n",
       "      <th>precision_at_1</th>\n",
       "      <td>0.886600</td>\n",
       "    </tr>\n",
       "    <tr>\n",
       "      <th>r_precision</th>\n",
       "      <td>0.516815</td>\n",
       "    </tr>\n",
       "  </tbody>\n",
       "</table>\n",
       "</div>"
      ],
      "text/plain": [
       "                                   AE\n",
       "AMI                          0.538841\n",
       "NMI                          0.542116\n",
       "mean_average_precision       0.550679\n",
       "mean_average_precision_at_r  0.394928\n",
       "mean_reciprocal_rank         0.928347\n",
       "precision_at_1               0.886600\n",
       "r_precision                  0.516815"
      ]
     },
     "metadata": {},
     "output_type": "display_data"
    },
    {
     "data": {
      "text/html": [
       "<div>\n",
       "<style scoped>\n",
       "    .dataframe tbody tr th:only-of-type {\n",
       "        vertical-align: middle;\n",
       "    }\n",
       "\n",
       "    .dataframe tbody tr th {\n",
       "        vertical-align: top;\n",
       "    }\n",
       "\n",
       "    .dataframe thead th {\n",
       "        text-align: right;\n",
       "    }\n",
       "</style>\n",
       "<table border=\"1\" class=\"dataframe\">\n",
       "  <thead>\n",
       "    <tr style=\"text-align: right;\">\n",
       "      <th></th>\n",
       "      <th>AE</th>\n",
       "    </tr>\n",
       "  </thead>\n",
       "  <tbody>\n",
       "    <tr>\n",
       "      <th>AMI</th>\n",
       "      <td>0.059519</td>\n",
       "    </tr>\n",
       "    <tr>\n",
       "      <th>NMI</th>\n",
       "      <td>0.059111</td>\n",
       "    </tr>\n",
       "    <tr>\n",
       "      <th>mean_average_precision</th>\n",
       "      <td>0.040981</td>\n",
       "    </tr>\n",
       "    <tr>\n",
       "      <th>mean_average_precision_at_r</th>\n",
       "      <td>0.043551</td>\n",
       "    </tr>\n",
       "    <tr>\n",
       "      <th>mean_reciprocal_rank</th>\n",
       "      <td>0.024122</td>\n",
       "    </tr>\n",
       "    <tr>\n",
       "      <th>precision_at_1</th>\n",
       "      <td>0.036357</td>\n",
       "    </tr>\n",
       "    <tr>\n",
       "      <th>r_precision</th>\n",
       "      <td>0.035534</td>\n",
       "    </tr>\n",
       "  </tbody>\n",
       "</table>\n",
       "</div>"
      ],
      "text/plain": [
       "                                   AE\n",
       "AMI                          0.059519\n",
       "NMI                          0.059111\n",
       "mean_average_precision       0.040981\n",
       "mean_average_precision_at_r  0.043551\n",
       "mean_reciprocal_rank         0.024122\n",
       "precision_at_1               0.036357\n",
       "r_precision                  0.035534"
      ]
     },
     "metadata": {},
     "output_type": "display_data"
    }
   ],
   "source": [
    "display(means)\n",
    "display(stds)"
   ]
  },
  {
   "cell_type": "code",
   "execution_count": 13,
   "metadata": {},
   "outputs": [
    {
     "name": "stdout",
     "output_type": "stream",
     "text": [
      "\\begin{table}\n",
      "\\centering\n",
      "\\caption{Synthetic Data, Car Model}\n",
      "\\label{fig:synthetic_data_car_model}\n",
      "\\begin{tabular}{@{}rc@{}}\n",
      "\\toprule\n",
      "{} &                 AE \\\\\n",
      "\\midrule\n",
      "\\textbf{AMI   } &  0.539 $\\pm$ 0.060 \\\\\n",
      "\\textbf{NMI   } &  0.542 $\\pm$ 0.059 \\\\\n",
      "\\textbf{MAP   } &  0.551 $\\pm$ 0.041 \\\\\n",
      "\\textbf{MAP@R } &  0.395 $\\pm$ 0.044 \\\\\n",
      "\\textbf{MRR   } &  0.928 $\\pm$ 0.024 \\\\\n",
      "\\textbf{Prec@1} &  0.887 $\\pm$ 0.036 \\\\\n",
      "\\textbf{R-Prec} &  0.517 $\\pm$ 0.036 \\\\\n",
      "\\bottomrule\n",
      "\\end{tabular}\n",
      "\\end{table}\n",
      "\n"
     ]
    },
    {
     "name": "stderr",
     "output_type": "stream",
     "text": [
      "/Users/konstantinkobs/code/2022-dml-clip/experiments/../utils.py:215: FutureWarning: In future versions `DataFrame.to_latex` is expected to utilise the base implementation of `Styler.to_latex` for formatting and rendering. The arguments signature may therefore change. It is recommended instead to use `DataFrame.style.to_latex` which also contains additional functionality.\n",
      "  return final_results.to_latex(bold_rows=True, escape=False, caption=caption, label=label, column_format=columns_format)\n"
     ]
    }
   ],
   "source": [
    "print(get_latex_table(means, stds, \"Synthetic Data, Car Model\", \"fig:synthetic_data_car_model\"))"
   ]
  },
  {
   "cell_type": "code",
   "execution_count": 14,
   "metadata": {},
   "outputs": [
    {
     "name": "stdout",
     "output_type": "stream",
     "text": [
      "### Mean\n",
      "|                             |       AE |\n",
      "|:----------------------------|---------:|\n",
      "| AMI                         | 0.538841 |\n",
      "| NMI                         | 0.542116 |\n",
      "| mean_average_precision      | 0.550679 |\n",
      "| mean_average_precision_at_r | 0.394928 |\n",
      "| mean_reciprocal_rank        | 0.928347 |\n",
      "| precision_at_1              | 0.8866   |\n",
      "| r_precision                 | 0.516815 |\n",
      "### Std\n",
      "|                             |        AE |\n",
      "|:----------------------------|----------:|\n",
      "| AMI                         | 0.0595186 |\n",
      "| NMI                         | 0.0591107 |\n",
      "| mean_average_precision      | 0.0409807 |\n",
      "| mean_average_precision_at_r | 0.0435515 |\n",
      "| mean_reciprocal_rank        | 0.024122  |\n",
      "| precision_at_1              | 0.0363571 |\n",
      "| r_precision                 | 0.0355335 |\n"
     ]
    }
   ],
   "source": [
    "print(\"### Mean\")\n",
    "print(means.to_markdown())\n",
    "print(\"### Std\")\n",
    "print(stds.to_markdown())"
   ]
  },
  {
   "cell_type": "markdown",
   "metadata": {},
   "source": [
    "## Car Color"
   ]
  },
  {
   "cell_type": "code",
   "execution_count": 15,
   "metadata": {},
   "outputs": [],
   "source": [
    "df[\"color_name\"] = df.apply(hsv_to_name, axis=1, hue_column=\"color_hue\", sat_column=\"color_sat\", val_column=\"color_val\")"
   ]
  },
  {
   "cell_type": "code",
   "execution_count": 16,
   "metadata": {},
   "outputs": [
    {
     "name": "stdout",
     "output_type": "stream",
     "text": [
      "Creating text features\n",
      "Run 1\n",
      "Getting Autoencoder performance\n"
     ]
    },
    {
     "name": "stderr",
     "output_type": "stream",
     "text": [
      "Loss (561): 0.0003136740706395358: : 561it [00:09, 56.88it/s] \n"
     ]
    },
    {
     "name": "stdout",
     "output_type": "stream",
     "text": [
      "Finished optimization. Best loss (1.5156044810282765e-06) achieved after 461 iterations.\n",
      "Run 2\n",
      "Getting Autoencoder performance\n"
     ]
    },
    {
     "name": "stderr",
     "output_type": "stream",
     "text": [
      "Loss (828): 0.4865231513977051: : 828it [00:16, 51.13it/s]  \n"
     ]
    },
    {
     "name": "stdout",
     "output_type": "stream",
     "text": [
      "Finished optimization. Best loss (0.009872105903923512) achieved after 728 iterations.\n",
      "Run 3\n",
      "Getting Autoencoder performance\n"
     ]
    },
    {
     "name": "stderr",
     "output_type": "stream",
     "text": [
      "Loss (947): 0.0009330303873866796: : 947it [00:19, 48.34it/s] \n"
     ]
    },
    {
     "name": "stdout",
     "output_type": "stream",
     "text": [
      "Finished optimization. Best loss (2.320247176612611e-07) achieved after 847 iterations.\n",
      "Run 4\n",
      "Getting Autoencoder performance\n"
     ]
    },
    {
     "name": "stderr",
     "output_type": "stream",
     "text": [
      "Loss (804): 0.00014633165847044438: : 804it [00:16, 50.03it/s]\n"
     ]
    },
    {
     "name": "stdout",
     "output_type": "stream",
     "text": [
      "Finished optimization. Best loss (1.7169277555240114e-07) achieved after 704 iterations.\n",
      "Run 5\n",
      "Getting Autoencoder performance\n"
     ]
    },
    {
     "name": "stderr",
     "output_type": "stream",
     "text": [
      "Loss (1386): 0.0002601528831291944: : 1386it [00:29, 46.46it/s] \n"
     ]
    },
    {
     "name": "stdout",
     "output_type": "stream",
     "text": [
      "Finished optimization. Best loss (1.9168930975865806e-06) achieved after 1286 iterations.\n"
     ]
    }
   ],
   "source": [
    "labels = df[\"color_name\"].tolist()\n",
    "texts = [f\"a {c} car\" for c in webcolors.CSS21_HEX_TO_NAMES.values()]\n",
    "\n",
    "means, stds = repeat_n_times(num_repetitions, labels, image_features, texts=texts, include_models=include_models)"
   ]
  },
  {
   "cell_type": "code",
   "execution_count": 17,
   "metadata": {},
   "outputs": [
    {
     "data": {
      "text/html": [
       "<div>\n",
       "<style scoped>\n",
       "    .dataframe tbody tr th:only-of-type {\n",
       "        vertical-align: middle;\n",
       "    }\n",
       "\n",
       "    .dataframe tbody tr th {\n",
       "        vertical-align: top;\n",
       "    }\n",
       "\n",
       "    .dataframe thead th {\n",
       "        text-align: right;\n",
       "    }\n",
       "</style>\n",
       "<table border=\"1\" class=\"dataframe\">\n",
       "  <thead>\n",
       "    <tr style=\"text-align: right;\">\n",
       "      <th></th>\n",
       "      <th>AE</th>\n",
       "    </tr>\n",
       "  </thead>\n",
       "  <tbody>\n",
       "    <tr>\n",
       "      <th>AMI</th>\n",
       "      <td>0.155682</td>\n",
       "    </tr>\n",
       "    <tr>\n",
       "      <th>NMI</th>\n",
       "      <td>0.207031</td>\n",
       "    </tr>\n",
       "    <tr>\n",
       "      <th>mean_average_precision</th>\n",
       "      <td>0.235520</td>\n",
       "    </tr>\n",
       "    <tr>\n",
       "      <th>mean_average_precision_at_r</th>\n",
       "      <td>0.086398</td>\n",
       "    </tr>\n",
       "    <tr>\n",
       "      <th>mean_reciprocal_rank</th>\n",
       "      <td>0.477248</td>\n",
       "    </tr>\n",
       "    <tr>\n",
       "      <th>precision_at_1</th>\n",
       "      <td>0.302200</td>\n",
       "    </tr>\n",
       "    <tr>\n",
       "      <th>r_precision</th>\n",
       "      <td>0.237953</td>\n",
       "    </tr>\n",
       "  </tbody>\n",
       "</table>\n",
       "</div>"
      ],
      "text/plain": [
       "                                   AE\n",
       "AMI                          0.155682\n",
       "NMI                          0.207031\n",
       "mean_average_precision       0.235520\n",
       "mean_average_precision_at_r  0.086398\n",
       "mean_reciprocal_rank         0.477248\n",
       "precision_at_1               0.302200\n",
       "r_precision                  0.237953"
      ]
     },
     "metadata": {},
     "output_type": "display_data"
    },
    {
     "data": {
      "text/html": [
       "<div>\n",
       "<style scoped>\n",
       "    .dataframe tbody tr th:only-of-type {\n",
       "        vertical-align: middle;\n",
       "    }\n",
       "\n",
       "    .dataframe tbody tr th {\n",
       "        vertical-align: top;\n",
       "    }\n",
       "\n",
       "    .dataframe thead th {\n",
       "        text-align: right;\n",
       "    }\n",
       "</style>\n",
       "<table border=\"1\" class=\"dataframe\">\n",
       "  <thead>\n",
       "    <tr style=\"text-align: right;\">\n",
       "      <th></th>\n",
       "      <th>AE</th>\n",
       "    </tr>\n",
       "  </thead>\n",
       "  <tbody>\n",
       "    <tr>\n",
       "      <th>AMI</th>\n",
       "      <td>0.015837</td>\n",
       "    </tr>\n",
       "    <tr>\n",
       "      <th>NMI</th>\n",
       "      <td>0.014828</td>\n",
       "    </tr>\n",
       "    <tr>\n",
       "      <th>mean_average_precision</th>\n",
       "      <td>0.004525</td>\n",
       "    </tr>\n",
       "    <tr>\n",
       "      <th>mean_average_precision_at_r</th>\n",
       "      <td>0.003908</td>\n",
       "    </tr>\n",
       "    <tr>\n",
       "      <th>mean_reciprocal_rank</th>\n",
       "      <td>0.010523</td>\n",
       "    </tr>\n",
       "    <tr>\n",
       "      <th>precision_at_1</th>\n",
       "      <td>0.012998</td>\n",
       "    </tr>\n",
       "    <tr>\n",
       "      <th>r_precision</th>\n",
       "      <td>0.004387</td>\n",
       "    </tr>\n",
       "  </tbody>\n",
       "</table>\n",
       "</div>"
      ],
      "text/plain": [
       "                                   AE\n",
       "AMI                          0.015837\n",
       "NMI                          0.014828\n",
       "mean_average_precision       0.004525\n",
       "mean_average_precision_at_r  0.003908\n",
       "mean_reciprocal_rank         0.010523\n",
       "precision_at_1               0.012998\n",
       "r_precision                  0.004387"
      ]
     },
     "metadata": {},
     "output_type": "display_data"
    }
   ],
   "source": [
    "display(means)\n",
    "display(stds)"
   ]
  },
  {
   "cell_type": "code",
   "execution_count": 18,
   "metadata": {},
   "outputs": [
    {
     "name": "stdout",
     "output_type": "stream",
     "text": [
      "\\begin{table}\n",
      "\\centering\n",
      "\\caption{Synthetic Data, Car Color}\n",
      "\\label{fig:synthetic_data_car_color}\n",
      "\\begin{tabular}{@{}rc@{}}\n",
      "\\toprule\n",
      "{} &                 AE \\\\\n",
      "\\midrule\n",
      "\\textbf{AMI   } &  0.156 $\\pm$ 0.016 \\\\\n",
      "\\textbf{NMI   } &  0.207 $\\pm$ 0.015 \\\\\n",
      "\\textbf{MAP   } &  0.236 $\\pm$ 0.005 \\\\\n",
      "\\textbf{MAP@R } &  0.086 $\\pm$ 0.004 \\\\\n",
      "\\textbf{MRR   } &  0.477 $\\pm$ 0.011 \\\\\n",
      "\\textbf{Prec@1} &  0.302 $\\pm$ 0.013 \\\\\n",
      "\\textbf{R-Prec} &  0.238 $\\pm$ 0.004 \\\\\n",
      "\\bottomrule\n",
      "\\end{tabular}\n",
      "\\end{table}\n",
      "\n"
     ]
    },
    {
     "name": "stderr",
     "output_type": "stream",
     "text": [
      "/Users/konstantinkobs/code/2022-dml-clip/experiments/../utils.py:215: FutureWarning: In future versions `DataFrame.to_latex` is expected to utilise the base implementation of `Styler.to_latex` for formatting and rendering. The arguments signature may therefore change. It is recommended instead to use `DataFrame.style.to_latex` which also contains additional functionality.\n",
      "  return final_results.to_latex(bold_rows=True, escape=False, caption=caption, label=label, column_format=columns_format)\n"
     ]
    }
   ],
   "source": [
    "print(get_latex_table(means, stds, \"Synthetic Data, Car Color\", \"fig:synthetic_data_car_color\"))"
   ]
  },
  {
   "cell_type": "markdown",
   "metadata": {},
   "source": [
    "hidden size 1024:\n",
    "```\n",
    "\\begin{table}\n",
    "\\centering\n",
    "\\caption{Synthetic Data, Car Color}\n",
    "\\label{fig:synthetic_data_car_color}\n",
    "\\begin{tabular}{@{}rc@{}}\n",
    "\\toprule\n",
    "{} &                 AE \\\\\n",
    "\\midrule\n",
    "\\textbf{AMI   } &  0.108 $\\pm$ 0.016 \\\\\n",
    "\\textbf{NMI   } &  0.162 $\\pm$ 0.015 \\\\\n",
    "\\textbf{MAP   } &  0.217 $\\pm$ 0.005 \\\\\n",
    "\\textbf{MAP@R } &  0.074 $\\pm$ 0.003 \\\\\n",
    "\\textbf{MRR   } &  0.457 $\\pm$ 0.006 \\\\\n",
    "\\textbf{Prec@1} &  0.281 $\\pm$ 0.004 \\\\\n",
    "\\textbf{R-Prec} &  0.221 $\\pm$ 0.005 \\\\\n",
    "\\bottomrule\n",
    "\\end{tabular}\n",
    "\\end{table}\n",
    "```\n",
    "\n",
    "hidden size 512:\n",
    "```\n",
    "\\begin{table}\n",
    "\\centering\n",
    "\\caption{Synthetic Data, Car Color}\n",
    "\\label{fig:synthetic_data_car_color}\n",
    "\\begin{tabular}{@{}rc@{}}\n",
    "\\toprule\n",
    "{} &                 AE \\\\\n",
    "\\midrule\n",
    "\\textbf{AMI   } &  0.118 $\\pm$ 0.004 \\\\\n",
    "\\textbf{NMI   } &  0.172 $\\pm$ 0.004 \\\\\n",
    "\\textbf{MAP   } &  0.221 $\\pm$ 0.003 \\\\\n",
    "\\textbf{MAP@R } &  0.075 $\\pm$ 0.005 \\\\\n",
    "\\textbf{MRR   } &  0.453 $\\pm$ 0.010 \\\\\n",
    "\\textbf{Prec@1} &  0.278 $\\pm$ 0.016 \\\\\n",
    "\\textbf{R-Prec} &  0.222 $\\pm$ 0.004 \\\\\n",
    "\\bottomrule\n",
    "\\end{tabular}\n",
    "\\end{table}\n",
    "```"
   ]
  },
  {
   "cell_type": "code",
   "execution_count": 19,
   "metadata": {},
   "outputs": [
    {
     "name": "stdout",
     "output_type": "stream",
     "text": [
      "### Mean\n",
      "|                             |        AE |\n",
      "|:----------------------------|----------:|\n",
      "| AMI                         | 0.155682  |\n",
      "| NMI                         | 0.207031  |\n",
      "| mean_average_precision      | 0.23552   |\n",
      "| mean_average_precision_at_r | 0.0863975 |\n",
      "| mean_reciprocal_rank        | 0.477248  |\n",
      "| precision_at_1              | 0.3022    |\n",
      "| r_precision                 | 0.237953  |\n",
      "### Std\n",
      "|                             |         AE |\n",
      "|:----------------------------|-----------:|\n",
      "| AMI                         | 0.0158365  |\n",
      "| NMI                         | 0.0148279  |\n",
      "| mean_average_precision      | 0.00452452 |\n",
      "| mean_average_precision_at_r | 0.00390814 |\n",
      "| mean_reciprocal_rank        | 0.0105232  |\n",
      "| precision_at_1              | 0.0129985  |\n",
      "| r_precision                 | 0.00438653 |\n"
     ]
    }
   ],
   "source": [
    "print(\"### Mean\")\n",
    "print(means.to_markdown())\n",
    "print(\"### Std\")\n",
    "print(stds.to_markdown())"
   ]
  },
  {
   "cell_type": "markdown",
   "metadata": {},
   "source": [
    "## Background Color"
   ]
  },
  {
   "cell_type": "code",
   "execution_count": 20,
   "metadata": {},
   "outputs": [],
   "source": [
    "df[\"bg_color_name\"] = df.apply(hsv_to_name, axis=1, hue_column=\"bg_color_hue\", sat_column=\"bg_color_sat\", val_column=\"bg_color_val\")"
   ]
  },
  {
   "cell_type": "code",
   "execution_count": 21,
   "metadata": {},
   "outputs": [
    {
     "name": "stdout",
     "output_type": "stream",
     "text": [
      "Creating text features\n",
      "Run 1\n",
      "Getting Autoencoder performance\n"
     ]
    },
    {
     "name": "stderr",
     "output_type": "stream",
     "text": [
      "Loss (3799): 0.00010371192183811218: : 3799it [01:16, 49.41it/s]\n"
     ]
    },
    {
     "name": "stdout",
     "output_type": "stream",
     "text": [
      "Finished optimization. Best loss (2.9636879844474606e-05) achieved after 3699 iterations.\n",
      "Run 2\n",
      "Getting Autoencoder performance\n"
     ]
    },
    {
     "name": "stderr",
     "output_type": "stream",
     "text": [
      "Loss (4034): 0.0010588493896648288: : 4034it [01:12, 55.74it/s] \n"
     ]
    },
    {
     "name": "stdout",
     "output_type": "stream",
     "text": [
      "Finished optimization. Best loss (1.701995643088594e-06) achieved after 3934 iterations.\n",
      "Run 3\n",
      "Getting Autoencoder performance\n"
     ]
    },
    {
     "name": "stderr",
     "output_type": "stream",
     "text": [
      "Loss (3764): 0.13432352244853973: : 3764it [01:07, 55.94it/s]  \n"
     ]
    },
    {
     "name": "stdout",
     "output_type": "stream",
     "text": [
      "Finished optimization. Best loss (0.006480957381427288) achieved after 3664 iterations.\n",
      "Run 4\n",
      "Getting Autoencoder performance\n"
     ]
    },
    {
     "name": "stderr",
     "output_type": "stream",
     "text": [
      "Loss (3260): 0.0011527745518833399: : 3260it [01:01, 52.60it/s] \n"
     ]
    },
    {
     "name": "stdout",
     "output_type": "stream",
     "text": [
      "Finished optimization. Best loss (2.988586174978991e-06) achieved after 3160 iterations.\n",
      "Run 5\n",
      "Getting Autoencoder performance\n"
     ]
    },
    {
     "name": "stderr",
     "output_type": "stream",
     "text": [
      "Loss (4075): 22106.28515625: : 4075it [01:14, 54.43it/s]     \n"
     ]
    },
    {
     "name": "stdout",
     "output_type": "stream",
     "text": [
      "Finished optimization. Best loss (0.288898229598999) achieved after 3975 iterations.\n"
     ]
    }
   ],
   "source": [
    "labels = df[\"bg_color_name\"].tolist()\n",
    "texts = [f\"a car in front of a {c} background\" for c in webcolors.CSS21_HEX_TO_NAMES.values()]\n",
    "\n",
    "means, stds = repeat_n_times(num_repetitions, labels, image_features, texts=texts, include_models=include_models)"
   ]
  },
  {
   "cell_type": "code",
   "execution_count": 22,
   "metadata": {},
   "outputs": [
    {
     "data": {
      "text/html": [
       "<div>\n",
       "<style scoped>\n",
       "    .dataframe tbody tr th:only-of-type {\n",
       "        vertical-align: middle;\n",
       "    }\n",
       "\n",
       "    .dataframe tbody tr th {\n",
       "        vertical-align: top;\n",
       "    }\n",
       "\n",
       "    .dataframe thead th {\n",
       "        text-align: right;\n",
       "    }\n",
       "</style>\n",
       "<table border=\"1\" class=\"dataframe\">\n",
       "  <thead>\n",
       "    <tr style=\"text-align: right;\">\n",
       "      <th></th>\n",
       "      <th>AE</th>\n",
       "    </tr>\n",
       "  </thead>\n",
       "  <tbody>\n",
       "    <tr>\n",
       "      <th>AMI</th>\n",
       "      <td>0.047936</td>\n",
       "    </tr>\n",
       "    <tr>\n",
       "      <th>NMI</th>\n",
       "      <td>0.105576</td>\n",
       "    </tr>\n",
       "    <tr>\n",
       "      <th>mean_average_precision</th>\n",
       "      <td>0.200084</td>\n",
       "    </tr>\n",
       "    <tr>\n",
       "      <th>mean_average_precision_at_r</th>\n",
       "      <td>0.060516</td>\n",
       "    </tr>\n",
       "    <tr>\n",
       "      <th>mean_reciprocal_rank</th>\n",
       "      <td>0.391471</td>\n",
       "    </tr>\n",
       "    <tr>\n",
       "      <th>precision_at_1</th>\n",
       "      <td>0.216216</td>\n",
       "    </tr>\n",
       "    <tr>\n",
       "      <th>r_precision</th>\n",
       "      <td>0.197477</td>\n",
       "    </tr>\n",
       "  </tbody>\n",
       "</table>\n",
       "</div>"
      ],
      "text/plain": [
       "                                   AE\n",
       "AMI                          0.047936\n",
       "NMI                          0.105576\n",
       "mean_average_precision       0.200084\n",
       "mean_average_precision_at_r  0.060516\n",
       "mean_reciprocal_rank         0.391471\n",
       "precision_at_1               0.216216\n",
       "r_precision                  0.197477"
      ]
     },
     "metadata": {},
     "output_type": "display_data"
    },
    {
     "data": {
      "text/html": [
       "<div>\n",
       "<style scoped>\n",
       "    .dataframe tbody tr th:only-of-type {\n",
       "        vertical-align: middle;\n",
       "    }\n",
       "\n",
       "    .dataframe tbody tr th {\n",
       "        vertical-align: top;\n",
       "    }\n",
       "\n",
       "    .dataframe thead th {\n",
       "        text-align: right;\n",
       "    }\n",
       "</style>\n",
       "<table border=\"1\" class=\"dataframe\">\n",
       "  <thead>\n",
       "    <tr style=\"text-align: right;\">\n",
       "      <th></th>\n",
       "      <th>AE</th>\n",
       "    </tr>\n",
       "  </thead>\n",
       "  <tbody>\n",
       "    <tr>\n",
       "      <th>AMI</th>\n",
       "      <td>0.017710</td>\n",
       "    </tr>\n",
       "    <tr>\n",
       "      <th>NMI</th>\n",
       "      <td>0.016602</td>\n",
       "    </tr>\n",
       "    <tr>\n",
       "      <th>mean_average_precision</th>\n",
       "      <td>0.004458</td>\n",
       "    </tr>\n",
       "    <tr>\n",
       "      <th>mean_average_precision_at_r</th>\n",
       "      <td>0.002200</td>\n",
       "    </tr>\n",
       "    <tr>\n",
       "      <th>mean_reciprocal_rank</th>\n",
       "      <td>0.013418</td>\n",
       "    </tr>\n",
       "    <tr>\n",
       "      <th>precision_at_1</th>\n",
       "      <td>0.012630</td>\n",
       "    </tr>\n",
       "    <tr>\n",
       "      <th>r_precision</th>\n",
       "      <td>0.004020</td>\n",
       "    </tr>\n",
       "  </tbody>\n",
       "</table>\n",
       "</div>"
      ],
      "text/plain": [
       "                                   AE\n",
       "AMI                          0.017710\n",
       "NMI                          0.016602\n",
       "mean_average_precision       0.004458\n",
       "mean_average_precision_at_r  0.002200\n",
       "mean_reciprocal_rank         0.013418\n",
       "precision_at_1               0.012630\n",
       "r_precision                  0.004020"
      ]
     },
     "metadata": {},
     "output_type": "display_data"
    }
   ],
   "source": [
    "display(means)\n",
    "display(stds)"
   ]
  },
  {
   "cell_type": "code",
   "execution_count": 23,
   "metadata": {},
   "outputs": [
    {
     "name": "stdout",
     "output_type": "stream",
     "text": [
      "\\begin{table}\n",
      "\\centering\n",
      "\\caption{Synthetic Data, Background Color}\n",
      "\\label{fig:synthetic_data_background_color}\n",
      "\\begin{tabular}{@{}rc@{}}\n",
      "\\toprule\n",
      "{} &                 AE \\\\\n",
      "\\midrule\n",
      "\\textbf{AMI   } &  0.048 $\\pm$ 0.018 \\\\\n",
      "\\textbf{NMI   } &  0.106 $\\pm$ 0.017 \\\\\n",
      "\\textbf{MAP   } &  0.200 $\\pm$ 0.004 \\\\\n",
      "\\textbf{MAP@R } &  0.061 $\\pm$ 0.002 \\\\\n",
      "\\textbf{MRR   } &  0.391 $\\pm$ 0.013 \\\\\n",
      "\\textbf{Prec@1} &  0.216 $\\pm$ 0.013 \\\\\n",
      "\\textbf{R-Prec} &  0.197 $\\pm$ 0.004 \\\\\n",
      "\\bottomrule\n",
      "\\end{tabular}\n",
      "\\end{table}\n",
      "\n"
     ]
    },
    {
     "name": "stderr",
     "output_type": "stream",
     "text": [
      "/Users/konstantinkobs/code/2022-dml-clip/experiments/../utils.py:215: FutureWarning: In future versions `DataFrame.to_latex` is expected to utilise the base implementation of `Styler.to_latex` for formatting and rendering. The arguments signature may therefore change. It is recommended instead to use `DataFrame.style.to_latex` which also contains additional functionality.\n",
      "  return final_results.to_latex(bold_rows=True, escape=False, caption=caption, label=label, column_format=columns_format)\n"
     ]
    }
   ],
   "source": [
    "print(get_latex_table(means, stds, \"Synthetic Data, Background Color\", \"fig:synthetic_data_background_color\"))"
   ]
  },
  {
   "cell_type": "markdown",
   "metadata": {},
   "source": [
    "hidden size 1024:\n",
    "```\n",
    "\\begin{table}\n",
    "\\centering\n",
    "\\caption{Synthetic Data, Background Color}\n",
    "\\label{fig:synthetic_data_background_color}\n",
    "\\begin{tabular}{@{}rc@{}}\n",
    "\\toprule\n",
    "{} &                 AE \\\\\n",
    "\\midrule\n",
    "\\textbf{AMI   } &  0.047 $\\pm$ 0.008 \\\\\n",
    "\\textbf{NMI   } &  0.105 $\\pm$ 0.007 \\\\\n",
    "\\textbf{MAP   } &  0.203 $\\pm$ 0.004 \\\\\n",
    "\\textbf{MAP@R } &  0.062 $\\pm$ 0.003 \\\\\n",
    "\\textbf{MRR   } &  0.411 $\\pm$ 0.007 \\\\\n",
    "\\textbf{Prec@1} &  0.238 $\\pm$ 0.010 \\\\\n",
    "\\textbf{R-Prec} &  0.200 $\\pm$ 0.005 \\\\\n",
    "\\bottomrule\n",
    "\\end{tabular}\n",
    "\\end{table}\n",
    "```\n",
    "\n",
    "\n",
    "hidden size 512:\n",
    "```\n",
    "\\begin{table}\n",
    "\\centering\n",
    "\\caption{Synthetic Data, Background Color}\n",
    "\\label{fig:synthetic_data_background_color}\n",
    "\\begin{tabular}{@{}rc@{}}\n",
    "\\toprule\n",
    "{} &                 AE \\\\\n",
    "\\midrule\n",
    "\\textbf{AMI   } &  0.048 $\\pm$ 0.007 \\\\\n",
    "\\textbf{NMI   } &  0.106 $\\pm$ 0.006 \\\\\n",
    "\\textbf{MAP   } &  0.203 $\\pm$ 0.004 \\\\\n",
    "\\textbf{MAP@R } &  0.063 $\\pm$ 0.003 \\\\\n",
    "\\textbf{MRR   } &  0.412 $\\pm$ 0.014 \\\\\n",
    "\\textbf{Prec@1} &  0.240 $\\pm$ 0.012 \\\\\n",
    "\\textbf{R-Prec} &  0.202 $\\pm$ 0.006 \\\\\n",
    "\\bottomrule\n",
    "\\end{tabular}\n",
    "\\end{table}\n",
    "```"
   ]
  },
  {
   "cell_type": "code",
   "execution_count": 24,
   "metadata": {},
   "outputs": [
    {
     "name": "stdout",
     "output_type": "stream",
     "text": [
      "### Mean\n",
      "|                             |        AE |\n",
      "|:----------------------------|----------:|\n",
      "| AMI                         | 0.0479363 |\n",
      "| NMI                         | 0.105576  |\n",
      "| mean_average_precision      | 0.200084  |\n",
      "| mean_average_precision_at_r | 0.0605161 |\n",
      "| mean_reciprocal_rank        | 0.391471  |\n",
      "| precision_at_1              | 0.216216  |\n",
      "| r_precision                 | 0.197477  |\n",
      "### Std\n",
      "|                             |         AE |\n",
      "|:----------------------------|-----------:|\n",
      "| AMI                         | 0.0177101  |\n",
      "| NMI                         | 0.0166017  |\n",
      "| mean_average_precision      | 0.0044584  |\n",
      "| mean_average_precision_at_r | 0.00219983 |\n",
      "| mean_reciprocal_rank        | 0.0134176  |\n",
      "| precision_at_1              | 0.0126301  |\n",
      "| r_precision                 | 0.0040198  |\n"
     ]
    }
   ],
   "source": [
    "print(\"### Mean\")\n",
    "print(means.to_markdown())\n",
    "print(\"### Std\")\n",
    "print(stds.to_markdown())"
   ]
  },
  {
   "cell_type": "code",
   "execution_count": null,
   "metadata": {},
   "outputs": [],
   "source": []
  }
 ],
 "metadata": {
  "interpreter": {
   "hash": "cdc694a4c29a8e83627f4fb3f10aa377f3d41a22792e193fc551a811e775afaf"
  },
  "kernelspec": {
   "display_name": "Python 3.9.9 64-bit ('venv': venv)",
   "language": "python",
   "name": "python3"
  },
  "language_info": {
   "codemirror_mode": {
    "name": "ipython",
    "version": 3
   },
   "file_extension": ".py",
   "mimetype": "text/x-python",
   "name": "python",
   "nbconvert_exporter": "python",
   "pygments_lexer": "ipython3",
   "version": "3.9.13"
  },
  "orig_nbformat": 4
 },
 "nbformat": 4,
 "nbformat_minor": 2
}

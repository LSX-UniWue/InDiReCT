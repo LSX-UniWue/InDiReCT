{
 "cells": [
  {
   "cell_type": "markdown",
   "metadata": {},
   "source": [
    "# CUB2011"
   ]
  },
  {
   "cell_type": "code",
   "execution_count": 1,
   "metadata": {},
   "outputs": [],
   "source": [
    "# %load_ext autoreload\n",
    "# %autoreload 2"
   ]
  },
  {
   "cell_type": "code",
   "execution_count": 2,
   "metadata": {},
   "outputs": [],
   "source": [
    "import sys\n",
    "sys.path.append('../')\n",
    "\n",
    "from utils import repeat_n_times, get_latex_table\n",
    "from IPython.display import display\n",
    "\n",
    "import torch\n",
    "import numpy as np\n",
    "from glob import glob"
   ]
  },
  {
   "cell_type": "code",
   "execution_count": 3,
   "metadata": {},
   "outputs": [],
   "source": [
    "# Hyperparameters\n",
    "num_repetitions = 5\n",
    "include_models = [\"ae\"]"
   ]
  },
  {
   "cell_type": "markdown",
   "metadata": {},
   "source": [
    "# Creating embeddings"
   ]
  },
  {
   "cell_type": "code",
   "execution_count": 4,
   "metadata": {},
   "outputs": [],
   "source": [
    "# image_paths = sorted(glob(\"../data/cub200/images/*/*.jpg\"))\n",
    "# image_ids = [p.split(\"/\")[-1].replace(\".jpg\", \"\") for p in image_paths]\n",
    "\n",
    "# create_image_embeddings(image_paths, image_ids, \"../data/cub200/image_features.pt\")"
   ]
  },
  {
   "cell_type": "code",
   "execution_count": 5,
   "metadata": {},
   "outputs": [],
   "source": [
    "# load image features and labels\n",
    "image_features = torch.load(\"../data/cub200/image_features.pt\")\n",
    "label_mapping = {k: \" \".join(k.split(\"_\")[:-2]) for k in image_features.keys()}"
   ]
  },
  {
   "cell_type": "code",
   "execution_count": 6,
   "metadata": {},
   "outputs": [],
   "source": [
    "labels = sorted([p.split(\"/\")[-1] for p in glob(\"../data/cub200/images/*\")])\n",
    "# second half of classes (from 101 to 200)\n",
    "train_labels = labels[:100]\n",
    "labels = labels[100:]\n",
    "labels = [l.split(\".\")[1] for l in labels]"
   ]
  },
  {
   "cell_type": "code",
   "execution_count": 7,
   "metadata": {},
   "outputs": [],
   "source": [
    "train_labels = [\" \".join(l.split(\".\")[1].split(\"_\")) for l in train_labels]"
   ]
  },
  {
   "cell_type": "code",
   "execution_count": 8,
   "metadata": {},
   "outputs": [],
   "source": [
    "image_features = {i: item for i, item in image_features.items() if i.startswith(tuple(labels))}"
   ]
  },
  {
   "cell_type": "code",
   "execution_count": 9,
   "metadata": {},
   "outputs": [],
   "source": [
    "labels = [label_mapping[i] for i in sorted(image_features.keys())]"
   ]
  },
  {
   "cell_type": "code",
   "execution_count": 10,
   "metadata": {},
   "outputs": [],
   "source": [
    "image_features = [image_features[i] for i in sorted(image_features.keys())]\n",
    "image_features = torch.tensor(np.stack(image_features, axis=0))"
   ]
  },
  {
   "cell_type": "code",
   "execution_count": 11,
   "metadata": {},
   "outputs": [
    {
     "data": {
      "text/plain": [
       "torch.Size([4462, 512])"
      ]
     },
     "execution_count": 11,
     "metadata": {},
     "output_type": "execute_result"
    }
   ],
   "source": [
    "image_features.shape"
   ]
  },
  {
   "cell_type": "markdown",
   "metadata": {},
   "source": [
    "# Experiments"
   ]
  },
  {
   "cell_type": "markdown",
   "metadata": {},
   "source": [
    "## Bird Species"
   ]
  },
  {
   "cell_type": "code",
   "execution_count": 12,
   "metadata": {},
   "outputs": [
    {
     "name": "stdout",
     "output_type": "stream",
     "text": [
      "Creating text features\n",
      "Run 1\n",
      "Getting Autoencoder performance\n"
     ]
    },
    {
     "name": "stderr",
     "output_type": "stream",
     "text": [
      "Loss (3019): 0.28986427187919617: : 3019it [01:13, 41.22it/s]\n"
     ]
    },
    {
     "name": "stdout",
     "output_type": "stream",
     "text": [
      "Finished optimization. Best loss (0.1247074156999588) achieved after 2919 iterations.\n",
      "Run 2\n",
      "Getting Autoencoder performance\n"
     ]
    },
    {
     "name": "stderr",
     "output_type": "stream",
     "text": [
      "Loss (2737): 0.17455607652664185: : 2737it [01:00, 45.26it/s]\n"
     ]
    },
    {
     "name": "stdout",
     "output_type": "stream",
     "text": [
      "Finished optimization. Best loss (0.11873838305473328) achieved after 2637 iterations.\n",
      "Run 3\n",
      "Getting Autoencoder performance\n"
     ]
    },
    {
     "name": "stderr",
     "output_type": "stream",
     "text": [
      "Loss (4338): 0.3668525218963623: : 4338it [01:41, 42.76it/s] \n"
     ]
    },
    {
     "name": "stdout",
     "output_type": "stream",
     "text": [
      "Finished optimization. Best loss (0.1586454212665558) achieved after 4238 iterations.\n",
      "Run 4\n",
      "Getting Autoencoder performance\n"
     ]
    },
    {
     "name": "stderr",
     "output_type": "stream",
     "text": [
      "Loss (5920): 0.13208863139152527: : 5920it [01:53, 51.97it/s]\n"
     ]
    },
    {
     "name": "stdout",
     "output_type": "stream",
     "text": [
      "Finished optimization. Best loss (0.11683669686317444) achieved after 5820 iterations.\n",
      "Run 5\n",
      "Getting Autoencoder performance\n"
     ]
    },
    {
     "name": "stderr",
     "output_type": "stream",
     "text": [
      "Loss (4018): 0.250471830368042: : 4018it [01:16, 52.70it/s]  \n"
     ]
    },
    {
     "name": "stdout",
     "output_type": "stream",
     "text": [
      "Finished optimization. Best loss (0.2427457571029663) achieved after 3918 iterations.\n"
     ]
    }
   ],
   "source": [
    "texts = [f\"a photo of a {l}\" for l in train_labels]\n",
    "\n",
    "means, stds = repeat_n_times(num_repetitions, labels, image_features, texts=texts, include_models=include_models)"
   ]
  },
  {
   "cell_type": "code",
   "execution_count": 13,
   "metadata": {},
   "outputs": [
    {
     "data": {
      "text/html": [
       "<div>\n",
       "<style scoped>\n",
       "    .dataframe tbody tr th:only-of-type {\n",
       "        vertical-align: middle;\n",
       "    }\n",
       "\n",
       "    .dataframe tbody tr th {\n",
       "        vertical-align: top;\n",
       "    }\n",
       "\n",
       "    .dataframe thead th {\n",
       "        text-align: right;\n",
       "    }\n",
       "</style>\n",
       "<table border=\"1\" class=\"dataframe\">\n",
       "  <thead>\n",
       "    <tr style=\"text-align: right;\">\n",
       "      <th></th>\n",
       "      <th>AE</th>\n",
       "    </tr>\n",
       "  </thead>\n",
       "  <tbody>\n",
       "    <tr>\n",
       "      <th>AMI</th>\n",
       "      <td>0.482999</td>\n",
       "    </tr>\n",
       "    <tr>\n",
       "      <th>NMI</th>\n",
       "      <td>0.564247</td>\n",
       "    </tr>\n",
       "    <tr>\n",
       "      <th>mean_average_precision</th>\n",
       "      <td>0.240883</td>\n",
       "    </tr>\n",
       "    <tr>\n",
       "      <th>mean_average_precision_at_r</th>\n",
       "      <td>0.150579</td>\n",
       "    </tr>\n",
       "    <tr>\n",
       "      <th>mean_reciprocal_rank</th>\n",
       "      <td>0.579125</td>\n",
       "    </tr>\n",
       "    <tr>\n",
       "      <th>precision_at_1</th>\n",
       "      <td>0.444420</td>\n",
       "    </tr>\n",
       "    <tr>\n",
       "      <th>r_precision</th>\n",
       "      <td>0.260769</td>\n",
       "    </tr>\n",
       "  </tbody>\n",
       "</table>\n",
       "</div>"
      ],
      "text/plain": [
       "                                   AE\n",
       "AMI                          0.482999\n",
       "NMI                          0.564247\n",
       "mean_average_precision       0.240883\n",
       "mean_average_precision_at_r  0.150579\n",
       "mean_reciprocal_rank         0.579125\n",
       "precision_at_1               0.444420\n",
       "r_precision                  0.260769"
      ]
     },
     "metadata": {},
     "output_type": "display_data"
    },
    {
     "data": {
      "text/html": [
       "<div>\n",
       "<style scoped>\n",
       "    .dataframe tbody tr th:only-of-type {\n",
       "        vertical-align: middle;\n",
       "    }\n",
       "\n",
       "    .dataframe tbody tr th {\n",
       "        vertical-align: top;\n",
       "    }\n",
       "\n",
       "    .dataframe thead th {\n",
       "        text-align: right;\n",
       "    }\n",
       "</style>\n",
       "<table border=\"1\" class=\"dataframe\">\n",
       "  <thead>\n",
       "    <tr style=\"text-align: right;\">\n",
       "      <th></th>\n",
       "      <th>AE</th>\n",
       "    </tr>\n",
       "  </thead>\n",
       "  <tbody>\n",
       "    <tr>\n",
       "      <th>AMI</th>\n",
       "      <td>0.023740</td>\n",
       "    </tr>\n",
       "    <tr>\n",
       "      <th>NMI</th>\n",
       "      <td>0.019880</td>\n",
       "    </tr>\n",
       "    <tr>\n",
       "      <th>mean_average_precision</th>\n",
       "      <td>0.023151</td>\n",
       "    </tr>\n",
       "    <tr>\n",
       "      <th>mean_average_precision_at_r</th>\n",
       "      <td>0.018956</td>\n",
       "    </tr>\n",
       "    <tr>\n",
       "      <th>mean_reciprocal_rank</th>\n",
       "      <td>0.033009</td>\n",
       "    </tr>\n",
       "    <tr>\n",
       "      <th>precision_at_1</th>\n",
       "      <td>0.035845</td>\n",
       "    </tr>\n",
       "    <tr>\n",
       "      <th>r_precision</th>\n",
       "      <td>0.022047</td>\n",
       "    </tr>\n",
       "  </tbody>\n",
       "</table>\n",
       "</div>"
      ],
      "text/plain": [
       "                                   AE\n",
       "AMI                          0.023740\n",
       "NMI                          0.019880\n",
       "mean_average_precision       0.023151\n",
       "mean_average_precision_at_r  0.018956\n",
       "mean_reciprocal_rank         0.033009\n",
       "precision_at_1               0.035845\n",
       "r_precision                  0.022047"
      ]
     },
     "metadata": {},
     "output_type": "display_data"
    }
   ],
   "source": [
    "display(means)\n",
    "display(stds)"
   ]
  },
  {
   "cell_type": "code",
   "execution_count": 14,
   "metadata": {},
   "outputs": [
    {
     "name": "stdout",
     "output_type": "stream",
     "text": [
      "\\begin{table}\n",
      "\\centering\n",
      "\\caption{CUB200, Bird Species}\n",
      "\\label{fig:cub200_bird_species}\n",
      "\\begin{tabular}{@{}rc@{}}\n",
      "\\toprule\n",
      "{} &                 AE \\\\\n",
      "\\midrule\n",
      "\\textbf{AMI   } &  0.483 $\\pm$ 0.024 \\\\\n",
      "\\textbf{NMI   } &  0.564 $\\pm$ 0.020 \\\\\n",
      "\\textbf{MAP   } &  0.241 $\\pm$ 0.023 \\\\\n",
      "\\textbf{MAP@R } &  0.151 $\\pm$ 0.019 \\\\\n",
      "\\textbf{MRR   } &  0.579 $\\pm$ 0.033 \\\\\n",
      "\\textbf{Prec@1} &  0.444 $\\pm$ 0.036 \\\\\n",
      "\\textbf{R-Prec} &  0.261 $\\pm$ 0.022 \\\\\n",
      "\\bottomrule\n",
      "\\end{tabular}\n",
      "\\end{table}\n",
      "\n"
     ]
    },
    {
     "name": "stderr",
     "output_type": "stream",
     "text": [
      "/Users/konstantinkobs/code/2022-dml-clip/experiments/../utils.py:215: FutureWarning: In future versions `DataFrame.to_latex` is expected to utilise the base implementation of `Styler.to_latex` for formatting and rendering. The arguments signature may therefore change. It is recommended instead to use `DataFrame.style.to_latex` which also contains additional functionality.\n",
      "  return final_results.to_latex(bold_rows=True, escape=False, caption=caption, label=label, column_format=columns_format)\n"
     ]
    }
   ],
   "source": [
    "print(get_latex_table(means, stds, \"CUB200, Bird Species\", \"fig:cub200_bird_species\"))"
   ]
  },
  {
   "cell_type": "code",
   "execution_count": 15,
   "metadata": {},
   "outputs": [
    {
     "name": "stdout",
     "output_type": "stream",
     "text": [
      "### Mean\n",
      "|                             |       AE |\n",
      "|:----------------------------|---------:|\n",
      "| AMI                         | 0.482999 |\n",
      "| NMI                         | 0.564247 |\n",
      "| mean_average_precision      | 0.240883 |\n",
      "| mean_average_precision_at_r | 0.150579 |\n",
      "| mean_reciprocal_rank        | 0.579125 |\n",
      "| precision_at_1              | 0.44442  |\n",
      "| r_precision                 | 0.260769 |\n",
      "### Std\n",
      "|                             |        AE |\n",
      "|:----------------------------|----------:|\n",
      "| AMI                         | 0.0237402 |\n",
      "| NMI                         | 0.0198797 |\n",
      "| mean_average_precision      | 0.0231508 |\n",
      "| mean_average_precision_at_r | 0.0189556 |\n",
      "| mean_reciprocal_rank        | 0.0330092 |\n",
      "| precision_at_1              | 0.0358452 |\n",
      "| r_precision                 | 0.0220469 |\n"
     ]
    }
   ],
   "source": [
    "print(\"### Mean\")\n",
    "print(means.to_markdown())\n",
    "print(\"### Std\")\n",
    "print(stds.to_markdown())"
   ]
  }
 ],
 "metadata": {
  "interpreter": {
   "hash": "cdc694a4c29a8e83627f4fb3f10aa377f3d41a22792e193fc551a811e775afaf"
  },
  "kernelspec": {
   "display_name": "Python 3.9.9 64-bit ('venv': venv)",
   "language": "python",
   "name": "python3"
  },
  "language_info": {
   "codemirror_mode": {
    "name": "ipython",
    "version": 3
   },
   "file_extension": ".py",
   "mimetype": "text/x-python",
   "name": "python",
   "nbconvert_exporter": "python",
   "pygments_lexer": "ipython3",
   "version": "3.9.13"
  },
  "orig_nbformat": 4
 },
 "nbformat": 4,
 "nbformat_minor": 2
}

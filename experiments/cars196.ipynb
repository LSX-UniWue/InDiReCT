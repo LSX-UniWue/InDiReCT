{
 "cells": [
  {
   "cell_type": "markdown",
   "metadata": {},
   "source": [
    "# Cars196"
   ]
  },
  {
   "cell_type": "code",
   "execution_count": 1,
   "metadata": {},
   "outputs": [],
   "source": [
    "# %load_ext autoreload\n",
    "# %autoreload 2"
   ]
  },
  {
   "cell_type": "code",
   "execution_count": 2,
   "metadata": {},
   "outputs": [],
   "source": [
    "import sys\n",
    "sys.path.append('../')\n",
    "\n",
    "from utils import repeat_n_times, get_latex_table, create_image_embeddings\n",
    "from IPython.display import display\n",
    "\n",
    "import torch\n",
    "import numpy as np\n",
    "from glob import glob\n",
    "import pandas as pd"
   ]
  },
  {
   "cell_type": "code",
   "execution_count": 3,
   "metadata": {},
   "outputs": [],
   "source": [
    "# Hyperparameters\n",
    "num_repetitions = 5\n",
    "include_models = [\"ae\"]"
   ]
  },
  {
   "cell_type": "markdown",
   "metadata": {},
   "source": [
    "# Creating embeddings"
   ]
  },
  {
   "cell_type": "code",
   "execution_count": 4,
   "metadata": {},
   "outputs": [],
   "source": [
    "# image_paths = sorted(glob(\"../data/cars196/car_ims/*.jpg\"))\n",
    "# image_ids = [int(p.split(\"/\")[-1].replace(\".jpg\", \"\")) for p in image_paths]\n",
    "\n",
    "# # CLIP\n",
    "# create_image_embeddings(image_paths, image_ids, \"../data/cars196/image_features.pt\")"
   ]
  },
  {
   "cell_type": "code",
   "execution_count": 5,
   "metadata": {},
   "outputs": [],
   "source": [
    "# load image features and labels\n",
    "# # CLIP\n",
    "image_features = torch.load(\"../data/cars196/image_features.pt\")\n",
    "# ImageNet21k ViT\n",
    "# image_features = torch.load(\"../data/cars196/imagenet_image_features.pt\")\n",
    "\n",
    "df = pd.read_csv(\"../data/cars196/Cars196.csv\")"
   ]
  },
  {
   "cell_type": "markdown",
   "metadata": {},
   "source": [
    "We only use the test images from the dataset."
   ]
  },
  {
   "cell_type": "code",
   "execution_count": 6,
   "metadata": {},
   "outputs": [],
   "source": [
    "cutoff = 8054\n",
    "image_features = {i: item for i, item in image_features.items() if i > cutoff}\n",
    "df = df[cutoff:]"
   ]
  },
  {
   "cell_type": "code",
   "execution_count": 7,
   "metadata": {},
   "outputs": [],
   "source": [
    "image_features = [image_features[i] for i in sorted(image_features.keys())]\n",
    "image_features = torch.tensor(np.stack(image_features, axis=0))"
   ]
  },
  {
   "cell_type": "code",
   "execution_count": 8,
   "metadata": {},
   "outputs": [
    {
     "data": {
      "text/plain": [
       "torch.Size([8131, 512])"
      ]
     },
     "execution_count": 8,
     "metadata": {},
     "output_type": "execute_result"
    }
   ],
   "source": [
    "image_features.shape"
   ]
  },
  {
   "cell_type": "code",
   "execution_count": 9,
   "metadata": {},
   "outputs": [
    {
     "data": {
      "text/html": [
       "<div>\n",
       "<style scoped>\n",
       "    .dataframe tbody tr th:only-of-type {\n",
       "        vertical-align: middle;\n",
       "    }\n",
       "\n",
       "    .dataframe tbody tr th {\n",
       "        vertical-align: top;\n",
       "    }\n",
       "\n",
       "    .dataframe thead th {\n",
       "        text-align: right;\n",
       "    }\n",
       "</style>\n",
       "<table border=\"1\" class=\"dataframe\">\n",
       "  <thead>\n",
       "    <tr style=\"text-align: right;\">\n",
       "      <th></th>\n",
       "      <th>img_name</th>\n",
       "      <th>class_name</th>\n",
       "      <th>class_index</th>\n",
       "      <th>manufacturer</th>\n",
       "      <th>model</th>\n",
       "      <th>type</th>\n",
       "      <th>year</th>\n",
       "      <th>color</th>\n",
       "    </tr>\n",
       "  </thead>\n",
       "  <tbody>\n",
       "    <tr>\n",
       "      <th>8054</th>\n",
       "      <td>8055</td>\n",
       "      <td>FIAT 500 Abarth 2012</td>\n",
       "      <td>98</td>\n",
       "      <td>FIAT</td>\n",
       "      <td>500 Abarth</td>\n",
       "      <td>Hatchback</td>\n",
       "      <td>2012</td>\n",
       "      <td>black</td>\n",
       "    </tr>\n",
       "    <tr>\n",
       "      <th>8055</th>\n",
       "      <td>8056</td>\n",
       "      <td>FIAT 500 Abarth 2012</td>\n",
       "      <td>98</td>\n",
       "      <td>FIAT</td>\n",
       "      <td>500 Abarth</td>\n",
       "      <td>Hatchback</td>\n",
       "      <td>2012</td>\n",
       "      <td>black</td>\n",
       "    </tr>\n",
       "    <tr>\n",
       "      <th>8056</th>\n",
       "      <td>8057</td>\n",
       "      <td>FIAT 500 Abarth 2012</td>\n",
       "      <td>98</td>\n",
       "      <td>FIAT</td>\n",
       "      <td>500 Abarth</td>\n",
       "      <td>Hatchback</td>\n",
       "      <td>2012</td>\n",
       "      <td>black</td>\n",
       "    </tr>\n",
       "    <tr>\n",
       "      <th>8057</th>\n",
       "      <td>8058</td>\n",
       "      <td>FIAT 500 Abarth 2012</td>\n",
       "      <td>98</td>\n",
       "      <td>FIAT</td>\n",
       "      <td>500 Abarth</td>\n",
       "      <td>Hatchback</td>\n",
       "      <td>2012</td>\n",
       "      <td>black</td>\n",
       "    </tr>\n",
       "    <tr>\n",
       "      <th>8058</th>\n",
       "      <td>8059</td>\n",
       "      <td>FIAT 500 Abarth 2012</td>\n",
       "      <td>98</td>\n",
       "      <td>FIAT</td>\n",
       "      <td>500 Abarth</td>\n",
       "      <td>Hatchback</td>\n",
       "      <td>2012</td>\n",
       "      <td>black</td>\n",
       "    </tr>\n",
       "    <tr>\n",
       "      <th>...</th>\n",
       "      <td>...</td>\n",
       "      <td>...</td>\n",
       "      <td>...</td>\n",
       "      <td>...</td>\n",
       "      <td>...</td>\n",
       "      <td>...</td>\n",
       "      <td>...</td>\n",
       "      <td>...</td>\n",
       "    </tr>\n",
       "    <tr>\n",
       "      <th>16180</th>\n",
       "      <td>16181</td>\n",
       "      <td>smart fortwo Convertible 2012</td>\n",
       "      <td>195</td>\n",
       "      <td>smart</td>\n",
       "      <td>fortwo</td>\n",
       "      <td>Convertible</td>\n",
       "      <td>2012</td>\n",
       "      <td>black</td>\n",
       "    </tr>\n",
       "    <tr>\n",
       "      <th>16181</th>\n",
       "      <td>16182</td>\n",
       "      <td>smart fortwo Convertible 2012</td>\n",
       "      <td>195</td>\n",
       "      <td>smart</td>\n",
       "      <td>fortwo</td>\n",
       "      <td>Convertible</td>\n",
       "      <td>2012</td>\n",
       "      <td>other</td>\n",
       "    </tr>\n",
       "    <tr>\n",
       "      <th>16182</th>\n",
       "      <td>16183</td>\n",
       "      <td>smart fortwo Convertible 2012</td>\n",
       "      <td>195</td>\n",
       "      <td>smart</td>\n",
       "      <td>fortwo</td>\n",
       "      <td>Convertible</td>\n",
       "      <td>2012</td>\n",
       "      <td>red</td>\n",
       "    </tr>\n",
       "    <tr>\n",
       "      <th>16183</th>\n",
       "      <td>16184</td>\n",
       "      <td>smart fortwo Convertible 2012</td>\n",
       "      <td>195</td>\n",
       "      <td>smart</td>\n",
       "      <td>fortwo</td>\n",
       "      <td>Convertible</td>\n",
       "      <td>2012</td>\n",
       "      <td>white</td>\n",
       "    </tr>\n",
       "    <tr>\n",
       "      <th>16184</th>\n",
       "      <td>16185</td>\n",
       "      <td>smart fortwo Convertible 2012</td>\n",
       "      <td>195</td>\n",
       "      <td>smart</td>\n",
       "      <td>fortwo</td>\n",
       "      <td>Convertible</td>\n",
       "      <td>2012</td>\n",
       "      <td>silver</td>\n",
       "    </tr>\n",
       "  </tbody>\n",
       "</table>\n",
       "<p>8131 rows × 8 columns</p>\n",
       "</div>"
      ],
      "text/plain": [
       "       img_name                     class_name  class_index manufacturer  \\\n",
       "8054       8055           FIAT 500 Abarth 2012           98         FIAT   \n",
       "8055       8056           FIAT 500 Abarth 2012           98         FIAT   \n",
       "8056       8057           FIAT 500 Abarth 2012           98         FIAT   \n",
       "8057       8058           FIAT 500 Abarth 2012           98         FIAT   \n",
       "8058       8059           FIAT 500 Abarth 2012           98         FIAT   \n",
       "...         ...                            ...          ...          ...   \n",
       "16180     16181  smart fortwo Convertible 2012          195        smart   \n",
       "16181     16182  smart fortwo Convertible 2012          195        smart   \n",
       "16182     16183  smart fortwo Convertible 2012          195        smart   \n",
       "16183     16184  smart fortwo Convertible 2012          195        smart   \n",
       "16184     16185  smart fortwo Convertible 2012          195        smart   \n",
       "\n",
       "            model         type  year   color  \n",
       "8054   500 Abarth    Hatchback  2012   black  \n",
       "8055   500 Abarth    Hatchback  2012   black  \n",
       "8056   500 Abarth    Hatchback  2012   black  \n",
       "8057   500 Abarth    Hatchback  2012   black  \n",
       "8058   500 Abarth    Hatchback  2012   black  \n",
       "...           ...          ...   ...     ...  \n",
       "16180      fortwo  Convertible  2012   black  \n",
       "16181      fortwo  Convertible  2012   other  \n",
       "16182      fortwo  Convertible  2012     red  \n",
       "16183      fortwo  Convertible  2012   white  \n",
       "16184      fortwo  Convertible  2012  silver  \n",
       "\n",
       "[8131 rows x 8 columns]"
      ]
     },
     "execution_count": 9,
     "metadata": {},
     "output_type": "execute_result"
    }
   ],
   "source": [
    "df"
   ]
  },
  {
   "cell_type": "markdown",
   "metadata": {},
   "source": [
    "# Experiments"
   ]
  },
  {
   "cell_type": "markdown",
   "metadata": {},
   "source": [
    "## Car Model"
   ]
  },
  {
   "cell_type": "code",
   "execution_count": 10,
   "metadata": {},
   "outputs": [],
   "source": [
    "# # Scrapes all car model names from the kbb page\n",
    "# car_models = pd.read_html(\"https://www.kbb.com/car-make-model-list/new/view-all/make/\")\n",
    "# all_models = car_models[0][\"Make\"] + \" \" + car_models[0][\".css-1mzj64w-ContentWrapper{margin:10px 24px 10px 0px;}Model\"]\n",
    "# all_models = all_models.dropna().tolist()\n",
    "# all_models = list(set(all_models))"
   ]
  },
  {
   "cell_type": "code",
   "execution_count": 11,
   "metadata": {},
   "outputs": [],
   "source": [
    "all_models = torch.load(\"../data/cars196/all_models_scraped_kbb_2022-08-17.pt\")"
   ]
  },
  {
   "cell_type": "code",
   "execution_count": 12,
   "metadata": {},
   "outputs": [
    {
     "name": "stdout",
     "output_type": "stream",
     "text": [
      "Creating text features\n",
      "Run 1\n",
      "Getting Autoencoder performance\n"
     ]
    },
    {
     "name": "stderr",
     "output_type": "stream",
     "text": [
      "Loss (5308): 9.325789451599121: : 5308it [06:16, 14.08it/s] \n"
     ]
    },
    {
     "name": "stdout",
     "output_type": "stream",
     "text": [
      "Finished optimization. Best loss (8.2438325881958) achieved after 5208 iterations.\n",
      "Run 2\n",
      "Getting Autoencoder performance\n"
     ]
    },
    {
     "name": "stderr",
     "output_type": "stream",
     "text": [
      "Loss (4248): 15.136846542358398: : 4248it [05:24, 13.11it/s]\n"
     ]
    },
    {
     "name": "stdout",
     "output_type": "stream",
     "text": [
      "Finished optimization. Best loss (14.2562894821167) achieved after 4148 iterations.\n",
      "Run 3\n",
      "Getting Autoencoder performance\n"
     ]
    },
    {
     "name": "stderr",
     "output_type": "stream",
     "text": [
      "Loss (6253): 10.972328186035156: : 6253it [08:06, 12.86it/s]\n"
     ]
    },
    {
     "name": "stdout",
     "output_type": "stream",
     "text": [
      "Finished optimization. Best loss (9.785943984985352) achieved after 6153 iterations.\n",
      "Run 4\n",
      "Getting Autoencoder performance\n"
     ]
    },
    {
     "name": "stderr",
     "output_type": "stream",
     "text": [
      "Loss (5280): 9.558919906616211: : 5280it [04:52, 18.04it/s] \n"
     ]
    },
    {
     "name": "stdout",
     "output_type": "stream",
     "text": [
      "Finished optimization. Best loss (9.140134811401367) achieved after 5180 iterations.\n",
      "Run 5\n",
      "Getting Autoencoder performance\n"
     ]
    },
    {
     "name": "stderr",
     "output_type": "stream",
     "text": [
      "Loss (6185): 8.08443546295166: : 6185it [04:22, 23.54it/s]  \n"
     ]
    },
    {
     "name": "stdout",
     "output_type": "stream",
     "text": [
      "Finished optimization. Best loss (7.946663856506348) achieved after 6085 iterations.\n"
     ]
    }
   ],
   "source": [
    "labels = df[\"class_name\"].tolist()\n",
    "texts = [f\"a photo of a {m}\" for m in all_models]\n",
    "\n",
    "means, stds = repeat_n_times(num_repetitions, labels, image_features, texts=texts, include_models=include_models)"
   ]
  },
  {
   "cell_type": "code",
   "execution_count": 13,
   "metadata": {},
   "outputs": [
    {
     "data": {
      "text/html": [
       "<div>\n",
       "<style scoped>\n",
       "    .dataframe tbody tr th:only-of-type {\n",
       "        vertical-align: middle;\n",
       "    }\n",
       "\n",
       "    .dataframe tbody tr th {\n",
       "        vertical-align: top;\n",
       "    }\n",
       "\n",
       "    .dataframe thead th {\n",
       "        text-align: right;\n",
       "    }\n",
       "</style>\n",
       "<table border=\"1\" class=\"dataframe\">\n",
       "  <thead>\n",
       "    <tr style=\"text-align: right;\">\n",
       "      <th></th>\n",
       "      <th>AE</th>\n",
       "    </tr>\n",
       "  </thead>\n",
       "  <tbody>\n",
       "    <tr>\n",
       "      <th>AMI</th>\n",
       "      <td>0.605840</td>\n",
       "    </tr>\n",
       "    <tr>\n",
       "      <th>NMI</th>\n",
       "      <td>0.661361</td>\n",
       "    </tr>\n",
       "    <tr>\n",
       "      <th>mean_average_precision</th>\n",
       "      <td>0.304860</td>\n",
       "    </tr>\n",
       "    <tr>\n",
       "      <th>mean_average_precision_at_r</th>\n",
       "      <td>0.200245</td>\n",
       "    </tr>\n",
       "    <tr>\n",
       "      <th>mean_reciprocal_rank</th>\n",
       "      <td>0.744523</td>\n",
       "    </tr>\n",
       "    <tr>\n",
       "      <th>precision_at_1</th>\n",
       "      <td>0.638322</td>\n",
       "    </tr>\n",
       "    <tr>\n",
       "      <th>r_precision</th>\n",
       "      <td>0.326399</td>\n",
       "    </tr>\n",
       "  </tbody>\n",
       "</table>\n",
       "</div>"
      ],
      "text/plain": [
       "                                   AE\n",
       "AMI                          0.605840\n",
       "NMI                          0.661361\n",
       "mean_average_precision       0.304860\n",
       "mean_average_precision_at_r  0.200245\n",
       "mean_reciprocal_rank         0.744523\n",
       "precision_at_1               0.638322\n",
       "r_precision                  0.326399"
      ]
     },
     "metadata": {},
     "output_type": "display_data"
    },
    {
     "data": {
      "text/html": [
       "<div>\n",
       "<style scoped>\n",
       "    .dataframe tbody tr th:only-of-type {\n",
       "        vertical-align: middle;\n",
       "    }\n",
       "\n",
       "    .dataframe tbody tr th {\n",
       "        vertical-align: top;\n",
       "    }\n",
       "\n",
       "    .dataframe thead th {\n",
       "        text-align: right;\n",
       "    }\n",
       "</style>\n",
       "<table border=\"1\" class=\"dataframe\">\n",
       "  <thead>\n",
       "    <tr style=\"text-align: right;\">\n",
       "      <th></th>\n",
       "      <th>AE</th>\n",
       "    </tr>\n",
       "  </thead>\n",
       "  <tbody>\n",
       "    <tr>\n",
       "      <th>AMI</th>\n",
       "      <td>0.072550</td>\n",
       "    </tr>\n",
       "    <tr>\n",
       "      <th>NMI</th>\n",
       "      <td>0.062130</td>\n",
       "    </tr>\n",
       "    <tr>\n",
       "      <th>mean_average_precision</th>\n",
       "      <td>0.070110</td>\n",
       "    </tr>\n",
       "    <tr>\n",
       "      <th>mean_average_precision_at_r</th>\n",
       "      <td>0.058482</td>\n",
       "    </tr>\n",
       "    <tr>\n",
       "      <th>mean_reciprocal_rank</th>\n",
       "      <td>0.063385</td>\n",
       "    </tr>\n",
       "    <tr>\n",
       "      <th>precision_at_1</th>\n",
       "      <td>0.080838</td>\n",
       "    </tr>\n",
       "    <tr>\n",
       "      <th>r_precision</th>\n",
       "      <td>0.058369</td>\n",
       "    </tr>\n",
       "  </tbody>\n",
       "</table>\n",
       "</div>"
      ],
      "text/plain": [
       "                                   AE\n",
       "AMI                          0.072550\n",
       "NMI                          0.062130\n",
       "mean_average_precision       0.070110\n",
       "mean_average_precision_at_r  0.058482\n",
       "mean_reciprocal_rank         0.063385\n",
       "precision_at_1               0.080838\n",
       "r_precision                  0.058369"
      ]
     },
     "metadata": {},
     "output_type": "display_data"
    }
   ],
   "source": [
    "display(means)\n",
    "display(stds)"
   ]
  },
  {
   "cell_type": "code",
   "execution_count": 14,
   "metadata": {},
   "outputs": [
    {
     "name": "stdout",
     "output_type": "stream",
     "text": [
      "\\begin{table}\n",
      "\\centering\n",
      "\\caption{Cars196, Car Model}\n",
      "\\label{fig:cars196_car_models}\n",
      "\\begin{tabular}{@{}rc@{}}\n",
      "\\toprule\n",
      "{} &                 AE \\\\\n",
      "\\midrule\n",
      "\\textbf{AMI   } &  0.606 $\\pm$ 0.073 \\\\\n",
      "\\textbf{NMI   } &  0.661 $\\pm$ 0.062 \\\\\n",
      "\\textbf{MAP   } &  0.305 $\\pm$ 0.070 \\\\\n",
      "\\textbf{MAP@R } &  0.200 $\\pm$ 0.058 \\\\\n",
      "\\textbf{MRR   } &  0.745 $\\pm$ 0.063 \\\\\n",
      "\\textbf{Prec@1} &  0.638 $\\pm$ 0.081 \\\\\n",
      "\\textbf{R-Prec} &  0.326 $\\pm$ 0.058 \\\\\n",
      "\\bottomrule\n",
      "\\end{tabular}\n",
      "\\end{table}\n",
      "\n"
     ]
    },
    {
     "name": "stderr",
     "output_type": "stream",
     "text": [
      "/Users/konstantinkobs/code/2022-dml-clip/experiments/../utils.py:215: FutureWarning: In future versions `DataFrame.to_latex` is expected to utilise the base implementation of `Styler.to_latex` for formatting and rendering. The arguments signature may therefore change. It is recommended instead to use `DataFrame.style.to_latex` which also contains additional functionality.\n",
      "  return final_results.to_latex(bold_rows=True, escape=False, caption=caption, label=label, column_format=columns_format)\n"
     ]
    }
   ],
   "source": [
    "print(get_latex_table(means, stds, \"Cars196, Car Model\", \"fig:cars196_car_models\"))"
   ]
  },
  {
   "cell_type": "code",
   "execution_count": 15,
   "metadata": {},
   "outputs": [
    {
     "name": "stdout",
     "output_type": "stream",
     "text": [
      "### Mean\n",
      "|                             |      AE |\n",
      "|:----------------------------|--------:|\n",
      "| AMI                         | 60.584  |\n",
      "| NMI                         | 66.1361 |\n",
      "| mean_average_precision      | 30.486  |\n",
      "| mean_average_precision_at_r | 20.0245 |\n",
      "| mean_reciprocal_rank        | 74.4523 |\n",
      "| precision_at_1              | 63.8322 |\n",
      "| r_precision                 | 32.6399 |\n",
      "### Std\n",
      "|                             |      AE |\n",
      "|:----------------------------|--------:|\n",
      "| AMI                         | 7.25504 |\n",
      "| NMI                         | 6.21298 |\n",
      "| mean_average_precision      | 7.01105 |\n",
      "| mean_average_precision_at_r | 5.84819 |\n",
      "| mean_reciprocal_rank        | 6.3385  |\n",
      "| precision_at_1              | 8.08381 |\n",
      "| r_precision                 | 5.83694 |\n"
     ]
    }
   ],
   "source": [
    "print(\"### Mean\")\n",
    "print((means*100).to_markdown())\n",
    "print(\"### Std\")\n",
    "print((stds*100).to_markdown())"
   ]
  },
  {
   "cell_type": "markdown",
   "metadata": {},
   "source": [
    "## Car Manufacturer"
   ]
  },
  {
   "cell_type": "code",
   "execution_count": 16,
   "metadata": {},
   "outputs": [],
   "source": [
    "# # Scrapes all car model names from the kbb page\n",
    "# car_models = pd.read_html(\"https://www.kbb.com/car-make-model-list/new/view-all/make/\")\n",
    "# manufacturers = car_models[0][\"Make\"]\n",
    "# manufacturers = manufacturers.dropna().tolist()\n",
    "# manufacturers = list(set(manufacturers))"
   ]
  },
  {
   "cell_type": "code",
   "execution_count": 17,
   "metadata": {},
   "outputs": [],
   "source": [
    "# torch.save(manufacturers, \"../data/cars196/manufacturers_scraped_kbb_2022-08-17.pt\")"
   ]
  },
  {
   "cell_type": "code",
   "execution_count": 18,
   "metadata": {},
   "outputs": [],
   "source": [
    "manufacturers = torch.load(\"../data/cars196/manufacturers_scraped_kbb_2022-08-17.pt\")"
   ]
  },
  {
   "cell_type": "code",
   "execution_count": 19,
   "metadata": {},
   "outputs": [
    {
     "data": {
      "text/plain": [
       "(46, 35)"
      ]
     },
     "execution_count": 19,
     "metadata": {},
     "output_type": "execute_result"
    }
   ],
   "source": [
    "len(manufacturers), df[\"manufacturer\"].nunique()"
   ]
  },
  {
   "cell_type": "code",
   "execution_count": 20,
   "metadata": {},
   "outputs": [
    {
     "name": "stdout",
     "output_type": "stream",
     "text": [
      "Creating text features\n",
      "Run 1\n",
      "Getting Autoencoder performance\n"
     ]
    },
    {
     "name": "stderr",
     "output_type": "stream",
     "text": [
      "Loss (4350): 0.06707895547151566: : 4350it [00:44, 97.68it/s]  \n"
     ]
    },
    {
     "name": "stdout",
     "output_type": "stream",
     "text": [
      "Finished optimization. Best loss (0.04315154254436493) achieved after 4250 iterations.\n",
      "Run 2\n",
      "Getting Autoencoder performance\n"
     ]
    },
    {
     "name": "stderr",
     "output_type": "stream",
     "text": [
      "Loss (3595): 0.07832060754299164: : 3595it [00:35, 100.38it/s] \n"
     ]
    },
    {
     "name": "stdout",
     "output_type": "stream",
     "text": [
      "Finished optimization. Best loss (0.0230050478130579) achieved after 3495 iterations.\n",
      "Run 3\n",
      "Getting Autoencoder performance\n"
     ]
    },
    {
     "name": "stderr",
     "output_type": "stream",
     "text": [
      "Loss (4911): 0.028682399541139603: : 4911it [00:50, 97.42it/s] \n"
     ]
    },
    {
     "name": "stdout",
     "output_type": "stream",
     "text": [
      "Finished optimization. Best loss (0.018377671018242836) achieved after 4811 iterations.\n",
      "Run 4\n",
      "Getting Autoencoder performance\n"
     ]
    },
    {
     "name": "stderr",
     "output_type": "stream",
     "text": [
      "Loss (4383): 0.05439429357647896: : 4383it [00:46, 93.80it/s]  \n"
     ]
    },
    {
     "name": "stdout",
     "output_type": "stream",
     "text": [
      "Finished optimization. Best loss (0.036721475422382355) achieved after 4283 iterations.\n",
      "Run 5\n",
      "Getting Autoencoder performance\n"
     ]
    },
    {
     "name": "stderr",
     "output_type": "stream",
     "text": [
      "Loss (4394): 0.0457974411547184: : 4394it [00:47, 93.31it/s]   \n"
     ]
    },
    {
     "name": "stdout",
     "output_type": "stream",
     "text": [
      "Finished optimization. Best loss (0.023741450160741806) achieved after 4294 iterations.\n"
     ]
    }
   ],
   "source": [
    "labels = df[\"manufacturer\"].tolist()\n",
    "texts = [f\"a photo of a car produced by {m}\" for m in manufacturers]\n",
    "\n",
    "means, stds = repeat_n_times(num_repetitions, labels, image_features, texts=texts, include_models=include_models)"
   ]
  },
  {
   "cell_type": "code",
   "execution_count": 21,
   "metadata": {},
   "outputs": [
    {
     "data": {
      "text/html": [
       "<div>\n",
       "<style scoped>\n",
       "    .dataframe tbody tr th:only-of-type {\n",
       "        vertical-align: middle;\n",
       "    }\n",
       "\n",
       "    .dataframe tbody tr th {\n",
       "        vertical-align: top;\n",
       "    }\n",
       "\n",
       "    .dataframe thead th {\n",
       "        text-align: right;\n",
       "    }\n",
       "</style>\n",
       "<table border=\"1\" class=\"dataframe\">\n",
       "  <thead>\n",
       "    <tr style=\"text-align: right;\">\n",
       "      <th></th>\n",
       "      <th>AE</th>\n",
       "    </tr>\n",
       "  </thead>\n",
       "  <tbody>\n",
       "    <tr>\n",
       "      <th>AMI</th>\n",
       "      <td>0.435673</td>\n",
       "    </tr>\n",
       "    <tr>\n",
       "      <th>NMI</th>\n",
       "      <td>0.448530</td>\n",
       "    </tr>\n",
       "    <tr>\n",
       "      <th>mean_average_precision</th>\n",
       "      <td>0.292637</td>\n",
       "    </tr>\n",
       "    <tr>\n",
       "      <th>mean_average_precision_at_r</th>\n",
       "      <td>0.179695</td>\n",
       "    </tr>\n",
       "    <tr>\n",
       "      <th>mean_reciprocal_rank</th>\n",
       "      <td>0.737193</td>\n",
       "    </tr>\n",
       "    <tr>\n",
       "      <th>precision_at_1</th>\n",
       "      <td>0.631214</td>\n",
       "    </tr>\n",
       "    <tr>\n",
       "      <th>r_precision</th>\n",
       "      <td>0.309417</td>\n",
       "    </tr>\n",
       "  </tbody>\n",
       "</table>\n",
       "</div>"
      ],
      "text/plain": [
       "                                   AE\n",
       "AMI                          0.435673\n",
       "NMI                          0.448530\n",
       "mean_average_precision       0.292637\n",
       "mean_average_precision_at_r  0.179695\n",
       "mean_reciprocal_rank         0.737193\n",
       "precision_at_1               0.631214\n",
       "r_precision                  0.309417"
      ]
     },
     "metadata": {},
     "output_type": "display_data"
    },
    {
     "data": {
      "text/html": [
       "<div>\n",
       "<style scoped>\n",
       "    .dataframe tbody tr th:only-of-type {\n",
       "        vertical-align: middle;\n",
       "    }\n",
       "\n",
       "    .dataframe tbody tr th {\n",
       "        vertical-align: top;\n",
       "    }\n",
       "\n",
       "    .dataframe thead th {\n",
       "        text-align: right;\n",
       "    }\n",
       "</style>\n",
       "<table border=\"1\" class=\"dataframe\">\n",
       "  <thead>\n",
       "    <tr style=\"text-align: right;\">\n",
       "      <th></th>\n",
       "      <th>AE</th>\n",
       "    </tr>\n",
       "  </thead>\n",
       "  <tbody>\n",
       "    <tr>\n",
       "      <th>AMI</th>\n",
       "      <td>0.026471</td>\n",
       "    </tr>\n",
       "    <tr>\n",
       "      <th>NMI</th>\n",
       "      <td>0.025865</td>\n",
       "    </tr>\n",
       "    <tr>\n",
       "      <th>mean_average_precision</th>\n",
       "      <td>0.024229</td>\n",
       "    </tr>\n",
       "    <tr>\n",
       "      <th>mean_average_precision_at_r</th>\n",
       "      <td>0.021859</td>\n",
       "    </tr>\n",
       "    <tr>\n",
       "      <th>mean_reciprocal_rank</th>\n",
       "      <td>0.030217</td>\n",
       "    </tr>\n",
       "    <tr>\n",
       "      <th>precision_at_1</th>\n",
       "      <td>0.038777</td>\n",
       "    </tr>\n",
       "    <tr>\n",
       "      <th>r_precision</th>\n",
       "      <td>0.021342</td>\n",
       "    </tr>\n",
       "  </tbody>\n",
       "</table>\n",
       "</div>"
      ],
      "text/plain": [
       "                                   AE\n",
       "AMI                          0.026471\n",
       "NMI                          0.025865\n",
       "mean_average_precision       0.024229\n",
       "mean_average_precision_at_r  0.021859\n",
       "mean_reciprocal_rank         0.030217\n",
       "precision_at_1               0.038777\n",
       "r_precision                  0.021342"
      ]
     },
     "metadata": {},
     "output_type": "display_data"
    }
   ],
   "source": [
    "display(means)\n",
    "display(stds)"
   ]
  },
  {
   "cell_type": "code",
   "execution_count": 22,
   "metadata": {},
   "outputs": [
    {
     "name": "stdout",
     "output_type": "stream",
     "text": [
      "\\begin{table}\n",
      "\\centering\n",
      "\\caption{Cars196, Manufacturer}\n",
      "\\label{fig:cars196_manufacturer}\n",
      "\\begin{tabular}{@{}rc@{}}\n",
      "\\toprule\n",
      "{} &                 AE \\\\\n",
      "\\midrule\n",
      "\\textbf{AMI   } &  0.436 $\\pm$ 0.026 \\\\\n",
      "\\textbf{NMI   } &  0.449 $\\pm$ 0.026 \\\\\n",
      "\\textbf{MAP   } &  0.293 $\\pm$ 0.024 \\\\\n",
      "\\textbf{MAP@R } &  0.180 $\\pm$ 0.022 \\\\\n",
      "\\textbf{MRR   } &  0.737 $\\pm$ 0.030 \\\\\n",
      "\\textbf{Prec@1} &  0.631 $\\pm$ 0.039 \\\\\n",
      "\\textbf{R-Prec} &  0.309 $\\pm$ 0.021 \\\\\n",
      "\\bottomrule\n",
      "\\end{tabular}\n",
      "\\end{table}\n",
      "\n"
     ]
    },
    {
     "name": "stderr",
     "output_type": "stream",
     "text": [
      "/Users/konstantinkobs/code/2022-dml-clip/experiments/../utils.py:215: FutureWarning: In future versions `DataFrame.to_latex` is expected to utilise the base implementation of `Styler.to_latex` for formatting and rendering. The arguments signature may therefore change. It is recommended instead to use `DataFrame.style.to_latex` which also contains additional functionality.\n",
      "  return final_results.to_latex(bold_rows=True, escape=False, caption=caption, label=label, column_format=columns_format)\n"
     ]
    }
   ],
   "source": [
    "print(get_latex_table(means, stds, \"Cars196, Manufacturer\", \"fig:cars196_manufacturer\"))"
   ]
  },
  {
   "cell_type": "code",
   "execution_count": 23,
   "metadata": {},
   "outputs": [
    {
     "name": "stdout",
     "output_type": "stream",
     "text": [
      "### Mean\n",
      "|                             |       AE |\n",
      "|:----------------------------|---------:|\n",
      "| AMI                         | 0.435673 |\n",
      "| NMI                         | 0.44853  |\n",
      "| mean_average_precision      | 0.292637 |\n",
      "| mean_average_precision_at_r | 0.179695 |\n",
      "| mean_reciprocal_rank        | 0.737193 |\n",
      "| precision_at_1              | 0.631214 |\n",
      "| r_precision                 | 0.309417 |\n",
      "### Std\n",
      "|                             |        AE |\n",
      "|:----------------------------|----------:|\n",
      "| AMI                         | 0.0264714 |\n",
      "| NMI                         | 0.0258648 |\n",
      "| mean_average_precision      | 0.0242294 |\n",
      "| mean_average_precision_at_r | 0.0218587 |\n",
      "| mean_reciprocal_rank        | 0.0302169 |\n",
      "| precision_at_1              | 0.0387769 |\n",
      "| r_precision                 | 0.0213424 |\n"
     ]
    }
   ],
   "source": [
    "print(\"### Mean\")\n",
    "print(means.to_markdown())\n",
    "print(\"### Std\")\n",
    "print(stds.to_markdown())"
   ]
  },
  {
   "cell_type": "markdown",
   "metadata": {},
   "source": [
    "## Car Type"
   ]
  },
  {
   "cell_type": "code",
   "execution_count": 24,
   "metadata": {},
   "outputs": [
    {
     "data": {
      "text/plain": [
       "7"
      ]
     },
     "execution_count": 24,
     "metadata": {},
     "output_type": "execute_result"
    }
   ],
   "source": [
    "df[\"type\"].nunique()"
   ]
  },
  {
   "cell_type": "code",
   "execution_count": 25,
   "metadata": {},
   "outputs": [
    {
     "name": "stdout",
     "output_type": "stream",
     "text": [
      "Creating text features\n",
      "Run 1\n",
      "Getting Autoencoder performance\n"
     ]
    },
    {
     "name": "stderr",
     "output_type": "stream",
     "text": [
      "Loss (1017): 0.002144420053809881: : 1017it [00:07, 137.52it/s] \n"
     ]
    },
    {
     "name": "stdout",
     "output_type": "stream",
     "text": [
      "Finished optimization. Best loss (0.0014160822611302137) achieved after 917 iterations.\n",
      "Run 2\n",
      "Getting Autoencoder performance\n"
     ]
    },
    {
     "name": "stderr",
     "output_type": "stream",
     "text": [
      "Loss (934): 0.0017866528360173106: : 934it [00:08, 116.71it/s]\n"
     ]
    },
    {
     "name": "stdout",
     "output_type": "stream",
     "text": [
      "Finished optimization. Best loss (0.001619459013454616) achieved after 834 iterations.\n",
      "Run 3\n",
      "Getting Autoencoder performance\n"
     ]
    },
    {
     "name": "stderr",
     "output_type": "stream",
     "text": [
      "Loss (2831): 0.0027692886069417: : 2831it [00:22, 124.75it/s]   \n"
     ]
    },
    {
     "name": "stdout",
     "output_type": "stream",
     "text": [
      "Finished optimization. Best loss (0.0018698544008657336) achieved after 2731 iterations.\n",
      "Run 4\n",
      "Getting Autoencoder performance\n"
     ]
    },
    {
     "name": "stderr",
     "output_type": "stream",
     "text": [
      "Loss (1110): 0.002532477956265211: : 1110it [00:08, 126.67it/s] \n"
     ]
    },
    {
     "name": "stdout",
     "output_type": "stream",
     "text": [
      "Finished optimization. Best loss (0.0011555328965187073) achieved after 1010 iterations.\n",
      "Run 5\n",
      "Getting Autoencoder performance\n"
     ]
    },
    {
     "name": "stderr",
     "output_type": "stream",
     "text": [
      "Loss (1211): 0.0019117393530905247: : 1211it [00:10, 120.08it/s]\n"
     ]
    },
    {
     "name": "stdout",
     "output_type": "stream",
     "text": [
      "Finished optimization. Best loss (0.0012035096297040582) achieved after 1111 iterations.\n"
     ]
    }
   ],
   "source": [
    "labels = df[\"type\"].tolist()\n",
    "texts = [f\"a photo of a {m}\" for m in labels]\n",
    "\n",
    "means, stds = repeat_n_times(num_repetitions, labels, image_features, texts=texts, include_models=include_models)"
   ]
  },
  {
   "cell_type": "code",
   "execution_count": 26,
   "metadata": {},
   "outputs": [
    {
     "data": {
      "text/html": [
       "<div>\n",
       "<style scoped>\n",
       "    .dataframe tbody tr th:only-of-type {\n",
       "        vertical-align: middle;\n",
       "    }\n",
       "\n",
       "    .dataframe tbody tr th {\n",
       "        vertical-align: top;\n",
       "    }\n",
       "\n",
       "    .dataframe thead th {\n",
       "        text-align: right;\n",
       "    }\n",
       "</style>\n",
       "<table border=\"1\" class=\"dataframe\">\n",
       "  <thead>\n",
       "    <tr style=\"text-align: right;\">\n",
       "      <th></th>\n",
       "      <th>AE</th>\n",
       "    </tr>\n",
       "  </thead>\n",
       "  <tbody>\n",
       "    <tr>\n",
       "      <th>AMI</th>\n",
       "      <td>0.390225</td>\n",
       "    </tr>\n",
       "    <tr>\n",
       "      <th>NMI</th>\n",
       "      <td>0.390951</td>\n",
       "    </tr>\n",
       "    <tr>\n",
       "      <th>mean_average_precision</th>\n",
       "      <td>0.421300</td>\n",
       "    </tr>\n",
       "    <tr>\n",
       "      <th>mean_average_precision_at_r</th>\n",
       "      <td>0.244207</td>\n",
       "    </tr>\n",
       "    <tr>\n",
       "      <th>mean_reciprocal_rank</th>\n",
       "      <td>0.752729</td>\n",
       "    </tr>\n",
       "    <tr>\n",
       "      <th>precision_at_1</th>\n",
       "      <td>0.632198</td>\n",
       "    </tr>\n",
       "    <tr>\n",
       "      <th>r_precision</th>\n",
       "      <td>0.420223</td>\n",
       "    </tr>\n",
       "  </tbody>\n",
       "</table>\n",
       "</div>"
      ],
      "text/plain": [
       "                                   AE\n",
       "AMI                          0.390225\n",
       "NMI                          0.390951\n",
       "mean_average_precision       0.421300\n",
       "mean_average_precision_at_r  0.244207\n",
       "mean_reciprocal_rank         0.752729\n",
       "precision_at_1               0.632198\n",
       "r_precision                  0.420223"
      ]
     },
     "metadata": {},
     "output_type": "display_data"
    },
    {
     "data": {
      "text/html": [
       "<div>\n",
       "<style scoped>\n",
       "    .dataframe tbody tr th:only-of-type {\n",
       "        vertical-align: middle;\n",
       "    }\n",
       "\n",
       "    .dataframe tbody tr th {\n",
       "        vertical-align: top;\n",
       "    }\n",
       "\n",
       "    .dataframe thead th {\n",
       "        text-align: right;\n",
       "    }\n",
       "</style>\n",
       "<table border=\"1\" class=\"dataframe\">\n",
       "  <thead>\n",
       "    <tr style=\"text-align: right;\">\n",
       "      <th></th>\n",
       "      <th>AE</th>\n",
       "    </tr>\n",
       "  </thead>\n",
       "  <tbody>\n",
       "    <tr>\n",
       "      <th>AMI</th>\n",
       "      <td>0.032115</td>\n",
       "    </tr>\n",
       "    <tr>\n",
       "      <th>NMI</th>\n",
       "      <td>0.032078</td>\n",
       "    </tr>\n",
       "    <tr>\n",
       "      <th>mean_average_precision</th>\n",
       "      <td>0.016596</td>\n",
       "    </tr>\n",
       "    <tr>\n",
       "      <th>mean_average_precision_at_r</th>\n",
       "      <td>0.015891</td>\n",
       "    </tr>\n",
       "    <tr>\n",
       "      <th>mean_reciprocal_rank</th>\n",
       "      <td>0.022292</td>\n",
       "    </tr>\n",
       "    <tr>\n",
       "      <th>precision_at_1</th>\n",
       "      <td>0.031231</td>\n",
       "    </tr>\n",
       "    <tr>\n",
       "      <th>r_precision</th>\n",
       "      <td>0.015197</td>\n",
       "    </tr>\n",
       "  </tbody>\n",
       "</table>\n",
       "</div>"
      ],
      "text/plain": [
       "                                   AE\n",
       "AMI                          0.032115\n",
       "NMI                          0.032078\n",
       "mean_average_precision       0.016596\n",
       "mean_average_precision_at_r  0.015891\n",
       "mean_reciprocal_rank         0.022292\n",
       "precision_at_1               0.031231\n",
       "r_precision                  0.015197"
      ]
     },
     "metadata": {},
     "output_type": "display_data"
    }
   ],
   "source": [
    "display(means)\n",
    "display(stds)"
   ]
  },
  {
   "cell_type": "code",
   "execution_count": 27,
   "metadata": {},
   "outputs": [
    {
     "name": "stdout",
     "output_type": "stream",
     "text": [
      "\\begin{table}\n",
      "\\centering\n",
      "\\caption{Cars196, Car Type}\n",
      "\\label{fig:cars196_car_type}\n",
      "\\begin{tabular}{@{}rc@{}}\n",
      "\\toprule\n",
      "{} &                 AE \\\\\n",
      "\\midrule\n",
      "\\textbf{AMI   } &  0.390 $\\pm$ 0.032 \\\\\n",
      "\\textbf{NMI   } &  0.391 $\\pm$ 0.032 \\\\\n",
      "\\textbf{MAP   } &  0.421 $\\pm$ 0.017 \\\\\n",
      "\\textbf{MAP@R } &  0.244 $\\pm$ 0.016 \\\\\n",
      "\\textbf{MRR   } &  0.753 $\\pm$ 0.022 \\\\\n",
      "\\textbf{Prec@1} &  0.632 $\\pm$ 0.031 \\\\\n",
      "\\textbf{R-Prec} &  0.420 $\\pm$ 0.015 \\\\\n",
      "\\bottomrule\n",
      "\\end{tabular}\n",
      "\\end{table}\n",
      "\n"
     ]
    },
    {
     "name": "stderr",
     "output_type": "stream",
     "text": [
      "/Users/konstantinkobs/code/2022-dml-clip/experiments/../utils.py:215: FutureWarning: In future versions `DataFrame.to_latex` is expected to utilise the base implementation of `Styler.to_latex` for formatting and rendering. The arguments signature may therefore change. It is recommended instead to use `DataFrame.style.to_latex` which also contains additional functionality.\n",
      "  return final_results.to_latex(bold_rows=True, escape=False, caption=caption, label=label, column_format=columns_format)\n"
     ]
    }
   ],
   "source": [
    "print(get_latex_table(means, stds, \"Cars196, Car Type\", \"fig:cars196_car_type\"))"
   ]
  },
  {
   "cell_type": "code",
   "execution_count": 28,
   "metadata": {},
   "outputs": [
    {
     "name": "stdout",
     "output_type": "stream",
     "text": [
      "### Mean\n",
      "|                             |       AE |\n",
      "|:----------------------------|---------:|\n",
      "| AMI                         | 0.390225 |\n",
      "| NMI                         | 0.390951 |\n",
      "| mean_average_precision      | 0.4213   |\n",
      "| mean_average_precision_at_r | 0.244207 |\n",
      "| mean_reciprocal_rank        | 0.752729 |\n",
      "| precision_at_1              | 0.632198 |\n",
      "| r_precision                 | 0.420223 |\n",
      "### Std\n",
      "|                             |        AE |\n",
      "|:----------------------------|----------:|\n",
      "| AMI                         | 0.0321155 |\n",
      "| NMI                         | 0.0320785 |\n",
      "| mean_average_precision      | 0.0165955 |\n",
      "| mean_average_precision_at_r | 0.0158907 |\n",
      "| mean_reciprocal_rank        | 0.0222916 |\n",
      "| precision_at_1              | 0.031231  |\n",
      "| r_precision                 | 0.0151967 |\n"
     ]
    }
   ],
   "source": [
    "print(\"### Mean\")\n",
    "print(means.to_markdown())\n",
    "print(\"### Std\")\n",
    "print(stds.to_markdown())"
   ]
  }
 ],
 "metadata": {
  "interpreter": {
   "hash": "cdc694a4c29a8e83627f4fb3f10aa377f3d41a22792e193fc551a811e775afaf"
  },
  "kernelspec": {
   "display_name": "Python 3.9.9 64-bit ('venv': venv)",
   "language": "python",
   "name": "python3"
  },
  "language_info": {
   "codemirror_mode": {
    "name": "ipython",
    "version": 3
   },
   "file_extension": ".py",
   "mimetype": "text/x-python",
   "name": "python",
   "nbconvert_exporter": "python",
   "pygments_lexer": "ipython3",
   "version": "3.9.13"
  },
  "orig_nbformat": 4
 },
 "nbformat": 4,
 "nbformat_minor": 2
}

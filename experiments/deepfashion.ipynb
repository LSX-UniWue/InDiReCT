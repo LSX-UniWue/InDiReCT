{
 "cells": [
  {
   "cell_type": "markdown",
   "metadata": {},
   "source": [
    "# DeepFashion dataset"
   ]
  },
  {
   "cell_type": "code",
   "execution_count": 1,
   "metadata": {},
   "outputs": [],
   "source": [
    "# %load_ext autoreload\n",
    "# %autoreload 2"
   ]
  },
  {
   "cell_type": "code",
   "execution_count": 2,
   "metadata": {},
   "outputs": [],
   "source": [
    "import sys\n",
    "sys.path.append('../')\n",
    "\n",
    "from utils import repeat_n_times, get_latex_table\n",
    "from IPython.display import display\n",
    "\n",
    "import torch\n",
    "import numpy as np\n",
    "import pandas as pd"
   ]
  },
  {
   "cell_type": "code",
   "execution_count": 3,
   "metadata": {},
   "outputs": [],
   "source": [
    "# Hyperparameters\n",
    "num_repetitions = 5\n",
    "include_models = [\"ae\"]"
   ]
  },
  {
   "cell_type": "markdown",
   "metadata": {},
   "source": [
    "# Creating embeddings"
   ]
  },
  {
   "cell_type": "code",
   "execution_count": 4,
   "metadata": {},
   "outputs": [],
   "source": [
    "with open(\"../data/inshop/Anno_fine/test.txt\") as f:\n",
    "    files = f.read().splitlines()"
   ]
  },
  {
   "cell_type": "code",
   "execution_count": 5,
   "metadata": {},
   "outputs": [],
   "source": [
    "# image_paths = [f\"../data/inshop/{f}\" for f in files]\n",
    "# image_ids = files\n",
    "\n",
    "# create_image_embeddings(image_paths, image_ids, \"../data/inshop/image_features.pt\")"
   ]
  },
  {
   "cell_type": "code",
   "execution_count": 6,
   "metadata": {},
   "outputs": [],
   "source": [
    "# load image features and labels\n",
    "image_features = torch.load(\"../data/inshop/image_features.pt\")"
   ]
  },
  {
   "cell_type": "code",
   "execution_count": 7,
   "metadata": {},
   "outputs": [],
   "source": [
    "image_features = [image_features[f] for f in files]\n",
    "image_features = torch.tensor(np.stack(image_features, axis=0))"
   ]
  },
  {
   "cell_type": "code",
   "execution_count": 8,
   "metadata": {},
   "outputs": [
    {
     "data": {
      "text/plain": [
       "torch.Size([4000, 512])"
      ]
     },
     "execution_count": 8,
     "metadata": {},
     "output_type": "execute_result"
    }
   ],
   "source": [
    "image_features.shape"
   ]
  },
  {
   "cell_type": "markdown",
   "metadata": {},
   "source": [
    "# Experiments"
   ]
  },
  {
   "cell_type": "markdown",
   "metadata": {},
   "source": [
    "## Clothing Category"
   ]
  },
  {
   "cell_type": "code",
   "execution_count": 9,
   "metadata": {},
   "outputs": [],
   "source": [
    "with open(\"../data/inshop/Anno_fine/test_cate.txt\") as f:\n",
    "    labels = f.read().splitlines()"
   ]
  },
  {
   "cell_type": "code",
   "execution_count": 10,
   "metadata": {},
   "outputs": [],
   "source": [
    "categories = pd.read_table(\"../data/inshop/Anno_fine/list_category_cloth.txt\", skiprows=1, delimiter=\"\\s+\", engine=\"python\")[\"category_name\"].tolist()"
   ]
  },
  {
   "cell_type": "code",
   "execution_count": 11,
   "metadata": {},
   "outputs": [
    {
     "data": {
      "text/plain": [
       "50"
      ]
     },
     "execution_count": 11,
     "metadata": {},
     "output_type": "execute_result"
    }
   ],
   "source": [
    "len(set(categories))"
   ]
  },
  {
   "cell_type": "code",
   "execution_count": 12,
   "metadata": {},
   "outputs": [
    {
     "data": {
      "text/plain": [
       "{'Anorak',\n",
       " 'Blazer',\n",
       " 'Blouse',\n",
       " 'Bomber',\n",
       " 'Button-Down',\n",
       " 'Caftan',\n",
       " 'Cape',\n",
       " 'Capris',\n",
       " 'Cardigan',\n",
       " 'Chinos',\n",
       " 'Coat',\n",
       " 'Coverup',\n",
       " 'Culottes',\n",
       " 'Cutoffs',\n",
       " 'Dress',\n",
       " 'Flannel',\n",
       " 'Gauchos',\n",
       " 'Halter',\n",
       " 'Henley',\n",
       " 'Hoodie',\n",
       " 'Jacket',\n",
       " 'Jeans',\n",
       " 'Jeggings',\n",
       " 'Jersey',\n",
       " 'Jodhpurs',\n",
       " 'Joggers',\n",
       " 'Jumpsuit',\n",
       " 'Kaftan',\n",
       " 'Kimono',\n",
       " 'Leggings',\n",
       " 'Nightdress',\n",
       " 'Onesie',\n",
       " 'Parka',\n",
       " 'Peacoat',\n",
       " 'Poncho',\n",
       " 'Robe',\n",
       " 'Romper',\n",
       " 'Sarong',\n",
       " 'Shirtdress',\n",
       " 'Shorts',\n",
       " 'Skirt',\n",
       " 'Sundress',\n",
       " 'Sweater',\n",
       " 'Sweatpants',\n",
       " 'Sweatshorts',\n",
       " 'Tank',\n",
       " 'Tee',\n",
       " 'Top',\n",
       " 'Trunks',\n",
       " 'Turtleneck'}"
      ]
     },
     "execution_count": 12,
     "metadata": {},
     "output_type": "execute_result"
    }
   ],
   "source": [
    "set(categories)"
   ]
  },
  {
   "cell_type": "code",
   "execution_count": 13,
   "metadata": {},
   "outputs": [
    {
     "name": "stdout",
     "output_type": "stream",
     "text": [
      "Creating text features\n",
      "Run 1\n",
      "Getting Autoencoder performance\n"
     ]
    },
    {
     "name": "stderr",
     "output_type": "stream",
     "text": [
      "Loss (3130): 0.03964252024888992: : 3130it [01:10, 44.32it/s] \n"
     ]
    },
    {
     "name": "stdout",
     "output_type": "stream",
     "text": [
      "Finished optimization. Best loss (0.0325947143137455) achieved after 3030 iterations.\n",
      "Run 2\n",
      "Getting Autoencoder performance\n"
     ]
    },
    {
     "name": "stderr",
     "output_type": "stream",
     "text": [
      "Loss (4715): 0.15642796456813812: : 4715it [01:51, 42.31it/s]\n"
     ]
    },
    {
     "name": "stdout",
     "output_type": "stream",
     "text": [
      "Finished optimization. Best loss (0.06285271793603897) achieved after 4615 iterations.\n",
      "Run 3\n",
      "Getting Autoencoder performance\n"
     ]
    },
    {
     "name": "stderr",
     "output_type": "stream",
     "text": [
      "Loss (2367): 0.07597170770168304: : 2367it [00:54, 43.48it/s] \n"
     ]
    },
    {
     "name": "stdout",
     "output_type": "stream",
     "text": [
      "Finished optimization. Best loss (0.04594293609261513) achieved after 2267 iterations.\n",
      "Run 4\n",
      "Getting Autoencoder performance\n"
     ]
    },
    {
     "name": "stderr",
     "output_type": "stream",
     "text": [
      "Loss (4931): 0.037351302802562714: : 4931it [01:51, 44.23it/s]\n"
     ]
    },
    {
     "name": "stdout",
     "output_type": "stream",
     "text": [
      "Finished optimization. Best loss (0.023562725633382797) achieved after 4831 iterations.\n",
      "Run 5\n",
      "Getting Autoencoder performance\n"
     ]
    },
    {
     "name": "stderr",
     "output_type": "stream",
     "text": [
      "Loss (3330): 0.05882713943719864: : 3330it [01:15, 44.20it/s] \n"
     ]
    },
    {
     "name": "stdout",
     "output_type": "stream",
     "text": [
      "Finished optimization. Best loss (0.03440193459391594) achieved after 3230 iterations.\n"
     ]
    }
   ],
   "source": [
    "texts = [f\"a photo of a person wearing a {m}\" for m in set(categories)]\n",
    "\n",
    "means, stds = repeat_n_times(num_repetitions, labels, image_features, texts=texts, include_models=include_models)"
   ]
  },
  {
   "cell_type": "code",
   "execution_count": 14,
   "metadata": {},
   "outputs": [
    {
     "data": {
      "text/html": [
       "<div>\n",
       "<style scoped>\n",
       "    .dataframe tbody tr th:only-of-type {\n",
       "        vertical-align: middle;\n",
       "    }\n",
       "\n",
       "    .dataframe tbody tr th {\n",
       "        vertical-align: top;\n",
       "    }\n",
       "\n",
       "    .dataframe thead th {\n",
       "        text-align: right;\n",
       "    }\n",
       "</style>\n",
       "<table border=\"1\" class=\"dataframe\">\n",
       "  <thead>\n",
       "    <tr style=\"text-align: right;\">\n",
       "      <th></th>\n",
       "      <th>AE</th>\n",
       "    </tr>\n",
       "  </thead>\n",
       "  <tbody>\n",
       "    <tr>\n",
       "      <th>AMI</th>\n",
       "      <td>0.297099</td>\n",
       "    </tr>\n",
       "    <tr>\n",
       "      <th>NMI</th>\n",
       "      <td>0.332509</td>\n",
       "    </tr>\n",
       "    <tr>\n",
       "      <th>mean_average_precision</th>\n",
       "      <td>0.289863</td>\n",
       "    </tr>\n",
       "    <tr>\n",
       "      <th>mean_average_precision_at_r</th>\n",
       "      <td>0.169234</td>\n",
       "    </tr>\n",
       "    <tr>\n",
       "      <th>mean_reciprocal_rank</th>\n",
       "      <td>0.577470</td>\n",
       "    </tr>\n",
       "    <tr>\n",
       "      <th>precision_at_1</th>\n",
       "      <td>0.444895</td>\n",
       "    </tr>\n",
       "    <tr>\n",
       "      <th>r_precision</th>\n",
       "      <td>0.302291</td>\n",
       "    </tr>\n",
       "  </tbody>\n",
       "</table>\n",
       "</div>"
      ],
      "text/plain": [
       "                                   AE\n",
       "AMI                          0.297099\n",
       "NMI                          0.332509\n",
       "mean_average_precision       0.289863\n",
       "mean_average_precision_at_r  0.169234\n",
       "mean_reciprocal_rank         0.577470\n",
       "precision_at_1               0.444895\n",
       "r_precision                  0.302291"
      ]
     },
     "metadata": {},
     "output_type": "display_data"
    },
    {
     "data": {
      "text/html": [
       "<div>\n",
       "<style scoped>\n",
       "    .dataframe tbody tr th:only-of-type {\n",
       "        vertical-align: middle;\n",
       "    }\n",
       "\n",
       "    .dataframe tbody tr th {\n",
       "        vertical-align: top;\n",
       "    }\n",
       "\n",
       "    .dataframe thead th {\n",
       "        text-align: right;\n",
       "    }\n",
       "</style>\n",
       "<table border=\"1\" class=\"dataframe\">\n",
       "  <thead>\n",
       "    <tr style=\"text-align: right;\">\n",
       "      <th></th>\n",
       "      <th>AE</th>\n",
       "    </tr>\n",
       "  </thead>\n",
       "  <tbody>\n",
       "    <tr>\n",
       "      <th>AMI</th>\n",
       "      <td>0.027077</td>\n",
       "    </tr>\n",
       "    <tr>\n",
       "      <th>NMI</th>\n",
       "      <td>0.025715</td>\n",
       "    </tr>\n",
       "    <tr>\n",
       "      <th>mean_average_precision</th>\n",
       "      <td>0.020275</td>\n",
       "    </tr>\n",
       "    <tr>\n",
       "      <th>mean_average_precision_at_r</th>\n",
       "      <td>0.018225</td>\n",
       "    </tr>\n",
       "    <tr>\n",
       "      <th>mean_reciprocal_rank</th>\n",
       "      <td>0.021643</td>\n",
       "    </tr>\n",
       "    <tr>\n",
       "      <th>precision_at_1</th>\n",
       "      <td>0.023709</td>\n",
       "    </tr>\n",
       "    <tr>\n",
       "      <th>r_precision</th>\n",
       "      <td>0.019858</td>\n",
       "    </tr>\n",
       "  </tbody>\n",
       "</table>\n",
       "</div>"
      ],
      "text/plain": [
       "                                   AE\n",
       "AMI                          0.027077\n",
       "NMI                          0.025715\n",
       "mean_average_precision       0.020275\n",
       "mean_average_precision_at_r  0.018225\n",
       "mean_reciprocal_rank         0.021643\n",
       "precision_at_1               0.023709\n",
       "r_precision                  0.019858"
      ]
     },
     "metadata": {},
     "output_type": "display_data"
    }
   ],
   "source": [
    "display(means)\n",
    "display(stds)"
   ]
  },
  {
   "cell_type": "code",
   "execution_count": 15,
   "metadata": {},
   "outputs": [
    {
     "name": "stdout",
     "output_type": "stream",
     "text": [
      "\\begin{table}\n",
      "\\centering\n",
      "\\caption{DeepFashion, Clothing Category}\n",
      "\\label{fig:deepfashion_clothing_category}\n",
      "\\begin{tabular}{@{}rc@{}}\n",
      "\\toprule\n",
      "{} &                 AE \\\\\n",
      "\\midrule\n",
      "\\textbf{AMI   } &  0.297 $\\pm$ 0.027 \\\\\n",
      "\\textbf{NMI   } &  0.333 $\\pm$ 0.026 \\\\\n",
      "\\textbf{MAP   } &  0.290 $\\pm$ 0.020 \\\\\n",
      "\\textbf{MAP@R } &  0.169 $\\pm$ 0.018 \\\\\n",
      "\\textbf{MRR   } &  0.577 $\\pm$ 0.022 \\\\\n",
      "\\textbf{Prec@1} &  0.445 $\\pm$ 0.024 \\\\\n",
      "\\textbf{R-Prec} &  0.302 $\\pm$ 0.020 \\\\\n",
      "\\bottomrule\n",
      "\\end{tabular}\n",
      "\\end{table}\n",
      "\n"
     ]
    },
    {
     "name": "stderr",
     "output_type": "stream",
     "text": [
      "/Users/konstantinkobs/code/2022-dml-clip/experiments/../utils.py:215: FutureWarning: In future versions `DataFrame.to_latex` is expected to utilise the base implementation of `Styler.to_latex` for formatting and rendering. The arguments signature may therefore change. It is recommended instead to use `DataFrame.style.to_latex` which also contains additional functionality.\n",
      "  return final_results.to_latex(bold_rows=True, escape=False, caption=caption, label=label, column_format=columns_format)\n"
     ]
    }
   ],
   "source": [
    "print(get_latex_table(means, stds, \"DeepFashion, Clothing Category\", \"fig:deepfashion_clothing_category\"))"
   ]
  },
  {
   "cell_type": "code",
   "execution_count": 16,
   "metadata": {},
   "outputs": [
    {
     "name": "stdout",
     "output_type": "stream",
     "text": [
      "### Mean\n",
      "|                             |       AE |\n",
      "|:----------------------------|---------:|\n",
      "| AMI                         | 0.297099 |\n",
      "| NMI                         | 0.332509 |\n",
      "| mean_average_precision      | 0.289863 |\n",
      "| mean_average_precision_at_r | 0.169234 |\n",
      "| mean_reciprocal_rank        | 0.57747  |\n",
      "| precision_at_1              | 0.444895 |\n",
      "| r_precision                 | 0.302291 |\n",
      "### Std\n",
      "|                             |        AE |\n",
      "|:----------------------------|----------:|\n",
      "| AMI                         | 0.0270772 |\n",
      "| NMI                         | 0.0257147 |\n",
      "| mean_average_precision      | 0.0202748 |\n",
      "| mean_average_precision_at_r | 0.0182247 |\n",
      "| mean_reciprocal_rank        | 0.0216431 |\n",
      "| precision_at_1              | 0.0237088 |\n",
      "| r_precision                 | 0.0198577 |\n"
     ]
    }
   ],
   "source": [
    "print(\"### Mean\")\n",
    "print(means.to_markdown())\n",
    "print(\"### Std\")\n",
    "print(stds.to_markdown())"
   ]
  },
  {
   "cell_type": "markdown",
   "metadata": {},
   "source": [
    "## Attributes"
   ]
  },
  {
   "cell_type": "code",
   "execution_count": 17,
   "metadata": {},
   "outputs": [],
   "source": [
    "with open(\"../data/inshop/Anno_fine/test_attr.txt\") as f:\n",
    "    attributes = f.read().splitlines()"
   ]
  },
  {
   "cell_type": "code",
   "execution_count": 18,
   "metadata": {},
   "outputs": [],
   "source": [
    "attribute_names = pd.read_table(\"../data/inshop/Anno_fine/list_attr_cloth.txt\", skiprows=1, delimiter=\"\\s+\", engine=\"python\")[\"attribute_name\"].tolist()"
   ]
  },
  {
   "cell_type": "code",
   "execution_count": 19,
   "metadata": {},
   "outputs": [
    {
     "data": {
      "text/plain": [
       "(['floral',\n",
       "  'graphic',\n",
       "  'striped',\n",
       "  'embroidered',\n",
       "  'pleated',\n",
       "  'solid',\n",
       "  'lattice'],\n",
       " ['denim', 'chiffon', 'cotton', 'leather', 'faux', 'knit'],\n",
       " ['tight', 'loose', 'conventional'])"
      ]
     },
     "execution_count": 19,
     "metadata": {},
     "output_type": "execute_result"
    }
   ],
   "source": [
    "attribute_names[:7], attribute_names[17:23], attribute_names[23:]"
   ]
  },
  {
   "cell_type": "code",
   "execution_count": 20,
   "metadata": {},
   "outputs": [
    {
     "data": {
      "text/plain": [
       "(7, 6, 3)"
      ]
     },
     "execution_count": 20,
     "metadata": {},
     "output_type": "execute_result"
    }
   ],
   "source": [
    "len(attribute_names[:7]), len(attribute_names[17:23]), len(attribute_names[23:])"
   ]
  },
  {
   "cell_type": "code",
   "execution_count": 21,
   "metadata": {},
   "outputs": [],
   "source": [
    "texture_labels = [a[:7*2] for a in attributes]\n",
    "fabric_labels = [a[17*2:23*2] for a in attributes]\n",
    "fit_labels = [a[23*2:] for a in attributes]"
   ]
  },
  {
   "cell_type": "code",
   "execution_count": 22,
   "metadata": {},
   "outputs": [],
   "source": [
    "texture_texts = [f\"a photo of a person wearing clothes with a {m} texture\" for m in attribute_names[:7]]\n",
    "fabric_texts = [f\"a photo of a person wearing clothes made out of {m}\" for m in attribute_names[17:23]]\n",
    "fit_texts = [f\"a photo of a person wearing clothes with a {m} fit\" for m in attribute_names[23:]]"
   ]
  },
  {
   "cell_type": "markdown",
   "metadata": {},
   "source": [
    "## Textures"
   ]
  },
  {
   "cell_type": "code",
   "execution_count": 23,
   "metadata": {},
   "outputs": [
    {
     "name": "stdout",
     "output_type": "stream",
     "text": [
      "Creating text features\n",
      "Run 1\n",
      "Getting Autoencoder performance\n"
     ]
    },
    {
     "name": "stderr",
     "output_type": "stream",
     "text": [
      "Loss (3537): 0.08479877561330795: : 3537it [01:16, 46.04it/s]\n"
     ]
    },
    {
     "name": "stdout",
     "output_type": "stream",
     "text": [
      "Finished optimization. Best loss (0.0689525306224823) achieved after 3437 iterations.\n",
      "Run 2\n",
      "Getting Autoencoder performance\n"
     ]
    },
    {
     "name": "stderr",
     "output_type": "stream",
     "text": [
      "Loss (5570): 0.05582106113433838: : 5570it [02:01, 45.87it/s] \n"
     ]
    },
    {
     "name": "stdout",
     "output_type": "stream",
     "text": [
      "Finished optimization. Best loss (0.04006682336330414) achieved after 5470 iterations.\n",
      "Run 3\n",
      "Getting Autoencoder performance\n"
     ]
    },
    {
     "name": "stderr",
     "output_type": "stream",
     "text": [
      "Loss (3262): 0.06857497245073318: : 3262it [01:18, 41.64it/s] \n"
     ]
    },
    {
     "name": "stdout",
     "output_type": "stream",
     "text": [
      "Finished optimization. Best loss (0.0563814602792263) achieved after 3162 iterations.\n",
      "Run 4\n",
      "Getting Autoencoder performance\n"
     ]
    },
    {
     "name": "stderr",
     "output_type": "stream",
     "text": [
      "Loss (2505): 0.04734025523066521: : 2505it [00:53, 47.21it/s] \n"
     ]
    },
    {
     "name": "stdout",
     "output_type": "stream",
     "text": [
      "Finished optimization. Best loss (0.04110969603061676) achieved after 2405 iterations.\n",
      "Run 5\n",
      "Getting Autoencoder performance\n"
     ]
    },
    {
     "name": "stderr",
     "output_type": "stream",
     "text": [
      "Loss (3231): 0.0440501943230629: : 3231it [01:04, 50.42it/s]  \n"
     ]
    },
    {
     "name": "stdout",
     "output_type": "stream",
     "text": [
      "Finished optimization. Best loss (0.037260740995407104) achieved after 3131 iterations.\n"
     ]
    }
   ],
   "source": [
    "means, stds = repeat_n_times(num_repetitions, labels, image_features, texts=texts, include_models=include_models)"
   ]
  },
  {
   "cell_type": "code",
   "execution_count": 24,
   "metadata": {},
   "outputs": [
    {
     "data": {
      "text/html": [
       "<div>\n",
       "<style scoped>\n",
       "    .dataframe tbody tr th:only-of-type {\n",
       "        vertical-align: middle;\n",
       "    }\n",
       "\n",
       "    .dataframe tbody tr th {\n",
       "        vertical-align: top;\n",
       "    }\n",
       "\n",
       "    .dataframe thead th {\n",
       "        text-align: right;\n",
       "    }\n",
       "</style>\n",
       "<table border=\"1\" class=\"dataframe\">\n",
       "  <thead>\n",
       "    <tr style=\"text-align: right;\">\n",
       "      <th></th>\n",
       "      <th>AE</th>\n",
       "    </tr>\n",
       "  </thead>\n",
       "  <tbody>\n",
       "    <tr>\n",
       "      <th>AMI</th>\n",
       "      <td>0.294529</td>\n",
       "    </tr>\n",
       "    <tr>\n",
       "      <th>NMI</th>\n",
       "      <td>0.330067</td>\n",
       "    </tr>\n",
       "    <tr>\n",
       "      <th>mean_average_precision</th>\n",
       "      <td>0.281774</td>\n",
       "    </tr>\n",
       "    <tr>\n",
       "      <th>mean_average_precision_at_r</th>\n",
       "      <td>0.163492</td>\n",
       "    </tr>\n",
       "    <tr>\n",
       "      <th>mean_reciprocal_rank</th>\n",
       "      <td>0.573108</td>\n",
       "    </tr>\n",
       "    <tr>\n",
       "      <th>precision_at_1</th>\n",
       "      <td>0.438338</td>\n",
       "    </tr>\n",
       "    <tr>\n",
       "      <th>r_precision</th>\n",
       "      <td>0.295851</td>\n",
       "    </tr>\n",
       "  </tbody>\n",
       "</table>\n",
       "</div>"
      ],
      "text/plain": [
       "                                   AE\n",
       "AMI                          0.294529\n",
       "NMI                          0.330067\n",
       "mean_average_precision       0.281774\n",
       "mean_average_precision_at_r  0.163492\n",
       "mean_reciprocal_rank         0.573108\n",
       "precision_at_1               0.438338\n",
       "r_precision                  0.295851"
      ]
     },
     "metadata": {},
     "output_type": "display_data"
    },
    {
     "data": {
      "text/html": [
       "<div>\n",
       "<style scoped>\n",
       "    .dataframe tbody tr th:only-of-type {\n",
       "        vertical-align: middle;\n",
       "    }\n",
       "\n",
       "    .dataframe tbody tr th {\n",
       "        vertical-align: top;\n",
       "    }\n",
       "\n",
       "    .dataframe thead th {\n",
       "        text-align: right;\n",
       "    }\n",
       "</style>\n",
       "<table border=\"1\" class=\"dataframe\">\n",
       "  <thead>\n",
       "    <tr style=\"text-align: right;\">\n",
       "      <th></th>\n",
       "      <th>AE</th>\n",
       "    </tr>\n",
       "  </thead>\n",
       "  <tbody>\n",
       "    <tr>\n",
       "      <th>AMI</th>\n",
       "      <td>0.013895</td>\n",
       "    </tr>\n",
       "    <tr>\n",
       "      <th>NMI</th>\n",
       "      <td>0.013196</td>\n",
       "    </tr>\n",
       "    <tr>\n",
       "      <th>mean_average_precision</th>\n",
       "      <td>0.008916</td>\n",
       "    </tr>\n",
       "    <tr>\n",
       "      <th>mean_average_precision_at_r</th>\n",
       "      <td>0.006897</td>\n",
       "    </tr>\n",
       "    <tr>\n",
       "      <th>mean_reciprocal_rank</th>\n",
       "      <td>0.015761</td>\n",
       "    </tr>\n",
       "    <tr>\n",
       "      <th>precision_at_1</th>\n",
       "      <td>0.017232</td>\n",
       "    </tr>\n",
       "    <tr>\n",
       "      <th>r_precision</th>\n",
       "      <td>0.008423</td>\n",
       "    </tr>\n",
       "  </tbody>\n",
       "</table>\n",
       "</div>"
      ],
      "text/plain": [
       "                                   AE\n",
       "AMI                          0.013895\n",
       "NMI                          0.013196\n",
       "mean_average_precision       0.008916\n",
       "mean_average_precision_at_r  0.006897\n",
       "mean_reciprocal_rank         0.015761\n",
       "precision_at_1               0.017232\n",
       "r_precision                  0.008423"
      ]
     },
     "metadata": {},
     "output_type": "display_data"
    }
   ],
   "source": [
    "display(means)\n",
    "display(stds)"
   ]
  },
  {
   "cell_type": "code",
   "execution_count": 25,
   "metadata": {},
   "outputs": [
    {
     "name": "stdout",
     "output_type": "stream",
     "text": [
      "\\begin{table}\n",
      "\\centering\n",
      "\\caption{DeepFashion, Texture}\n",
      "\\label{fig:deepfashion_texture}\n",
      "\\begin{tabular}{@{}rc@{}}\n",
      "\\toprule\n",
      "{} &                 AE \\\\\n",
      "\\midrule\n",
      "\\textbf{AMI   } &  0.295 $\\pm$ 0.014 \\\\\n",
      "\\textbf{NMI   } &  0.330 $\\pm$ 0.013 \\\\\n",
      "\\textbf{MAP   } &  0.282 $\\pm$ 0.009 \\\\\n",
      "\\textbf{MAP@R } &  0.163 $\\pm$ 0.007 \\\\\n",
      "\\textbf{MRR   } &  0.573 $\\pm$ 0.016 \\\\\n",
      "\\textbf{Prec@1} &  0.438 $\\pm$ 0.017 \\\\\n",
      "\\textbf{R-Prec} &  0.296 $\\pm$ 0.008 \\\\\n",
      "\\bottomrule\n",
      "\\end{tabular}\n",
      "\\end{table}\n",
      "\n"
     ]
    },
    {
     "name": "stderr",
     "output_type": "stream",
     "text": [
      "/Users/konstantinkobs/code/2022-dml-clip/experiments/../utils.py:215: FutureWarning: In future versions `DataFrame.to_latex` is expected to utilise the base implementation of `Styler.to_latex` for formatting and rendering. The arguments signature may therefore change. It is recommended instead to use `DataFrame.style.to_latex` which also contains additional functionality.\n",
      "  return final_results.to_latex(bold_rows=True, escape=False, caption=caption, label=label, column_format=columns_format)\n"
     ]
    }
   ],
   "source": [
    "print(get_latex_table(means, stds, \"DeepFashion, Texture\", \"fig:deepfashion_texture\"))"
   ]
  },
  {
   "cell_type": "code",
   "execution_count": 26,
   "metadata": {},
   "outputs": [
    {
     "name": "stdout",
     "output_type": "stream",
     "text": [
      "### Mean\n",
      "|                             |       AE |\n",
      "|:----------------------------|---------:|\n",
      "| AMI                         | 0.294529 |\n",
      "| NMI                         | 0.330067 |\n",
      "| mean_average_precision      | 0.281774 |\n",
      "| mean_average_precision_at_r | 0.163492 |\n",
      "| mean_reciprocal_rank        | 0.573108 |\n",
      "| precision_at_1              | 0.438338 |\n",
      "| r_precision                 | 0.295851 |\n",
      "### Std\n",
      "|                             |         AE |\n",
      "|:----------------------------|-----------:|\n",
      "| AMI                         | 0.0138948  |\n",
      "| NMI                         | 0.0131957  |\n",
      "| mean_average_precision      | 0.00891585 |\n",
      "| mean_average_precision_at_r | 0.00689722 |\n",
      "| mean_reciprocal_rank        | 0.0157614  |\n",
      "| precision_at_1              | 0.0172325  |\n",
      "| r_precision                 | 0.00842332 |\n"
     ]
    }
   ],
   "source": [
    "print(\"### Mean\")\n",
    "print(means.to_markdown())\n",
    "print(\"### Std\")\n",
    "print(stds.to_markdown())"
   ]
  },
  {
   "cell_type": "markdown",
   "metadata": {},
   "source": [
    "## Fabrics"
   ]
  },
  {
   "cell_type": "code",
   "execution_count": 27,
   "metadata": {},
   "outputs": [
    {
     "name": "stdout",
     "output_type": "stream",
     "text": [
      "Creating text features\n",
      "Run 1\n",
      "Getting Autoencoder performance\n"
     ]
    },
    {
     "name": "stderr",
     "output_type": "stream",
     "text": [
      "Loss (5508): 0.038118746131658554: : 5508it [02:20, 39.29it/s]\n"
     ]
    },
    {
     "name": "stdout",
     "output_type": "stream",
     "text": [
      "Finished optimization. Best loss (0.025253895670175552) achieved after 5408 iterations.\n",
      "Run 2\n",
      "Getting Autoencoder performance\n"
     ]
    },
    {
     "name": "stderr",
     "output_type": "stream",
     "text": [
      "Loss (7300): 0.07810890674591064: : 7300it [02:44, 44.48it/s] \n"
     ]
    },
    {
     "name": "stdout",
     "output_type": "stream",
     "text": [
      "Finished optimization. Best loss (0.04454963654279709) achieved after 7200 iterations.\n",
      "Run 3\n",
      "Getting Autoencoder performance\n"
     ]
    },
    {
     "name": "stderr",
     "output_type": "stream",
     "text": [
      "Loss (3252): 0.042050812393426895: : 3252it [01:12, 44.65it/s]\n"
     ]
    },
    {
     "name": "stdout",
     "output_type": "stream",
     "text": [
      "Finished optimization. Best loss (0.02649131417274475) achieved after 3152 iterations.\n",
      "Run 4\n",
      "Getting Autoencoder performance\n"
     ]
    },
    {
     "name": "stderr",
     "output_type": "stream",
     "text": [
      "Loss (2994): 0.060397639870643616: : 2994it [00:59, 50.24it/s]\n"
     ]
    },
    {
     "name": "stdout",
     "output_type": "stream",
     "text": [
      "Finished optimization. Best loss (0.043603233993053436) achieved after 2894 iterations.\n",
      "Run 5\n",
      "Getting Autoencoder performance\n"
     ]
    },
    {
     "name": "stderr",
     "output_type": "stream",
     "text": [
      "Loss (2524): 0.028281791135668755: : 2524it [00:39, 63.73it/s]\n"
     ]
    },
    {
     "name": "stdout",
     "output_type": "stream",
     "text": [
      "Finished optimization. Best loss (0.02289053611457348) achieved after 2424 iterations.\n"
     ]
    }
   ],
   "source": [
    "means, stds = repeat_n_times(num_repetitions, labels, image_features, texts=texts, include_models=include_models)"
   ]
  },
  {
   "cell_type": "code",
   "execution_count": 28,
   "metadata": {},
   "outputs": [
    {
     "data": {
      "text/html": [
       "<div>\n",
       "<style scoped>\n",
       "    .dataframe tbody tr th:only-of-type {\n",
       "        vertical-align: middle;\n",
       "    }\n",
       "\n",
       "    .dataframe tbody tr th {\n",
       "        vertical-align: top;\n",
       "    }\n",
       "\n",
       "    .dataframe thead th {\n",
       "        text-align: right;\n",
       "    }\n",
       "</style>\n",
       "<table border=\"1\" class=\"dataframe\">\n",
       "  <thead>\n",
       "    <tr style=\"text-align: right;\">\n",
       "      <th></th>\n",
       "      <th>AE</th>\n",
       "    </tr>\n",
       "  </thead>\n",
       "  <tbody>\n",
       "    <tr>\n",
       "      <th>AMI</th>\n",
       "      <td>0.302335</td>\n",
       "    </tr>\n",
       "    <tr>\n",
       "      <th>NMI</th>\n",
       "      <td>0.337473</td>\n",
       "    </tr>\n",
       "    <tr>\n",
       "      <th>mean_average_precision</th>\n",
       "      <td>0.294205</td>\n",
       "    </tr>\n",
       "    <tr>\n",
       "      <th>mean_average_precision_at_r</th>\n",
       "      <td>0.172432</td>\n",
       "    </tr>\n",
       "    <tr>\n",
       "      <th>mean_reciprocal_rank</th>\n",
       "      <td>0.580494</td>\n",
       "    </tr>\n",
       "    <tr>\n",
       "      <th>precision_at_1</th>\n",
       "      <td>0.446947</td>\n",
       "    </tr>\n",
       "    <tr>\n",
       "      <th>r_precision</th>\n",
       "      <td>0.307078</td>\n",
       "    </tr>\n",
       "  </tbody>\n",
       "</table>\n",
       "</div>"
      ],
      "text/plain": [
       "                                   AE\n",
       "AMI                          0.302335\n",
       "NMI                          0.337473\n",
       "mean_average_precision       0.294205\n",
       "mean_average_precision_at_r  0.172432\n",
       "mean_reciprocal_rank         0.580494\n",
       "precision_at_1               0.446947\n",
       "r_precision                  0.307078"
      ]
     },
     "metadata": {},
     "output_type": "display_data"
    },
    {
     "data": {
      "text/html": [
       "<div>\n",
       "<style scoped>\n",
       "    .dataframe tbody tr th:only-of-type {\n",
       "        vertical-align: middle;\n",
       "    }\n",
       "\n",
       "    .dataframe tbody tr th {\n",
       "        vertical-align: top;\n",
       "    }\n",
       "\n",
       "    .dataframe thead th {\n",
       "        text-align: right;\n",
       "    }\n",
       "</style>\n",
       "<table border=\"1\" class=\"dataframe\">\n",
       "  <thead>\n",
       "    <tr style=\"text-align: right;\">\n",
       "      <th></th>\n",
       "      <th>AE</th>\n",
       "    </tr>\n",
       "  </thead>\n",
       "  <tbody>\n",
       "    <tr>\n",
       "      <th>AMI</th>\n",
       "      <td>0.010258</td>\n",
       "    </tr>\n",
       "    <tr>\n",
       "      <th>NMI</th>\n",
       "      <td>0.009732</td>\n",
       "    </tr>\n",
       "    <tr>\n",
       "      <th>mean_average_precision</th>\n",
       "      <td>0.004225</td>\n",
       "    </tr>\n",
       "    <tr>\n",
       "      <th>mean_average_precision_at_r</th>\n",
       "      <td>0.006492</td>\n",
       "    </tr>\n",
       "    <tr>\n",
       "      <th>mean_reciprocal_rank</th>\n",
       "      <td>0.015082</td>\n",
       "    </tr>\n",
       "    <tr>\n",
       "      <th>precision_at_1</th>\n",
       "      <td>0.019404</td>\n",
       "    </tr>\n",
       "    <tr>\n",
       "      <th>r_precision</th>\n",
       "      <td>0.004559</td>\n",
       "    </tr>\n",
       "  </tbody>\n",
       "</table>\n",
       "</div>"
      ],
      "text/plain": [
       "                                   AE\n",
       "AMI                          0.010258\n",
       "NMI                          0.009732\n",
       "mean_average_precision       0.004225\n",
       "mean_average_precision_at_r  0.006492\n",
       "mean_reciprocal_rank         0.015082\n",
       "precision_at_1               0.019404\n",
       "r_precision                  0.004559"
      ]
     },
     "metadata": {},
     "output_type": "display_data"
    }
   ],
   "source": [
    "display(means)\n",
    "display(stds)"
   ]
  },
  {
   "cell_type": "code",
   "execution_count": 29,
   "metadata": {},
   "outputs": [
    {
     "name": "stdout",
     "output_type": "stream",
     "text": [
      "\\begin{table}\n",
      "\\centering\n",
      "\\caption{DeepFashion, Fabric}\n",
      "\\label{fig:deepfashion_fabric}\n",
      "\\begin{tabular}{@{}rc@{}}\n",
      "\\toprule\n",
      "{} &                 AE \\\\\n",
      "\\midrule\n",
      "\\textbf{AMI   } &  0.302 $\\pm$ 0.010 \\\\\n",
      "\\textbf{NMI   } &  0.337 $\\pm$ 0.010 \\\\\n",
      "\\textbf{MAP   } &  0.294 $\\pm$ 0.004 \\\\\n",
      "\\textbf{MAP@R } &  0.172 $\\pm$ 0.006 \\\\\n",
      "\\textbf{MRR   } &  0.580 $\\pm$ 0.015 \\\\\n",
      "\\textbf{Prec@1} &  0.447 $\\pm$ 0.019 \\\\\n",
      "\\textbf{R-Prec} &  0.307 $\\pm$ 0.005 \\\\\n",
      "\\bottomrule\n",
      "\\end{tabular}\n",
      "\\end{table}\n",
      "\n"
     ]
    },
    {
     "name": "stderr",
     "output_type": "stream",
     "text": [
      "/Users/konstantinkobs/code/2022-dml-clip/experiments/../utils.py:215: FutureWarning: In future versions `DataFrame.to_latex` is expected to utilise the base implementation of `Styler.to_latex` for formatting and rendering. The arguments signature may therefore change. It is recommended instead to use `DataFrame.style.to_latex` which also contains additional functionality.\n",
      "  return final_results.to_latex(bold_rows=True, escape=False, caption=caption, label=label, column_format=columns_format)\n"
     ]
    }
   ],
   "source": [
    "print(get_latex_table(means, stds, \"DeepFashion, Fabric\", \"fig:deepfashion_fabric\"))"
   ]
  },
  {
   "cell_type": "code",
   "execution_count": 30,
   "metadata": {},
   "outputs": [
    {
     "name": "stdout",
     "output_type": "stream",
     "text": [
      "### Mean\n",
      "|                             |       AE |\n",
      "|:----------------------------|---------:|\n",
      "| AMI                         | 0.302335 |\n",
      "| NMI                         | 0.337473 |\n",
      "| mean_average_precision      | 0.294205 |\n",
      "| mean_average_precision_at_r | 0.172432 |\n",
      "| mean_reciprocal_rank        | 0.580494 |\n",
      "| precision_at_1              | 0.446947 |\n",
      "| r_precision                 | 0.307078 |\n",
      "### Std\n",
      "|                             |         AE |\n",
      "|:----------------------------|-----------:|\n",
      "| AMI                         | 0.0102581  |\n",
      "| NMI                         | 0.00973214 |\n",
      "| mean_average_precision      | 0.00422473 |\n",
      "| mean_average_precision_at_r | 0.00649246 |\n",
      "| mean_reciprocal_rank        | 0.0150819  |\n",
      "| precision_at_1              | 0.0194037  |\n",
      "| r_precision                 | 0.00455904 |\n"
     ]
    }
   ],
   "source": [
    "print(\"### Mean\")\n",
    "print(means.to_markdown())\n",
    "print(\"### Std\")\n",
    "print(stds.to_markdown())"
   ]
  },
  {
   "cell_type": "markdown",
   "metadata": {},
   "source": [
    "## Fit"
   ]
  },
  {
   "cell_type": "code",
   "execution_count": 31,
   "metadata": {},
   "outputs": [
    {
     "name": "stdout",
     "output_type": "stream",
     "text": [
      "Creating text features\n",
      "Run 1\n",
      "Getting Autoencoder performance\n"
     ]
    },
    {
     "name": "stderr",
     "output_type": "stream",
     "text": [
      "Loss (3380): 0.053391244262456894: : 3380it [00:53, 62.96it/s]\n"
     ]
    },
    {
     "name": "stdout",
     "output_type": "stream",
     "text": [
      "Finished optimization. Best loss (0.041648980230093) achieved after 3280 iterations.\n",
      "Run 2\n",
      "Getting Autoencoder performance\n"
     ]
    },
    {
     "name": "stderr",
     "output_type": "stream",
     "text": [
      "Loss (8035): 0.0982588604092598: : 8035it [02:14, 59.95it/s]  \n"
     ]
    },
    {
     "name": "stdout",
     "output_type": "stream",
     "text": [
      "Finished optimization. Best loss (0.033217743039131165) achieved after 7935 iterations.\n",
      "Run 3\n",
      "Getting Autoencoder performance\n"
     ]
    },
    {
     "name": "stderr",
     "output_type": "stream",
     "text": [
      "Loss (1946): 0.05807291343808174: : 1946it [00:35, 54.06it/s] \n"
     ]
    },
    {
     "name": "stdout",
     "output_type": "stream",
     "text": [
      "Finished optimization. Best loss (0.019946303218603134) achieved after 1846 iterations.\n",
      "Run 4\n",
      "Getting Autoencoder performance\n"
     ]
    },
    {
     "name": "stderr",
     "output_type": "stream",
     "text": [
      "Loss (3259): 0.0575898140668869: : 3259it [00:55, 58.23it/s]  \n"
     ]
    },
    {
     "name": "stdout",
     "output_type": "stream",
     "text": [
      "Finished optimization. Best loss (0.033792201429605484) achieved after 3159 iterations.\n",
      "Run 5\n",
      "Getting Autoencoder performance\n"
     ]
    },
    {
     "name": "stderr",
     "output_type": "stream",
     "text": [
      "Loss (3185): 0.042082950472831726: : 3185it [00:50, 62.93it/s]\n"
     ]
    },
    {
     "name": "stdout",
     "output_type": "stream",
     "text": [
      "Finished optimization. Best loss (0.029476622119545937) achieved after 3085 iterations.\n"
     ]
    }
   ],
   "source": [
    "means, stds = repeat_n_times(num_repetitions, labels, image_features, texts=texts, include_models=include_models)"
   ]
  },
  {
   "cell_type": "code",
   "execution_count": 32,
   "metadata": {},
   "outputs": [
    {
     "data": {
      "text/html": [
       "<div>\n",
       "<style scoped>\n",
       "    .dataframe tbody tr th:only-of-type {\n",
       "        vertical-align: middle;\n",
       "    }\n",
       "\n",
       "    .dataframe tbody tr th {\n",
       "        vertical-align: top;\n",
       "    }\n",
       "\n",
       "    .dataframe thead th {\n",
       "        text-align: right;\n",
       "    }\n",
       "</style>\n",
       "<table border=\"1\" class=\"dataframe\">\n",
       "  <thead>\n",
       "    <tr style=\"text-align: right;\">\n",
       "      <th></th>\n",
       "      <th>AE</th>\n",
       "    </tr>\n",
       "  </thead>\n",
       "  <tbody>\n",
       "    <tr>\n",
       "      <th>AMI</th>\n",
       "      <td>0.284345</td>\n",
       "    </tr>\n",
       "    <tr>\n",
       "      <th>NMI</th>\n",
       "      <td>0.320397</td>\n",
       "    </tr>\n",
       "    <tr>\n",
       "      <th>mean_average_precision</th>\n",
       "      <td>0.280221</td>\n",
       "    </tr>\n",
       "    <tr>\n",
       "      <th>mean_average_precision_at_r</th>\n",
       "      <td>0.160950</td>\n",
       "    </tr>\n",
       "    <tr>\n",
       "      <th>mean_reciprocal_rank</th>\n",
       "      <td>0.564661</td>\n",
       "    </tr>\n",
       "    <tr>\n",
       "      <th>precision_at_1</th>\n",
       "      <td>0.428929</td>\n",
       "    </tr>\n",
       "    <tr>\n",
       "      <th>r_precision</th>\n",
       "      <td>0.294301</td>\n",
       "    </tr>\n",
       "  </tbody>\n",
       "</table>\n",
       "</div>"
      ],
      "text/plain": [
       "                                   AE\n",
       "AMI                          0.284345\n",
       "NMI                          0.320397\n",
       "mean_average_precision       0.280221\n",
       "mean_average_precision_at_r  0.160950\n",
       "mean_reciprocal_rank         0.564661\n",
       "precision_at_1               0.428929\n",
       "r_precision                  0.294301"
      ]
     },
     "metadata": {},
     "output_type": "display_data"
    },
    {
     "data": {
      "text/html": [
       "<div>\n",
       "<style scoped>\n",
       "    .dataframe tbody tr th:only-of-type {\n",
       "        vertical-align: middle;\n",
       "    }\n",
       "\n",
       "    .dataframe tbody tr th {\n",
       "        vertical-align: top;\n",
       "    }\n",
       "\n",
       "    .dataframe thead th {\n",
       "        text-align: right;\n",
       "    }\n",
       "</style>\n",
       "<table border=\"1\" class=\"dataframe\">\n",
       "  <thead>\n",
       "    <tr style=\"text-align: right;\">\n",
       "      <th></th>\n",
       "      <th>AE</th>\n",
       "    </tr>\n",
       "  </thead>\n",
       "  <tbody>\n",
       "    <tr>\n",
       "      <th>AMI</th>\n",
       "      <td>0.017281</td>\n",
       "    </tr>\n",
       "    <tr>\n",
       "      <th>NMI</th>\n",
       "      <td>0.016408</td>\n",
       "    </tr>\n",
       "    <tr>\n",
       "      <th>mean_average_precision</th>\n",
       "      <td>0.018868</td>\n",
       "    </tr>\n",
       "    <tr>\n",
       "      <th>mean_average_precision_at_r</th>\n",
       "      <td>0.018391</td>\n",
       "    </tr>\n",
       "    <tr>\n",
       "      <th>mean_reciprocal_rank</th>\n",
       "      <td>0.016877</td>\n",
       "    </tr>\n",
       "    <tr>\n",
       "      <th>precision_at_1</th>\n",
       "      <td>0.018744</td>\n",
       "    </tr>\n",
       "    <tr>\n",
       "      <th>r_precision</th>\n",
       "      <td>0.016914</td>\n",
       "    </tr>\n",
       "  </tbody>\n",
       "</table>\n",
       "</div>"
      ],
      "text/plain": [
       "                                   AE\n",
       "AMI                          0.017281\n",
       "NMI                          0.016408\n",
       "mean_average_precision       0.018868\n",
       "mean_average_precision_at_r  0.018391\n",
       "mean_reciprocal_rank         0.016877\n",
       "precision_at_1               0.018744\n",
       "r_precision                  0.016914"
      ]
     },
     "metadata": {},
     "output_type": "display_data"
    }
   ],
   "source": [
    "display(means)\n",
    "display(stds)"
   ]
  },
  {
   "cell_type": "code",
   "execution_count": 33,
   "metadata": {},
   "outputs": [
    {
     "name": "stdout",
     "output_type": "stream",
     "text": [
      "\\begin{table}\n",
      "\\centering\n",
      "\\caption{DeepFashion, Fit}\n",
      "\\label{fig:deepfashion_fit}\n",
      "\\begin{tabular}{@{}rc@{}}\n",
      "\\toprule\n",
      "{} &                 AE \\\\\n",
      "\\midrule\n",
      "\\textbf{AMI   } &  0.284 $\\pm$ 0.017 \\\\\n",
      "\\textbf{NMI   } &  0.320 $\\pm$ 0.016 \\\\\n",
      "\\textbf{MAP   } &  0.280 $\\pm$ 0.019 \\\\\n",
      "\\textbf{MAP@R } &  0.161 $\\pm$ 0.018 \\\\\n",
      "\\textbf{MRR   } &  0.565 $\\pm$ 0.017 \\\\\n",
      "\\textbf{Prec@1} &  0.429 $\\pm$ 0.019 \\\\\n",
      "\\textbf{R-Prec} &  0.294 $\\pm$ 0.017 \\\\\n",
      "\\bottomrule\n",
      "\\end{tabular}\n",
      "\\end{table}\n",
      "\n"
     ]
    },
    {
     "name": "stderr",
     "output_type": "stream",
     "text": [
      "/Users/konstantinkobs/code/2022-dml-clip/experiments/../utils.py:215: FutureWarning: In future versions `DataFrame.to_latex` is expected to utilise the base implementation of `Styler.to_latex` for formatting and rendering. The arguments signature may therefore change. It is recommended instead to use `DataFrame.style.to_latex` which also contains additional functionality.\n",
      "  return final_results.to_latex(bold_rows=True, escape=False, caption=caption, label=label, column_format=columns_format)\n"
     ]
    }
   ],
   "source": [
    "print(get_latex_table(means, stds, \"DeepFashion, Fit\", \"fig:deepfashion_fit\"))"
   ]
  },
  {
   "cell_type": "code",
   "execution_count": 34,
   "metadata": {},
   "outputs": [
    {
     "name": "stdout",
     "output_type": "stream",
     "text": [
      "### Mean\n",
      "|                             |       AE |\n",
      "|:----------------------------|---------:|\n",
      "| AMI                         | 0.284345 |\n",
      "| NMI                         | 0.320397 |\n",
      "| mean_average_precision      | 0.280221 |\n",
      "| mean_average_precision_at_r | 0.16095  |\n",
      "| mean_reciprocal_rank        | 0.564661 |\n",
      "| precision_at_1              | 0.428929 |\n",
      "| r_precision                 | 0.294301 |\n",
      "### Std\n",
      "|                             |        AE |\n",
      "|:----------------------------|----------:|\n",
      "| AMI                         | 0.0172812 |\n",
      "| NMI                         | 0.0164085 |\n",
      "| mean_average_precision      | 0.0188678 |\n",
      "| mean_average_precision_at_r | 0.0183908 |\n",
      "| mean_reciprocal_rank        | 0.0168769 |\n",
      "| precision_at_1              | 0.0187437 |\n",
      "| r_precision                 | 0.016914  |\n"
     ]
    }
   ],
   "source": [
    "print(\"### Mean\")\n",
    "print(means.to_markdown())\n",
    "print(\"### Std\")\n",
    "print(stds.to_markdown())"
   ]
  }
 ],
 "metadata": {
  "interpreter": {
   "hash": "cdc694a4c29a8e83627f4fb3f10aa377f3d41a22792e193fc551a811e775afaf"
  },
  "kernelspec": {
   "display_name": "Python 3.9.9 64-bit ('venv': venv)",
   "language": "python",
   "name": "python3"
  },
  "language_info": {
   "codemirror_mode": {
    "name": "ipython",
    "version": 3
   },
   "file_extension": ".py",
   "mimetype": "text/x-python",
   "name": "python",
   "nbconvert_exporter": "python",
   "pygments_lexer": "ipython3",
   "version": "3.9.13"
  },
  "orig_nbformat": 4
 },
 "nbformat": 4,
 "nbformat_minor": 2
}

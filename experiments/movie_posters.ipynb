{
 "cells": [
  {
   "cell_type": "markdown",
   "metadata": {},
   "source": [
    "# Movie Posters"
   ]
  },
  {
   "cell_type": "markdown",
   "metadata": {},
   "source": [
    "## Dataset preparation\n",
    "Since the text dataset is stupidly formatted, we need to run the following command:\n",
    "\n",
    "```bash\n",
    "for file in *; do iconv -f `file -I $file | sed -E 's/.+charset\\=(.+)/\\1/g'` -t utf-8 $file | sed -E 's/ObjectId\\((\".+\")\\)/\\1/g' > ../fixed/$file; done\n",
    "for file in *; do echo $file && cat $file | jq -s > ../$file.json; done\n",
    "cat *.json | jq -s \".[][]\" | jq -s  > all.json\n",
    "```"
   ]
  },
  {
   "cell_type": "code",
   "execution_count": 1,
   "metadata": {},
   "outputs": [],
   "source": [
    "# %load_ext autoreload\n",
    "# %autoreload 2"
   ]
  },
  {
   "cell_type": "code",
   "execution_count": 2,
   "metadata": {},
   "outputs": [],
   "source": [
    "import sys\n",
    "sys.path.append('../')\n",
    "\n",
    "from utils import repeat_n_times, get_latex_table\n",
    "from IPython.display import display\n",
    "\n",
    "import torch\n",
    "import numpy as np\n",
    "from glob import glob\n",
    "import pandas as pd"
   ]
  },
  {
   "cell_type": "code",
   "execution_count": 3,
   "metadata": {},
   "outputs": [],
   "source": [
    "# Hyperparameters\n",
    "num_repetitions = 5\n",
    "include_models = [\"ae\"]"
   ]
  },
  {
   "cell_type": "markdown",
   "metadata": {},
   "source": [
    "# Creating embeddings"
   ]
  },
  {
   "cell_type": "code",
   "execution_count": 4,
   "metadata": {},
   "outputs": [],
   "source": [
    "# image_paths = sorted(glob(\"../data/movie_genres/Movie_Poster_Dataset/*/*.jpg\"))\n",
    "# image_ids = [p.split(\"/\")[-1].replace(\".jpg\", \"\") for p in image_paths]\n",
    "\n",
    "# create_image_embeddings(image_paths, image_ids, \"../data/movie_genres/image_features.pt\")"
   ]
  },
  {
   "cell_type": "code",
   "execution_count": 5,
   "metadata": {},
   "outputs": [],
   "source": [
    "# load image features and labels\n",
    "image_features = torch.load(\"../data/movie_genres/image_features.pt\")\n",
    "df = pd.read_json('../data/movie_genres/all.json')"
   ]
  },
  {
   "cell_type": "code",
   "execution_count": 6,
   "metadata": {},
   "outputs": [
    {
     "data": {
      "text/plain": [
       "8873"
      ]
     },
     "execution_count": 6,
     "metadata": {},
     "output_type": "execute_result"
    }
   ],
   "source": [
    "len(df)"
   ]
  },
  {
   "cell_type": "code",
   "execution_count": 7,
   "metadata": {},
   "outputs": [
    {
     "data": {
      "text/plain": [
       "8052"
      ]
     },
     "execution_count": 7,
     "metadata": {},
     "output_type": "execute_result"
    }
   ],
   "source": [
    "len(image_features)"
   ]
  },
  {
   "cell_type": "code",
   "execution_count": 8,
   "metadata": {},
   "outputs": [],
   "source": [
    "df.drop_duplicates(subset=[\"imdbID\"], inplace=True)\n",
    "df = df[df[\"imdbID\"].isin(image_features.keys())]\n",
    "df.sort_values(by=\"imdbID\", inplace=True)"
   ]
  },
  {
   "cell_type": "code",
   "execution_count": 9,
   "metadata": {},
   "outputs": [],
   "source": [
    "image_features = [image_features[i] for i in sorted(image_features.keys())]\n",
    "image_features = torch.tensor(np.stack(image_features, axis=0))"
   ]
  },
  {
   "cell_type": "code",
   "execution_count": 10,
   "metadata": {},
   "outputs": [
    {
     "data": {
      "text/plain": [
       "torch.Size([8052, 512])"
      ]
     },
     "execution_count": 10,
     "metadata": {},
     "output_type": "execute_result"
    }
   ],
   "source": [
    "image_features.shape"
   ]
  },
  {
   "cell_type": "code",
   "execution_count": 11,
   "metadata": {},
   "outputs": [
    {
     "data": {
      "text/plain": [
       "8052"
      ]
     },
     "execution_count": 11,
     "metadata": {},
     "output_type": "execute_result"
    }
   ],
   "source": [
    "len(df)"
   ]
  },
  {
   "cell_type": "markdown",
   "metadata": {},
   "source": [
    "# Experiments"
   ]
  },
  {
   "cell_type": "markdown",
   "metadata": {},
   "source": [
    "## Movie Genre"
   ]
  },
  {
   "cell_type": "code",
   "execution_count": 12,
   "metadata": {},
   "outputs": [],
   "source": [
    "labels = df[\"Genre\"].tolist()\n",
    "labels = [l.split(\",\")[0] for l in labels]"
   ]
  },
  {
   "cell_type": "code",
   "execution_count": 13,
   "metadata": {},
   "outputs": [
    {
     "data": {
      "text/plain": [
       "Comedy         2409\n",
       "Drama          1565\n",
       "Action         1392\n",
       "Documentary     729\n",
       "Crime           444\n",
       "Adventure       359\n",
       "Biography       336\n",
       "Animation       264\n",
       "Horror          249\n",
       "Fantasy          60\n",
       "Thriller         46\n",
       "Short            42\n",
       "Mystery          33\n",
       "Romance          31\n",
       "Family           28\n",
       "Sci-Fi           17\n",
       "Musical          12\n",
       "N/A              11\n",
       "Music             8\n",
       "Western           7\n",
       "War               5\n",
       "History           2\n",
       "Sport             1\n",
       "News              1\n",
       "Reality-TV        1\n",
       "dtype: int64"
      ]
     },
     "execution_count": 13,
     "metadata": {},
     "output_type": "execute_result"
    }
   ],
   "source": [
    "pd.Series(labels).value_counts()"
   ]
  },
  {
   "cell_type": "code",
   "execution_count": 14,
   "metadata": {},
   "outputs": [
    {
     "name": "stdout",
     "output_type": "stream",
     "text": [
      "Creating text features\n",
      "Run 1\n",
      "Getting Autoencoder performance\n"
     ]
    },
    {
     "name": "stderr",
     "output_type": "stream",
     "text": [
      "Loss (5729): 0.028293369337916374: : 5729it [01:44, 54.96it/s]\n"
     ]
    },
    {
     "name": "stdout",
     "output_type": "stream",
     "text": [
      "Finished optimization. Best loss (0.0197127778083086) achieved after 5629 iterations.\n",
      "Run 2\n",
      "Getting Autoencoder performance\n"
     ]
    },
    {
     "name": "stderr",
     "output_type": "stream",
     "text": [
      "Loss (759): 1.562257170677185: : 759it [00:14, 51.48it/s] \n"
     ]
    },
    {
     "name": "stdout",
     "output_type": "stream",
     "text": [
      "Finished optimization. Best loss (1.5612962245941162) achieved after 659 iterations.\n",
      "Run 3\n",
      "Getting Autoencoder performance\n"
     ]
    },
    {
     "name": "stderr",
     "output_type": "stream",
     "text": [
      "Loss (2676): 0.02275640144944191: : 2676it [00:49, 54.48it/s] \n"
     ]
    },
    {
     "name": "stdout",
     "output_type": "stream",
     "text": [
      "Finished optimization. Best loss (0.017924601212143898) achieved after 2576 iterations.\n",
      "Run 4\n",
      "Getting Autoencoder performance\n"
     ]
    },
    {
     "name": "stderr",
     "output_type": "stream",
     "text": [
      "Loss (3975): 0.05168307200074196: : 3975it [01:13, 53.91it/s] \n"
     ]
    },
    {
     "name": "stdout",
     "output_type": "stream",
     "text": [
      "Finished optimization. Best loss (0.04423704743385315) achieved after 3875 iterations.\n",
      "Run 5\n",
      "Getting Autoencoder performance\n"
     ]
    },
    {
     "name": "stderr",
     "output_type": "stream",
     "text": [
      "Loss (3947): 0.03203444927930832: : 3947it [01:24, 46.88it/s] \n"
     ]
    },
    {
     "name": "stdout",
     "output_type": "stream",
     "text": [
      "Finished optimization. Best loss (0.027630770578980446) achieved after 3847 iterations.\n"
     ]
    }
   ],
   "source": [
    "texts = [f\"a poster of a {m} movie\" for m in set(labels)]\n",
    "\n",
    "means, stds = repeat_n_times(num_repetitions, labels, image_features, texts=texts, include_models=include_models)"
   ]
  },
  {
   "cell_type": "code",
   "execution_count": 15,
   "metadata": {},
   "outputs": [
    {
     "data": {
      "text/html": [
       "<div>\n",
       "<style scoped>\n",
       "    .dataframe tbody tr th:only-of-type {\n",
       "        vertical-align: middle;\n",
       "    }\n",
       "\n",
       "    .dataframe tbody tr th {\n",
       "        vertical-align: top;\n",
       "    }\n",
       "\n",
       "    .dataframe thead th {\n",
       "        text-align: right;\n",
       "    }\n",
       "</style>\n",
       "<table border=\"1\" class=\"dataframe\">\n",
       "  <thead>\n",
       "    <tr style=\"text-align: right;\">\n",
       "      <th></th>\n",
       "      <th>AE</th>\n",
       "    </tr>\n",
       "  </thead>\n",
       "  <tbody>\n",
       "    <tr>\n",
       "      <th>AMI</th>\n",
       "      <td>0.106980</td>\n",
       "    </tr>\n",
       "    <tr>\n",
       "      <th>NMI</th>\n",
       "      <td>0.117967</td>\n",
       "    </tr>\n",
       "    <tr>\n",
       "      <th>mean_average_precision</th>\n",
       "      <td>0.242061</td>\n",
       "    </tr>\n",
       "    <tr>\n",
       "      <th>mean_average_precision_at_r</th>\n",
       "      <td>0.098087</td>\n",
       "    </tr>\n",
       "    <tr>\n",
       "      <th>mean_reciprocal_rank</th>\n",
       "      <td>0.494694</td>\n",
       "    </tr>\n",
       "    <tr>\n",
       "      <th>precision_at_1</th>\n",
       "      <td>0.333259</td>\n",
       "    </tr>\n",
       "    <tr>\n",
       "      <th>r_precision</th>\n",
       "      <td>0.248285</td>\n",
       "    </tr>\n",
       "  </tbody>\n",
       "</table>\n",
       "</div>"
      ],
      "text/plain": [
       "                                   AE\n",
       "AMI                          0.106980\n",
       "NMI                          0.117967\n",
       "mean_average_precision       0.242061\n",
       "mean_average_precision_at_r  0.098087\n",
       "mean_reciprocal_rank         0.494694\n",
       "precision_at_1               0.333259\n",
       "r_precision                  0.248285"
      ]
     },
     "metadata": {},
     "output_type": "display_data"
    },
    {
     "data": {
      "text/html": [
       "<div>\n",
       "<style scoped>\n",
       "    .dataframe tbody tr th:only-of-type {\n",
       "        vertical-align: middle;\n",
       "    }\n",
       "\n",
       "    .dataframe tbody tr th {\n",
       "        vertical-align: top;\n",
       "    }\n",
       "\n",
       "    .dataframe thead th {\n",
       "        text-align: right;\n",
       "    }\n",
       "</style>\n",
       "<table border=\"1\" class=\"dataframe\">\n",
       "  <thead>\n",
       "    <tr style=\"text-align: right;\">\n",
       "      <th></th>\n",
       "      <th>AE</th>\n",
       "    </tr>\n",
       "  </thead>\n",
       "  <tbody>\n",
       "    <tr>\n",
       "      <th>AMI</th>\n",
       "      <td>0.043741</td>\n",
       "    </tr>\n",
       "    <tr>\n",
       "      <th>NMI</th>\n",
       "      <td>0.043212</td>\n",
       "    </tr>\n",
       "    <tr>\n",
       "      <th>mean_average_precision</th>\n",
       "      <td>0.027987</td>\n",
       "    </tr>\n",
       "    <tr>\n",
       "      <th>mean_average_precision_at_r</th>\n",
       "      <td>0.024394</td>\n",
       "    </tr>\n",
       "    <tr>\n",
       "      <th>mean_reciprocal_rank</th>\n",
       "      <td>0.026992</td>\n",
       "    </tr>\n",
       "    <tr>\n",
       "      <th>precision_at_1</th>\n",
       "      <td>0.030370</td>\n",
       "    </tr>\n",
       "    <tr>\n",
       "      <th>r_precision</th>\n",
       "      <td>0.030701</td>\n",
       "    </tr>\n",
       "  </tbody>\n",
       "</table>\n",
       "</div>"
      ],
      "text/plain": [
       "                                   AE\n",
       "AMI                          0.043741\n",
       "NMI                          0.043212\n",
       "mean_average_precision       0.027987\n",
       "mean_average_precision_at_r  0.024394\n",
       "mean_reciprocal_rank         0.026992\n",
       "precision_at_1               0.030370\n",
       "r_precision                  0.030701"
      ]
     },
     "metadata": {},
     "output_type": "display_data"
    }
   ],
   "source": [
    "display(means)\n",
    "display(stds)"
   ]
  },
  {
   "cell_type": "code",
   "execution_count": 16,
   "metadata": {},
   "outputs": [
    {
     "name": "stdout",
     "output_type": "stream",
     "text": [
      "\\begin{table}\n",
      "\\centering\n",
      "\\caption{Movie Posters, Genre}\n",
      "\\label{fig:movie_posters_genre}\n",
      "\\begin{tabular}{@{}rc@{}}\n",
      "\\toprule\n",
      "{} &                 AE \\\\\n",
      "\\midrule\n",
      "\\textbf{AMI   } &  0.107 $\\pm$ 0.044 \\\\\n",
      "\\textbf{NMI   } &  0.118 $\\pm$ 0.043 \\\\\n",
      "\\textbf{MAP   } &  0.242 $\\pm$ 0.028 \\\\\n",
      "\\textbf{MAP@R } &  0.098 $\\pm$ 0.024 \\\\\n",
      "\\textbf{MRR   } &  0.495 $\\pm$ 0.027 \\\\\n",
      "\\textbf{Prec@1} &  0.333 $\\pm$ 0.030 \\\\\n",
      "\\textbf{R-Prec} &  0.248 $\\pm$ 0.031 \\\\\n",
      "\\bottomrule\n",
      "\\end{tabular}\n",
      "\\end{table}\n",
      "\n"
     ]
    },
    {
     "name": "stderr",
     "output_type": "stream",
     "text": [
      "/Users/konstantinkobs/code/2022-dml-clip/experiments/../utils.py:215: FutureWarning: In future versions `DataFrame.to_latex` is expected to utilise the base implementation of `Styler.to_latex` for formatting and rendering. The arguments signature may therefore change. It is recommended instead to use `DataFrame.style.to_latex` which also contains additional functionality.\n",
      "  return final_results.to_latex(bold_rows=True, escape=False, caption=caption, label=label, column_format=columns_format)\n"
     ]
    }
   ],
   "source": [
    "print(get_latex_table(means, stds, \"Movie Posters, Genre\", \"fig:movie_posters_genre\"))"
   ]
  },
  {
   "cell_type": "code",
   "execution_count": 17,
   "metadata": {},
   "outputs": [
    {
     "name": "stdout",
     "output_type": "stream",
     "text": [
      "### Mean\n",
      "|                             |       AE |\n",
      "|:----------------------------|---------:|\n",
      "| AMI                         | 0.10698  |\n",
      "| NMI                         | 0.117967 |\n",
      "| mean_average_precision      | 0.242061 |\n",
      "| mean_average_precision_at_r | 0.098087 |\n",
      "| mean_reciprocal_rank        | 0.494694 |\n",
      "| precision_at_1              | 0.333259 |\n",
      "| r_precision                 | 0.248285 |\n",
      "### Std\n",
      "|                             |        AE |\n",
      "|:----------------------------|----------:|\n",
      "| AMI                         | 0.0437407 |\n",
      "| NMI                         | 0.0432118 |\n",
      "| mean_average_precision      | 0.0279874 |\n",
      "| mean_average_precision_at_r | 0.0243944 |\n",
      "| mean_reciprocal_rank        | 0.0269919 |\n",
      "| precision_at_1              | 0.0303698 |\n",
      "| r_precision                 | 0.0307012 |\n"
     ]
    }
   ],
   "source": [
    "print(\"### Mean\")\n",
    "print(means.to_markdown())\n",
    "print(\"### Std\")\n",
    "print(stds.to_markdown())"
   ]
  },
  {
   "cell_type": "markdown",
   "metadata": {},
   "source": [
    "## Production Country"
   ]
  },
  {
   "cell_type": "code",
   "execution_count": 18,
   "metadata": {},
   "outputs": [],
   "source": [
    "labels = df[\"Country\"].tolist()\n",
    "labels = [l.split(\",\")[0] for l in labels]"
   ]
  },
  {
   "cell_type": "code",
   "execution_count": 19,
   "metadata": {},
   "outputs": [
    {
     "data": {
      "text/plain": [
       "USA                       6143\n",
       "UK                         588\n",
       "India                      319\n",
       "France                     200\n",
       "Canada                     183\n",
       "                          ... \n",
       "Burkina Faso                 1\n",
       "Dominican Republic           1\n",
       "Bosnia and Herzegovina       1\n",
       "Aruba                        1\n",
       "Ukraine                      1\n",
       "Length: 69, dtype: int64"
      ]
     },
     "execution_count": 19,
     "metadata": {},
     "output_type": "execute_result"
    }
   ],
   "source": [
    "pd.Series(labels).value_counts()"
   ]
  },
  {
   "cell_type": "code",
   "execution_count": 20,
   "metadata": {},
   "outputs": [
    {
     "name": "stdout",
     "output_type": "stream",
     "text": [
      "Creating text features\n",
      "Run 1\n",
      "Getting Autoencoder performance\n"
     ]
    },
    {
     "name": "stderr",
     "output_type": "stream",
     "text": [
      "Loss (8092): 0.12250929325819016: : 8092it [03:28, 38.73it/s]\n"
     ]
    },
    {
     "name": "stdout",
     "output_type": "stream",
     "text": [
      "Finished optimization. Best loss (0.08888650685548782) achieved after 7992 iterations.\n",
      "Run 2\n",
      "Getting Autoencoder performance\n"
     ]
    },
    {
     "name": "stderr",
     "output_type": "stream",
     "text": [
      "Loss (4420): 0.2699509561061859: : 4420it [02:04, 35.63it/s] \n"
     ]
    },
    {
     "name": "stdout",
     "output_type": "stream",
     "text": [
      "Finished optimization. Best loss (0.21542739868164062) achieved after 4320 iterations.\n",
      "Run 3\n",
      "Getting Autoencoder performance\n"
     ]
    },
    {
     "name": "stderr",
     "output_type": "stream",
     "text": [
      "Loss (4587): 0.3284449577331543: : 4587it [01:57, 39.02it/s] \n"
     ]
    },
    {
     "name": "stdout",
     "output_type": "stream",
     "text": [
      "Finished optimization. Best loss (0.20913584530353546) achieved after 4487 iterations.\n",
      "Run 4\n",
      "Getting Autoencoder performance\n"
     ]
    },
    {
     "name": "stderr",
     "output_type": "stream",
     "text": [
      "Loss (5609): 0.16797733306884766: : 5609it [02:38, 35.46it/s]\n"
     ]
    },
    {
     "name": "stdout",
     "output_type": "stream",
     "text": [
      "Finished optimization. Best loss (0.09635263681411743) achieved after 5509 iterations.\n",
      "Run 5\n",
      "Getting Autoencoder performance\n"
     ]
    },
    {
     "name": "stderr",
     "output_type": "stream",
     "text": [
      "Loss (6171): 0.21248885989189148: : 6171it [02:37, 39.17it/s]\n"
     ]
    },
    {
     "name": "stdout",
     "output_type": "stream",
     "text": [
      "Finished optimization. Best loss (0.20219622552394867) achieved after 6071 iterations.\n"
     ]
    }
   ],
   "source": [
    "texts = [f\"a poster of a movie produced in {m}\" for m in set(labels)]\n",
    "\n",
    "means, stds = repeat_n_times(num_repetitions, labels, image_features, texts=texts, include_models=include_models)"
   ]
  },
  {
   "cell_type": "code",
   "execution_count": 21,
   "metadata": {},
   "outputs": [
    {
     "data": {
      "text/html": [
       "<div>\n",
       "<style scoped>\n",
       "    .dataframe tbody tr th:only-of-type {\n",
       "        vertical-align: middle;\n",
       "    }\n",
       "\n",
       "    .dataframe tbody tr th {\n",
       "        vertical-align: top;\n",
       "    }\n",
       "\n",
       "    .dataframe thead th {\n",
       "        text-align: right;\n",
       "    }\n",
       "</style>\n",
       "<table border=\"1\" class=\"dataframe\">\n",
       "  <thead>\n",
       "    <tr style=\"text-align: right;\">\n",
       "      <th></th>\n",
       "      <th>AE</th>\n",
       "    </tr>\n",
       "  </thead>\n",
       "  <tbody>\n",
       "    <tr>\n",
       "      <th>AMI</th>\n",
       "      <td>0.046727</td>\n",
       "    </tr>\n",
       "    <tr>\n",
       "      <th>NMI</th>\n",
       "      <td>0.090816</td>\n",
       "    </tr>\n",
       "    <tr>\n",
       "      <th>mean_average_precision</th>\n",
       "      <td>0.628757</td>\n",
       "    </tr>\n",
       "    <tr>\n",
       "      <th>mean_average_precision_at_r</th>\n",
       "      <td>0.493525</td>\n",
       "    </tr>\n",
       "    <tr>\n",
       "      <th>mean_reciprocal_rank</th>\n",
       "      <td>0.739011</td>\n",
       "    </tr>\n",
       "    <tr>\n",
       "      <th>precision_at_1</th>\n",
       "      <td>0.649240</td>\n",
       "    </tr>\n",
       "    <tr>\n",
       "      <th>r_precision</th>\n",
       "      <td>0.623929</td>\n",
       "    </tr>\n",
       "  </tbody>\n",
       "</table>\n",
       "</div>"
      ],
      "text/plain": [
       "                                   AE\n",
       "AMI                          0.046727\n",
       "NMI                          0.090816\n",
       "mean_average_precision       0.628757\n",
       "mean_average_precision_at_r  0.493525\n",
       "mean_reciprocal_rank         0.739011\n",
       "precision_at_1               0.649240\n",
       "r_precision                  0.623929"
      ]
     },
     "metadata": {},
     "output_type": "display_data"
    },
    {
     "data": {
      "text/html": [
       "<div>\n",
       "<style scoped>\n",
       "    .dataframe tbody tr th:only-of-type {\n",
       "        vertical-align: middle;\n",
       "    }\n",
       "\n",
       "    .dataframe tbody tr th {\n",
       "        vertical-align: top;\n",
       "    }\n",
       "\n",
       "    .dataframe thead th {\n",
       "        text-align: right;\n",
       "    }\n",
       "</style>\n",
       "<table border=\"1\" class=\"dataframe\">\n",
       "  <thead>\n",
       "    <tr style=\"text-align: right;\">\n",
       "      <th></th>\n",
       "      <th>AE</th>\n",
       "    </tr>\n",
       "  </thead>\n",
       "  <tbody>\n",
       "    <tr>\n",
       "      <th>AMI</th>\n",
       "      <td>0.007248</td>\n",
       "    </tr>\n",
       "    <tr>\n",
       "      <th>NMI</th>\n",
       "      <td>0.006848</td>\n",
       "    </tr>\n",
       "    <tr>\n",
       "      <th>mean_average_precision</th>\n",
       "      <td>0.005327</td>\n",
       "    </tr>\n",
       "    <tr>\n",
       "      <th>mean_average_precision_at_r</th>\n",
       "      <td>0.007289</td>\n",
       "    </tr>\n",
       "    <tr>\n",
       "      <th>mean_reciprocal_rank</th>\n",
       "      <td>0.004634</td>\n",
       "    </tr>\n",
       "    <tr>\n",
       "      <th>precision_at_1</th>\n",
       "      <td>0.006804</td>\n",
       "    </tr>\n",
       "    <tr>\n",
       "      <th>r_precision</th>\n",
       "      <td>0.005511</td>\n",
       "    </tr>\n",
       "  </tbody>\n",
       "</table>\n",
       "</div>"
      ],
      "text/plain": [
       "                                   AE\n",
       "AMI                          0.007248\n",
       "NMI                          0.006848\n",
       "mean_average_precision       0.005327\n",
       "mean_average_precision_at_r  0.007289\n",
       "mean_reciprocal_rank         0.004634\n",
       "precision_at_1               0.006804\n",
       "r_precision                  0.005511"
      ]
     },
     "metadata": {},
     "output_type": "display_data"
    }
   ],
   "source": [
    "display(means)\n",
    "display(stds)"
   ]
  },
  {
   "cell_type": "code",
   "execution_count": 22,
   "metadata": {},
   "outputs": [
    {
     "name": "stdout",
     "output_type": "stream",
     "text": [
      "\\begin{table}\n",
      "\\centering\n",
      "\\caption{Movie Posters, Production Country}\n",
      "\\label{fig:movie_posters_production_country}\n",
      "\\begin{tabular}{@{}rc@{}}\n",
      "\\toprule\n",
      "{} &                 AE \\\\\n",
      "\\midrule\n",
      "\\textbf{AMI   } &  0.047 $\\pm$ 0.007 \\\\\n",
      "\\textbf{NMI   } &  0.091 $\\pm$ 0.007 \\\\\n",
      "\\textbf{MAP   } &  0.629 $\\pm$ 0.005 \\\\\n",
      "\\textbf{MAP@R } &  0.494 $\\pm$ 0.007 \\\\\n",
      "\\textbf{MRR   } &  0.739 $\\pm$ 0.005 \\\\\n",
      "\\textbf{Prec@1} &  0.649 $\\pm$ 0.007 \\\\\n",
      "\\textbf{R-Prec} &  0.624 $\\pm$ 0.006 \\\\\n",
      "\\bottomrule\n",
      "\\end{tabular}\n",
      "\\end{table}\n",
      "\n"
     ]
    },
    {
     "name": "stderr",
     "output_type": "stream",
     "text": [
      "/Users/konstantinkobs/code/2022-dml-clip/experiments/../utils.py:215: FutureWarning: In future versions `DataFrame.to_latex` is expected to utilise the base implementation of `Styler.to_latex` for formatting and rendering. The arguments signature may therefore change. It is recommended instead to use `DataFrame.style.to_latex` which also contains additional functionality.\n",
      "  return final_results.to_latex(bold_rows=True, escape=False, caption=caption, label=label, column_format=columns_format)\n"
     ]
    }
   ],
   "source": [
    "print(get_latex_table(means, stds, \"Movie Posters, Production Country\", \"fig:movie_posters_production_country\"))"
   ]
  },
  {
   "cell_type": "code",
   "execution_count": 23,
   "metadata": {},
   "outputs": [
    {
     "name": "stdout",
     "output_type": "stream",
     "text": [
      "### Mean\n",
      "|                             |        AE |\n",
      "|:----------------------------|----------:|\n",
      "| AMI                         | 0.0467268 |\n",
      "| NMI                         | 0.0908159 |\n",
      "| mean_average_precision      | 0.628757  |\n",
      "| mean_average_precision_at_r | 0.493525  |\n",
      "| mean_reciprocal_rank        | 0.739011  |\n",
      "| precision_at_1              | 0.64924   |\n",
      "| r_precision                 | 0.623929  |\n",
      "### Std\n",
      "|                             |         AE |\n",
      "|:----------------------------|-----------:|\n",
      "| AMI                         | 0.00724767 |\n",
      "| NMI                         | 0.00684797 |\n",
      "| mean_average_precision      | 0.00532681 |\n",
      "| mean_average_precision_at_r | 0.00728949 |\n",
      "| mean_reciprocal_rank        | 0.00463366 |\n",
      "| precision_at_1              | 0.00680438 |\n",
      "| r_precision                 | 0.0055108  |\n"
     ]
    }
   ],
   "source": [
    "print(\"### Mean\")\n",
    "print(means.to_markdown())\n",
    "print(\"### Std\")\n",
    "print(stds.to_markdown())"
   ]
  }
 ],
 "metadata": {
  "interpreter": {
   "hash": "cdc694a4c29a8e83627f4fb3f10aa377f3d41a22792e193fc551a811e775afaf"
  },
  "kernelspec": {
   "display_name": "Python 3.9.9 64-bit ('venv': venv)",
   "language": "python",
   "name": "python3"
  },
  "language_info": {
   "codemirror_mode": {
    "name": "ipython",
    "version": 3
   },
   "file_extension": ".py",
   "mimetype": "text/x-python",
   "name": "python",
   "nbconvert_exporter": "python",
   "pygments_lexer": "ipython3",
   "version": "3.9.13"
  },
  "orig_nbformat": 4
 },
 "nbformat": 4,
 "nbformat_minor": 2
}
